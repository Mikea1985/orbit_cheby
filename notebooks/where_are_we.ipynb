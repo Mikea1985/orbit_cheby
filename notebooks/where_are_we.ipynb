{
 "cells": [
  {
   "cell_type": "code",
   "execution_count": 119,
   "metadata": {},
   "outputs": [
    {
     "data": {
      "text/plain": [
       "<module 'mpcpp.MPC_library' from '/home/malexand/.anaconda3/envs/astroconda36/lib/python3.6/mpcpp/MPC_library.py'>"
      ]
     },
     "execution_count": 119,
     "metadata": {},
     "output_type": "execute_result"
    }
   ],
   "source": [
    "import numpy as np\n",
    "from mpcpp import MPC_library as mpc\n",
    "from astropy import units as u\n",
    "from astropy.time import Time\n",
    "from astropy.coordinates import EarthLocation, solar_system_ephemeris\n",
    "from astropy.coordinates import get_body_barycentric, get_body\n",
    "from jplephem.spk import SPK\n",
    "from importlib import reload\n",
    "reload(mpc)"
   ]
  },
  {
   "cell_type": "code",
   "execution_count": 120,
   "metadata": {},
   "outputs": [],
   "source": [
    "def mpc_xyz(time=2458892.0, obsCode='I11'):\n",
    "    ''' MPC ephemeris '''\n",
    "    obs = mpc.Observatory()\n",
    "\n",
    "    print('MPC XYZ:')\n",
    "    \n",
    "    ''' Heliocentric location of geocenter: '''\n",
    "    helio_500_mpc = obs.getObservatoryPosition(obsCode='500', jd_utc=time, old=False) * u.au\n",
    "    print('Heliocentric location of  geocenter:  {}'.format(helio_500_mpc.to(u.km)))\n",
    "\n",
    "    ''' Heliocentric location of observatory: '''\n",
    "    helio_OBS_mpc = obs.getObservatoryPosition(obsCode=obsCode, jd_utc=time, old=False) * u.au\n",
    "        \n",
    "    ''' Geocentric location of observatory '''\n",
    "    geo_OBS_mpc = helio_OBS_mpc - helio_500_mpc\n",
    "    print(' Geocentric  location of observatory: {}'.format(geo_OBS_mpc.to(u.km)))\n",
    "\n",
    "    print('Heliocentric location of observatory: {}\\n'.format(helio_OBS_mpc.to(u.km)))\n",
    "        \n",
    "    return helio_500_mpc, geo_OBS_mpc, helio_OBS_mpc"
   ]
  },
  {
   "cell_type": "code",
   "execution_count": 121,
   "metadata": {},
   "outputs": [],
   "source": [
    "def apy_xyz(time=2458892.0, site_name='gemini_south'):\n",
    "    ''' Astropy ephemeris '''\n",
    "    print('Astropy XYZ:')\n",
    "    t_jd = Time(time, format='jd')\n",
    "    \n",
    "    ''' Barycentric location of geocenter: '''\n",
    "    bary_500_apy = get_body_barycentric('earth', t_jd, ephemeris='de430').xyz\n",
    "\n",
    "    ''' Barycentric location of the Sun: '''\n",
    "    bary_Sun_apy = get_body_barycentric('sun', t_jd, ephemeris='de430').xyz\n",
    "\n",
    "    ''' Heliocentric location of geocenter: '''\n",
    "    helio_500_apy = bary_500_apy - bary_Sun_apy\n",
    "    print('Heliocentric location of  geocenter:  {}'.format(helio_500_apy))\n",
    "\n",
    "    ''' Geocentric location of observatory: '''\n",
    "    loc_0 = EarthLocation.of_site(site_name)        # at reference time\n",
    "    loc_t, _ = loc_0.get_gcrs_posvel(obstime=t_jd)  # at correct time\n",
    "    geo_OBS_apy = loc_t.xyz                         # in km, not AU\n",
    "    print(' Geocentric  location of observatory: {}'.format(geo_OBS_apy))\n",
    "\n",
    "    ''' Heliocentric location of observatory: '''\n",
    "    helio_OBS_apy = helio_500_apy + geo_OBS_apy\n",
    "    print('Heliocentric location of observatory: {}\\n'.format(helio_OBS_apy))\n",
    "    \n",
    "    return helio_500_apy, geo_OBS_apy, helio_OBS_apy"
   ]
  },
  {
   "cell_type": "code",
   "execution_count": 122,
   "metadata": {},
   "outputs": [],
   "source": [
    "def diff_apy_mpc(time=2458892.0, obsCode='I11', site_name='gemini_south'):\n",
    "    ''' Comparing Astropy and MPC '''\n",
    "    print('v'*30, site_name, obsCode, 'v'*30)\n",
    "\n",
    "    helio_500_apy, geo_OBS_apy, helio_OBS_apy = apy_xyz(time, site_name)\n",
    "    helio_500_mpc, geo_OBS_mpc, helio_OBS_mpc = mpc_xyz(time, obsCode)\n",
    "\n",
    "    print('Discrepancies (Astropy - MPC):')\n",
    "    helio_500_diff = helio_500_apy - helio_500_mpc\n",
    "    helio_500_diff_abs = (np.sum(helio_500_diff ** 2) ** 0.5).to(u.m)\n",
    "    print('Heliocentric location of  geocenter:  {0:}'.format(helio_500_diff_abs))\n",
    "\n",
    "    geo_OBS_diff = geo_OBS_apy - geo_OBS_mpc\n",
    "    geo_OBS_diff_abs = (np.sum(geo_OBS_diff ** 2) ** 0.5).to(u.m)\n",
    "    print(' Geocentric  location of observatory: {0:}'.format(geo_OBS_diff_abs))\n",
    "\n",
    "    helio_OBS_diff = helio_OBS_apy - helio_OBS_mpc\n",
    "    helio_OBS_diff_abs = (np.sum(helio_OBS_diff ** 2) ** 0.5).to(u.m)\n",
    "    print('Heliocentric location of observatory: {0:}'.format(helio_OBS_diff_abs))\n",
    "    \n",
    "    print('^'*30, site_name, obsCode, '^'*30, '\\n')\n",
    "    \n",
    "    return helio_500_apy, geo_OBS_apy, helio_OBS_apy, helio_500_mpc, geo_OBS_mpc, helio_OBS_mpc"
   ]
  },
  {
   "cell_type": "code",
   "execution_count": 178,
   "metadata": {
    "scrolled": true
   },
   "outputs": [
    {
     "name": "stdout",
     "output_type": "stream",
     "text": [
      "vvvvvvvvvvvvvvvvvvvvvvvvvvvvvv gemini_south I11 vvvvvvvvvvvvvvvvvvvvvvvvvvvvvv\n",
      "JPL XYZ:\n",
      "Heliocentric location of  geocenter:  [-1.17854006e+08  8.16169879e+07  3.53807465e+07] km\n",
      " Geocentric  location of observatory: [-1800873.36845069 -5217154.39563667 -3191412.49208819] m\n",
      "Heliocentric location of observatory: [-1.17855807e+08  8.16117707e+07  3.53775551e+07] km\n",
      "\n",
      "MPC XYZ:\n",
      "Heliocentric location of  geocenter:  [-1.17854006e+08  8.16169879e+07  3.53807465e+07] km\n",
      " Geocentric  location of observatory: [-1800.85214402 -5217.13544829 -3191.38491209] km\n",
      "Heliocentric location of observatory: [-1.17855807e+08  8.16117708e+07  3.53775551e+07] km\n",
      "\n",
      "Discrepancies (Astropy - MPC):\n",
      "Heliocentric location of  geocenter:  0.057528397285059554 m\n",
      " Geocentric  location of observatory: 39.62492005329099 m\n",
      "Heliocentric location of observatory: 39.57350578093613 m\n",
      "^^^^^^^^^^^^^^^^^^^^^^^^^^^^^^ gemini_south I11 ^^^^^^^^^^^^^^^^^^^^^^^^^^^^^^ \n",
      "\n",
      "vvvvvvvvvvvvvvvvvvvvvvvvvvvvvv Subaru T09 vvvvvvvvvvvvvvvvvvvvvvvvvvvvvv\n",
      "JPL XYZ:\n",
      "Heliocentric location of  geocenter:  [-1.17854006e+08  8.16169879e+07  3.53807465e+07] km\n",
      " Geocentric  location of observatory: [-5830704.30769562  1424836.43102454  2162178.30882844] m\n",
      "Heliocentric location of observatory: [-1.17859837e+08  8.16184127e+07  3.53829086e+07] km\n",
      "\n",
      "MPC XYZ:\n",
      "Heliocentric location of  geocenter:  [-1.17854006e+08  8.16169879e+07  3.53807465e+07] km\n",
      " Geocentric  location of observatory: [-5830.72806389  1424.83123491  2162.17832006] km\n",
      "Heliocentric location of observatory: [-1.17859837e+08  8.16184127e+07  3.53829086e+07] km\n",
      "\n",
      "Discrepancies (Astropy - MPC):\n",
      "Heliocentric location of  geocenter:  0.057528397285059554 m\n",
      " Geocentric  location of observatory: 24.317825531368022 m\n",
      "Heliocentric location of observatory: 24.36112535077841 m\n",
      "^^^^^^^^^^^^^^^^^^^^^^^^^^^^^^ Subaru T09 ^^^^^^^^^^^^^^^^^^^^^^^^^^^^^^ \n",
      "\n",
      "vvvvvvvvvvvvvvvvvvvvvvvvvvvvvv Large Binocular Telescope G83 vvvvvvvvvvvvvvvvvvvvvvvvvvvvvv\n",
      "JPL XYZ:\n",
      "Heliocentric location of  geocenter:  [-1.17854006e+08  8.16169879e+07  3.53807465e+07] km\n",
      " Geocentric  location of observatory: [-4557428.44781111 -2838822.42604555  3436487.12365724] m\n",
      "Heliocentric location of observatory: [-1.17858563e+08  8.16141491e+07  3.53841830e+07] km\n",
      "\n",
      "MPC XYZ:\n",
      "Heliocentric location of  geocenter:  [-1.17854006e+08  8.16169879e+07  3.53807465e+07] km\n",
      " Geocentric  location of observatory: [-4558.51070973 -2837.54036105  3436.62930815] km\n",
      "Heliocentric location of observatory: [-1.17858564e+08  8.16141504e+07  3.53841831e+07] km\n",
      "\n",
      "Discrepancies (Astropy - MPC):\n",
      "Heliocentric location of  geocenter:  0.057528397285059554 m\n",
      " Geocentric  location of observatory: 1683.8046063191355 m\n",
      "Heliocentric location of observatory: 1683.7938501091342 m\n",
      "^^^^^^^^^^^^^^^^^^^^^^^^^^^^^^ Large Binocular Telescope G83 ^^^^^^^^^^^^^^^^^^^^^^^^^^^^^^ \n",
      "\n",
      "vvvvvvvvvvvvvvvvvvvvvvvvvvvvvv Large Binocular Telescope G83 vvvvvvvvvvvvvvvvvvvvvvvvvvvvvv\n",
      "JPL XYZ:\n",
      "Heliocentric location of  geocenter:  [ 1.18040683e+08 -8.72007193e+07 -3.78015206e+07] km\n",
      " Geocentric  location of observatory: [4539535.29527381 2887863.63679486 3419265.05154494] m\n",
      "Heliocentric location of observatory: [ 1.18045222e+08 -8.71978315e+07 -3.77981013e+07] km\n",
      "\n",
      "MPC XYZ:\n",
      "Heliocentric location of  geocenter:  [ 1.18040683e+08 -8.72007193e+07 -3.78015206e+07] km\n",
      " Geocentric  location of observatory: [4540.63241556 2886.59246731 3419.40307472] km\n",
      "Heliocentric location of observatory: [ 1.18045224e+08 -8.71978327e+07 -3.77981012e+07] km\n",
      "\n",
      "Discrepancies (Astropy - MPC):\n",
      "Heliocentric location of  geocenter:  0.8968116888432283 m\n",
      " Geocentric  location of observatory: 1684.8131009319814 m\n",
      "Heliocentric location of observatory: 1684.7100983077603 m\n",
      "^^^^^^^^^^^^^^^^^^^^^^^^^^^^^^ Large Binocular Telescope G83 ^^^^^^^^^^^^^^^^^^^^^^^^^^^^^^ \n",
      "\n",
      "vvvvvvvvvvvvvvvvvvvvvvvvvvvvvv Large Binocular Telescope G83 vvvvvvvvvvvvvvvvvvvvvvvvvvvvvv\n",
      "JPL XYZ:\n",
      "Heliocentric location of  geocenter:  [9.40979786e+07 1.04860809e+08 4.54570428e+07] km\n",
      " Geocentric  location of observatory: [-2856906.38622194  4548591.5985636   3433207.09311691] m\n",
      "Heliocentric location of observatory: [9.40951217e+07 1.04865358e+08 4.54604760e+07] km\n",
      "\n",
      "MPC XYZ:\n",
      "Heliocentric location of  geocenter:  [9.40979786e+07 1.04860809e+08 4.54570428e+07] km\n",
      " Geocentric  location of observatory: [-2855.62906771  4549.68156986  3433.34478803] km\n",
      "Heliocentric location of observatory: [9.40951230e+07 1.04865359e+08 4.54604761e+07] km\n",
      "\n",
      "Discrepancies (Astropy - MPC):\n",
      "Heliocentric location of  geocenter:  0.4590288550123535 m\n",
      " Geocentric  location of observatory: 1684.7966972170457 m\n",
      "Heliocentric location of observatory: 1684.7049766993953 m\n",
      "^^^^^^^^^^^^^^^^^^^^^^^^^^^^^^ Large Binocular Telescope G83 ^^^^^^^^^^^^^^^^^^^^^^^^^^^^^^ \n",
      "\n"
     ]
    }
   ],
   "source": [
    "time_jd = 2458892.0\n",
    "helio_500_apy, geo_OBS_apy, helio_OBS_apy, helio_500_mpc, geo_OBS_mpc, helio_OBS_mpc = diff_apy_mpc(time_jd, 'I11', 'gemini_south')\n",
    "helio_500_apy, geo_OBS_apy, helio_OBS_apy, helio_500_mpc, geo_OBS_mpc, helio_OBS_mpc = diff_apy_mpc(time_jd, 'T14', 'CFHT')  # Mauna Kea-UH/Tholen NEO Follow-Up (CFHT)\n",
    "helio_500_apy, geo_OBS_apy, helio_OBS_apy, helio_500_mpc, geo_OBS_mpc, helio_OBS_mpc = diff_apy_mpc(time_jd, 'T09', 'Subaru')  # Mauna Kea-UH/Tholen NEO Follow-Up (Subaru)\n",
    "helio_500_apy, geo_OBS_apy, helio_OBS_apy, helio_500_mpc, geo_OBS_mpc, helio_OBS_mpc = diff_apy_mpc(time_jd, 'G83', 'Large Binocular Telescope')  # Mt. Graham-LBT\n",
    "helio_500_apy, geo_OBS_apy, helio_OBS_apy, helio_500_mpc, geo_OBS_mpc, helio_OBS_mpc = diff_apy_mpc(time_jd-182, 'G83', 'Large Binocular Telescope')  # Mt. Graham-LBT\n",
    "helio_500_apy, geo_OBS_apy, helio_OBS_apy, helio_500_mpc, geo_OBS_mpc, helio_OBS_mpc = diff_apy_mpc(time_jd-91, 'G83', 'Large Binocular Telescope')  # Mt. Graham-LBT"
   ]
  },
  {
   "cell_type": "code",
   "execution_count": 179,
   "metadata": {},
   "outputs": [
    {
     "name": "stdout",
     "output_type": "stream",
     "text": [
      "[0.62900614 0.70095122 0.30386156] AU\n"
     ]
    }
   ],
   "source": [
    "print(helio_500_mpc)"
   ]
  },
  {
   "cell_type": "code",
   "execution_count": 189,
   "metadata": {},
   "outputs": [],
   "source": [
    "#EarthLocation.get_site_names()"
   ]
  },
  {
   "cell_type": "code",
   "execution_count": 186,
   "metadata": {},
   "outputs": [
    {
     "name": "stdout",
     "output_type": "stream",
     "text": [
      "[-1276.04811281 -1090.09543101  -142.71298803] m\n",
      "[ 1.27040217 -0.12413123 -5.01807926] m\n"
     ]
    }
   ],
   "source": [
    "'''geocentric location of observatory'''\n",
    "geo_OBS_horizons = [1.800856351642355E+03, 5.217132743849016E+03, 3.191382310369976E+03] * u.km\n",
    "#geo_OBS_horizons = [3.897755155906439E-05, -9.519648682208122E-06, -1.445320321166943E-05] * u.au\n",
    "geo_OBS_horizons = [3.897607996384405E-05, -9.524410913145084E-06, -1.445330040715949E-05] * u.au\n",
    "geo_OBS_horizons = [3.047176273153229E-05, 1.896779432438119E-05, -2.297248162195744E-05] * u.au\n",
    "geo_OBS_horizons = [-3.035225384512615E-05, -1.929568746151384E-05,-2.285733119326494E-05] * u.au\n",
    "geo_OBS_horizons = [1.908870978408335E-05, -3.041274366209686E-05, -2.295052590013195E-05] * u.au\n",
    "'''Astropy-Horizons'''\n",
    "print((geo_OBS_apy + geo_OBS_horizons).to(u.m))\n",
    "#print((np.sum((geo_OBS_apy + geo_OBS_horizons) ** 2) ** 0.5).to(u.m))\n",
    "'''MPC-Horizons'''\n",
    "print((geo_OBS_mpc + geo_OBS_horizons).to(u.m))\n",
    "#print((np.sum((geo_OBS_mpc + geo_OBS_horizons) ** 2) ** 0.5).to(u.m))"
   ]
  },
  {
   "cell_type": "code",
   "execution_count": 187,
   "metadata": {},
   "outputs": [
    {
     "name": "stdout",
     "output_type": "stream",
     "text": [
      "[2.11951985e+11 2.32438214e+10 1.00762963e+10] m\n",
      "[2.11951985e+11 2.32438214e+10 1.00762963e+10] m\n"
     ]
    }
   ],
   "source": [
    "'''heliocentric location of geocentre'''\n",
    "helio_500_horizons = [7.878053705097503E-01, -5.455758662127957E-01, -2.365056822060531E-01] * u.au\n",
    "'''Astropy-Horizons:'''\n",
    "print((helio_500_apy + helio_500_horizons).to(u.m))\n",
    "'''MPC-Horizons:'''\n",
    "print((helio_500_mpc + helio_500_horizons).to(u.m))"
   ]
  },
  {
   "cell_type": "code",
   "execution_count": 188,
   "metadata": {},
   "outputs": [
    {
     "name": "stdout",
     "output_type": "stream",
     "text": [
      "[-1275.68267286 -1090.36818147  -142.83219725] m\n",
      "[ 1.27769069 -0.1334509  -5.02311033] m\n"
     ]
    }
   ],
   "source": [
    "'''heliocentric location of observer'''\n",
    "helio_OBS_horizons = [7.878174084909276E-01, -5.455409918344410E-01, -2.364843491329590E-01] * u.au\n",
    "#helio_OBS_horizons = [7.878443480613093E-01, -5.455853858614780E-01, -2.365201354092648E-01] * u.au\n",
    "helio_OBS_horizons = [7.878443465897141E-01, -5.455853906237088E-01, -2.365201355064603E-01] * u.au\n",
    "helio_OBS_horizons = [7.878358422724819E-01, -5.455568984184713E-01, -2.365286546876751E-01] * u.au\n",
    "helio_OBS_horizons = [-7.890835808625358E-01, 5.828815097032926E-01, 2.526647001858481E-01] * u.au\n",
    "helio_OBS_horizons = [-6.289870474582483E-01, -7.009816282331524E-01, -3.038845132122471E-01] * u.au\n",
    "'''Astropy-Horizons:'''\n",
    "print((helio_OBS_apy + helio_OBS_horizons).to(u.m))\n",
    "'''MPC-Horizons:'''\n",
    "print((helio_OBS_mpc + helio_OBS_horizons).to(u.m))"
   ]
  },
  {
   "cell_type": "code",
   "execution_count": 162,
   "metadata": {},
   "outputs": [
    {
     "name": "stdout",
     "output_type": "stream",
     "text": [
      "[10.54319739 -0.331074   -4.63458151] m\n"
     ]
    }
   ],
   "source": [
    "print((helio_500_apy + geo_OBS_mpc + helio_OBS_horizons).to(u.m))"
   ]
  },
  {
   "cell_type": "code",
   "execution_count": 130,
   "metadata": {},
   "outputs": [],
   "source": [
    "kernel = SPK.open('/home/malexand/Github/mpcpp/de430.bsp')\n",
    "def jpl_xyz(time=2458892.0):\n",
    "    ''' JPL ephemeris '''\n",
    "    print('JPL XYZ:')\n",
    "    t_jd = Time(time, format='jd')\n",
    "    \n",
    "    ''' Barycentric location of geocenter: '''\n",
    "    bary_500_JPL = kernel[0, 3].compute(time) + kernel[3, 399].compute(time)\n",
    "\n",
    "    ''' Barycentric location of the Sun: '''\n",
    "    bary_Sun_JPL = kernel[0, 10].compute(time)\n",
    "\n",
    "    ''' Heliocentric location of geocenter: '''\n",
    "    helio_500_JPL = bary_500_JPL - bary_Sun_JPL\n",
    "    print('Heliocentric location of  geocenter:  {}'.format(helio_500_JPL))\n",
    "\n",
    "    return helio_500_JPL"
   ]
  },
  {
   "cell_type": "code",
   "execution_count": 190,
   "metadata": {},
   "outputs": [
    {
     "name": "stdout",
     "output_type": "stream",
     "text": [
      "JPL XYZ:\n",
      "Heliocentric location of  geocenter:  [-1.17854006e+08  8.16169879e+07  3.53807465e+07]\n",
      "[2.11951985e+08 2.32438214e+07 1.00762963e+07] km\n",
      "[-2.11951985e+11 -2.32438214e+10 -1.00762963e+10] m\n",
      "[ 1.11758709e-06 -1.55270100e-05 -7.24941492e-06] km\n",
      "[2.11951985e+11 2.32438214e+10 1.00762963e+10] m\n"
     ]
    }
   ],
   "source": [
    "helio_500_JPL = jpl_xyz(2458892.000800753)\n",
    "#helio_500_JPL = jpl_xyz(2458892.0)\n",
    "print(helio_500_apy-helio_500_JPL*u.km)\n",
    "print((helio_500_JPL*u.km + geo_OBS_mpc + helio_OBS_horizons).to(u.m))\n",
    "print((helio_500_JPL*u.km + helio_500_horizons))\n",
    "print((helio_500_mpc + helio_500_horizons).to(u.m))"
   ]
  },
  {
   "cell_type": "code",
   "execution_count": 132,
   "metadata": {},
   "outputs": [
    {
     "name": "stdout",
     "output_type": "stream",
     "text": [
      "[ 0.00000000e+00 -1.49011612e-05  0.00000000e+00] m\n"
     ]
    }
   ],
   "source": [
    "print((helio_500_JPL*u.km - helio_500_mpc).to(u.m))"
   ]
  },
  {
   "cell_type": "code",
   "execution_count": 184,
   "metadata": {},
   "outputs": [
    {
     "name": "stdout",
     "output_type": "stream",
     "text": [
      "6.524158958352655\n",
      "5.6496423275268866\n",
      "11.498067128665758\n",
      "5.192468208446161\n",
      "10.67609333903856\n"
     ]
    }
   ],
   "source": [
    "print(np.sum(np.array([3.31129314, -4.00676584, 3.9428182])**2)**0.5)\n",
    "print(np.sum(np.array([4.20874424, -2.71995698, -2.60897765])**2)**0.5)\n",
    "print(np.sum(np.array([10.50804217, -0.37286532, -4.6526948])**2)**0.5)\n",
    "print(np.sum(np.array([0.11250733, 1.26624729, -5.03444992])**2)**0.5)\n",
    "print(np.sum(np.array([7.02117847, -4.24853869, -6.82875837])**2)**0.5)"
   ]
  },
  {
   "cell_type": "code",
   "execution_count": null,
   "metadata": {},
   "outputs": [],
   "source": []
  }
 ],
 "metadata": {
  "kernelspec": {
   "display_name": "Python 3",
   "language": "python",
   "name": "python3"
  },
  "language_info": {
   "codemirror_mode": {
    "name": "ipython",
    "version": 3
   },
   "file_extension": ".py",
   "mimetype": "text/x-python",
   "name": "python",
   "nbconvert_exporter": "python",
   "pygments_lexer": "ipython3",
   "version": "3.6.7"
  }
 },
 "nbformat": 4,
 "nbformat_minor": 4
}
