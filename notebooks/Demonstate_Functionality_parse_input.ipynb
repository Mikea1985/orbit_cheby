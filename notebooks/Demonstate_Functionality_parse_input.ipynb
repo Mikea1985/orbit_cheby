{
 "cells": [
  {
   "cell_type": "markdown",
   "metadata": {},
   "source": [
    "# Demonstate Functionality of the *parse_input* module that is used by the *mpc_nbody* module\n",
    " - Primarily written by M. Alexandersen, with some additions from M. Payne "
   ]
  },
  {
   "cell_type": "code",
   "execution_count": 4,
   "metadata": {},
   "outputs": [
    {
     "name": "stdout",
     "output_type": "stream",
     "text": [
      " HEAD_DIR: /Users/matthewjohnpayne/Envs/cheby_checker \n"
     ]
    },
    {
     "data": {
      "text/plain": [
       "<module 'cheby_checker.parse_input' from '/Users/matthewjohnpayne/Envs/cheby_checker/cheby_checker/parse_input.py'>"
      ]
     },
     "execution_count": 4,
     "metadata": {},
     "output_type": "execute_result"
    }
   ],
   "source": [
    "import sys\n",
    "import os\n",
    "from filecmp import cmp\n",
    "import numpy as np\n",
    "import pytest\n",
    "import importlib\n",
    "from astroquery.jplhorizons import Horizons\n",
    "\n",
    "# parent directory is */cheby_checker\n",
    "HEAD_DIR = os.path.dirname(os.path.realpath(os.getcwd())) \n",
    "sys.path.append(os.path.join(HEAD_DIR))\n",
    "print(f' HEAD_DIR: {HEAD_DIR} ')\n",
    "\n",
    "# import nbody-related code from main cheby_checker directory\n",
    "from cheby_checker import  parse_input\n",
    "importlib.reload(parse_input)"
   ]
  },
  {
   "cell_type": "code",
   "execution_count": 5,
   "metadata": {},
   "outputs": [],
   "source": [
    "DATA_DIR = os.path.join(os.path.dirname(os.getcwd()), 'dev_data')\n",
    "test_files = [os.path.join(DATA_DIR, file)\n",
    "              for file in ['30101.eq0_horizons', '30102.eq0_horizons']]\n",
    "au_km = 149597870.700  # This is now a definition"
   ]
  },
  {
   "cell_type": "code",
   "execution_count": 7,
   "metadata": {},
   "outputs": [],
   "source": [
    "# For more information, uncomment next line:\n",
    "# help(parse_input)"
   ]
  },
  {
   "cell_type": "markdown",
   "metadata": {},
   "source": [
    "# Explicit Test Code Exists in mpc_nbody/tests\n",
    "\n",
    " - test_parse_input.py\n",
    " - test_everything.py\n",
    " \n",
    " Run these using pytest ...\n",
    "  - cd ../tests\n",
    "  - pytest test_parse_input.py\n"
   ]
  },
  {
   "cell_type": "markdown",
   "metadata": {},
   "source": [
    "# Top-level: \"parse_input.ParseElements\" - Parse, convert & store elements.\n",
    " - This takes input as ele220 (not yet implemented) or OrbFit files (\".fel\" or \".eq\" files, which I actually think have the same format), parses the elements and time, converts that to TBD and Barycentric Equatorial elements, and saves that to a holman_ic file for input into the actual nbody integrator. \n",
    " - This calls a number of under-lying functionalities"
   ]
  },
  {
   "cell_type": "code",
   "execution_count": 8,
   "metadata": {},
   "outputs": [
    {
     "name": "stdout",
     "output_type": "stream",
     "text": [
      "CPU times: user 5 µs, sys: 9 µs, total: 14 µs\n",
      "Wall time: 18.1 µs\n"
     ]
    }
   ],
   "source": [
    "%time\n",
    "# First, let's do everything at once by initiating with input:\n",
    "_ = parse_input.ParseElements(input_file=test_files[0], filetype='eq')"
   ]
  },
  {
   "cell_type": "code",
   "execution_count": 9,
   "metadata": {},
   "outputs": [
    {
     "name": "stdout",
     "output_type": "stream",
     "text": [
      "tstart 2456117.641933589\r\n",
      "tstep +20.0\r\n",
      "trange 600.\r\n",
      "geocentric 0\r\n",
      "state\r\n",
      "-2.093834952466474e+00  1.000913720009255e+00  4.197984954533551e-01 \r\n",
      "-4.226738336365523e-03 -9.129140909705197e-03 -3.627121453928710e-03 \r\n"
     ]
    }
   ],
   "source": [
    "# Let's have a look at the output file. \n",
    "!cat holman_ic"
   ]
  },
  {
   "cell_type": "markdown",
   "metadata": {},
   "source": [
    "# Lower-level functionalities\n",
    " - The above \"ParseElements\" instantiation uses some underlying functionality to perform the parsing & storage of the elements.\n",
    " - Here we demonstrate some of the underlying functionality."
   ]
  },
  {
   "cell_type": "markdown",
   "metadata": {},
   "source": [
    "##### parse_input.ParseElements()\n",
    " - With no arguments to set up an empty object. "
   ]
  },
  {
   "cell_type": "code",
   "execution_count": 10,
   "metadata": {},
   "outputs": [
    {
     "name": "stdout",
     "output_type": "stream",
     "text": [
      "Keywords 'input_file' and/or 'filetype' missing; initiating empty object.\n"
     ]
    },
    {
     "data": {
      "text/plain": [
       "['make_bary_equatorial', 'parse_ele220', 'parse_orbfit', 'save_elements']"
      ]
     },
     "execution_count": 10,
     "metadata": {},
     "output_type": "execute_result"
    }
   ],
   "source": [
    "P = parse_input.ParseElements()\n",
    "# List the methods contained within ParseElements\n",
    "[i for i in dir(P) if '__' not in i]"
   ]
  },
  {
   "cell_type": "markdown",
   "metadata": {},
   "source": [
    "##### parse_input.ParseElements.parse_orbfit(felfile)\n",
    " - Parses a single orbit file (.fel or .eq) and stores time & the heliocentric ecliptic coordinates. "
   ]
  },
  {
   "cell_type": "code",
   "execution_count": 11,
   "metadata": {},
   "outputs": [
    {
     "name": "stdout",
     "output_type": "stream",
     "text": [
      "['heliocentric_ecliptic_cartesian_elements', 'make_bary_equatorial', 'parse_ele220', 'parse_orbfit', 'save_elements', 'time']\n"
     ]
    },
    {
     "data": {
      "text/plain": [
       "{'time': <Time object: scale='tt' format='mjd' value=56184.25284321>,\n",
       " 'heliocentric_ecliptic_cartesian_elements': {'x_HelioEcl': -3.141624354767198,\n",
       "  'dx_HelioEcl': -0.00561642987380069,\n",
       "  'y_HelioEcl': 3.883199812201892,\n",
       "  'dy_HelioEcl': -0.004532863527910482,\n",
       "  'z_HelioEcl': 2.191304909819448,\n",
       "  'dz_HelioEcl': 0.0001807300513403061,\n",
       "  'sigma_x_HelioEcl': '5.371149655803086E-13',\n",
       "  'sigma_dx_HelioEcl': '4.850526570879810E-19',\n",
       "  'sigma_y_HelioEcl': '3.083965957221651E-13',\n",
       "  'sigma_dy_HelioEcl': '3.215811356890292E-19',\n",
       "  'sigma_z_HelioEcl': '4.296172191351023E-13',\n",
       "  'sigma_dz_HelioEcl': '6.147316166044891E-19',\n",
       "  'x_y_HelioEcl': '2.354557490078648E-13',\n",
       "  'x_z_HelioEcl': '6.163733473770746E-14',\n",
       "  'x_dx_HelioEcl': '-4.310096570860611E-16',\n",
       "  'x_dy_HelioEcl': '2.646251750285150E-16',\n",
       "  'x_dz_HelioEcl': '1.741935780011843E-16',\n",
       "  'y_z_HelioEcl': '-1.308201104779745E-13',\n",
       "  'y_dx_HelioEcl': '-1.500616034123045E-16',\n",
       "  'y_dy_HelioEcl': '2.338140588946915E-16',\n",
       "  'y_dz_HelioEcl': '1.409622722570219E-16',\n",
       "  'z_dx_HelioEcl': '5.330382327494049E-17',\n",
       "  'z_dy_HelioEcl': '2.389640980392886E-17',\n",
       "  'z_dz_HelioEcl': '-8.929273374192896E-17',\n",
       "  'dx_dy_HelioEcl': '-2.314954563036713E-19',\n",
       "  'dx_dz_HelioEcl': '-1.673993913135176E-20',\n",
       "  'dy_dz_HelioEcl': '-4.105251353079845E-20'}}"
      ]
     },
     "execution_count": 11,
     "metadata": {},
     "output_type": "execute_result"
    }
   ],
   "source": [
    "P.parse_orbfit(felfile=test_files[1])\n",
    "# P now has some non-method attributes!\n",
    "print([i for i in dir(P) if '__' not in i])\n",
    "# See the content:\n",
    "P.__dict__"
   ]
  },
  {
   "cell_type": "markdown",
   "metadata": {},
   "source": [
    "##### parse_input.ParseElements.make_bary_equatorial()\n",
    " - Convert whatever is available (currently only Heliocentric Ecliptic cartesian implemented) to Barycentric Equatorial cartesian elements. "
   ]
  },
  {
   "cell_type": "code",
   "execution_count": 12,
   "metadata": {},
   "outputs": [
    {
     "data": {
      "text/plain": [
       "{'x_BaryEqu': -3.1435635433696,\n",
       " 'y_BaryEqu': 2.6890636461132758,\n",
       " 'z_BaryEqu': 3.5542111848815767,\n",
       " 'dx_BaryEqu': -0.005610620819862402,\n",
       " 'dy_BaryEqu': -0.004232958051824348,\n",
       " 'dz_BaryEqu': -0.0016383640293136613}"
      ]
     },
     "execution_count": 12,
     "metadata": {},
     "output_type": "execute_result"
    }
   ],
   "source": [
    "P.make_bary_equatorial()\n",
    "# P now has some more attributes! See the content:\n",
    "P.barycentric_equatorial_cartesian_elements"
   ]
  },
  {
   "cell_type": "markdown",
   "metadata": {},
   "source": [
    "##### parse_input.ParseElements.save_elements(output_file)\n",
    " - Save the barycentric equatorial cartesian elements to file. \n",
    " - Default filename is holman_ic, but this can be changed with output_file keyword."
   ]
  },
  {
   "cell_type": "code",
   "execution_count": 13,
   "metadata": {},
   "outputs": [
    {
     "name": "stdout",
     "output_type": "stream",
     "text": [
      "tstart 2456184.7528431923\r\n",
      "tstep +20.0\r\n",
      "trange 600.\r\n",
      "geocentric 0\r\n",
      "state\r\n",
      "-3.143563543369600e+00  2.689063646113276e+00  3.554211184881577e+00 \r\n",
      "-5.610620819862402e-03 -4.232958051824348e-03 -1.638364029313661e-03 \r\n"
     ]
    }
   ],
   "source": [
    "P.save_elements(output_file='see_this_works')\n",
    "# Let's have a look at the output file. \n",
    "!cat see_this_works"
   ]
  },
  {
   "cell_type": "markdown",
   "metadata": {},
   "source": [
    "##### parse_input.equatorial_helio2bary(input_xyz)\n",
    " - Used by ParseElements.make_bary_equatorial()\n",
    " - Convert a cartesian vector from mean equatorial heliocentric to barycentric."
   ]
  },
  {
   "cell_type": "code",
   "execution_count": 14,
   "metadata": {},
   "outputs": [
    {
     "name": "stdout",
     "output_type": "stream",
     "text": [
      "Position error:  [0.1328696 0.2657392 0.       ] mm\n",
      "Velocity error:  [0.00000000e+00 6.48777346e-05 4.05485841e-06] mm/day\n"
     ]
    }
   ],
   "source": [
    "# Set up input using astroquery.jplhorizons.Horizons:\n",
    "# Geocenter at 2020-Mar-28 12:00:00 TDB, equatorial:\n",
    "hor_in_table = Horizons('2011 QF99', '500@10', 2458937.0, id_type='smallbody'\n",
    "                        ).vectors(refplane='earth')['x', 'y', 'z', 'vx', 'vy', 'vz']\n",
    "input_xyz = list(hor_in_table.as_array()[0])\n",
    "# Set up expected output, ie. Horizons answer:\n",
    "hor_out_table = Horizons('2011 QF99', '500@0', 2458937.0, id_type='smallbody'\n",
    "                         ).vectors(refplane='earth')['x', 'y', 'z', 'vx', 'vy', 'vz']\n",
    "expected_output_xyz = np.array(list(hor_out_table.as_array()[0]))\n",
    "# Get actual output from parsing and converting input:\n",
    "output_xyz = parse_input.equatorial_helio2bary(input_xyz, 2458937.0)\n",
    "# Check the discrepancy:\n",
    "error = np.abs(expected_output_xyz - output_xyz)\n",
    "print('Position error: ', error[:3] * au_km * 1e6, 'mm')\n",
    "print('Velocity error: ', error[3:6] * au_km * 1e6, 'mm/day')"
   ]
  },
  {
   "cell_type": "markdown",
   "metadata": {},
   "source": [
    "##### parse_input.ecliptic_to_equatorial(input_xyz)\n",
    " - Used by ParseElements.make_bary_equatorial()\n",
    " - Convert a cartesian vector from mean ecliptic to mean equatorial."
   ]
  },
  {
   "cell_type": "code",
   "execution_count": 15,
   "metadata": {},
   "outputs": [
    {
     "name": "stdout",
     "output_type": "stream",
     "text": [
      "Position error:  [0.        0.2657392 0.2657392] mm\n",
      "Velocity error:  [0.00000000e+00 6.48777346e-05 1.21645752e-05] mm/day\n"
     ]
    }
   ],
   "source": [
    "# Set up input using astroquery.jplhorizons.Horizons:\n",
    "# Geocenter at 2020-Mar-28 12:00:00 TDB, equatorial:\n",
    "hor_table = Horizons('2011 QF99', '500@10', 2458937.0, id_type='smallbody')\n",
    "hor_in_table = hor_table.vectors(refplane='ecliptic')['x', 'y', 'z', 'vx', 'vy', 'vz']\n",
    "input_xyz = list(hor_in_table.as_array()[0])\n",
    "# Set up expected output, ie. Horizons answer:\n",
    "hor_out_table = hor_table.vectors(refplane='earth')['x', 'y', 'z', 'vx', 'vy', 'vz']\n",
    "expected_output_xyz = np.array(list(hor_out_table.as_array()[0]))\n",
    "# Get actual output from parsing and converting input:\n",
    "output_xyz = parse_input.ecliptic_to_equatorial(input_xyz)\n",
    "# Check the discrepancy:\n",
    "error = np.abs(expected_output_xyz - output_xyz)\n",
    "print('Position error: ', error[:3] * au_km * 1e6, 'mm')\n",
    "print('Velocity error: ', error[3:6] * au_km * 1e6, 'mm/day')"
   ]
  }
 ],
 "metadata": {
  "kernelspec": {
   "display_name": "Python 3",
   "language": "python",
   "name": "python3"
  },
  "language_info": {
   "codemirror_mode": {
    "name": "ipython",
    "version": 3
   },
   "file_extension": ".py",
   "mimetype": "text/x-python",
   "name": "python",
   "nbconvert_exporter": "python",
   "pygments_lexer": "ipython3",
   "version": "3.7.6"
  }
 },
 "nbformat": 4,
 "nbformat_minor": 4
}
