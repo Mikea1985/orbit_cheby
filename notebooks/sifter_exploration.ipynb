{
 "cells": [
  {
   "cell_type": "code",
   "execution_count": 288,
   "metadata": {},
   "outputs": [],
   "source": [
    "import numpy as np\n",
    "from jplephem.spk import SPK\n",
    "from astropy import units as u\n",
    "from mpcpp import MPC_library as mpc"
   ]
  },
  {
   "cell_type": "code",
   "execution_count": 419,
   "metadata": {},
   "outputs": [],
   "source": [
    "rot_mat = mpc.rotate_matrix(-mpc.Constants.ecl*0.99999999)\n",
    "observatories = mpc.Observatory()"
   ]
  },
  {
   "cell_type": "code",
   "execution_count": 420,
   "metadata": {},
   "outputs": [
    {
     "name": "stdout",
     "output_type": "stream",
     "text": [
      "[-0.78780537  0.54557587  0.23650568] AU\n"
     ]
    }
   ],
   "source": [
    "helio_OBS_equ = observatories.getObservatoryPosition(obsCode='500', jd_utc=2458892.0, old=False) * u.au\n",
    "print(helio_OBS_equ)"
   ]
  },
  {
   "cell_type": "code",
   "execution_count": 421,
   "metadata": {},
   "outputs": [
    {
     "name": "stdout",
     "output_type": "stream",
     "text": [
      "[-7.87805371e-01  5.94632628e-01 -2.77886136e-05] AU\n"
     ]
    }
   ],
   "source": [
    "helio_OBS_ecl = np.dot(rot_mat, helio_OBS_equ.reshape(-1, 1)).flatten()\n",
    "print(helio_OBS_ecl)"
   ]
  },
  {
   "cell_type": "code",
   "execution_count": 422,
   "metadata": {},
   "outputs": [
    {
     "name": "stdout",
     "output_type": "stream",
     "text": [
      "[ 0.00111278 -0.01551253 -0.00725385] m\n",
      "[1.11278290e-03 7.30899063e-01 1.59758766e+04] m\n"
     ]
    }
   ],
   "source": [
    "horizons_equ = np.array([7.878053705097503E-01, -5.455758662127957E-01, -2.365056822060531E-01]) * u.au\n",
    "horizons_ecl = np.array([7.878053705097503E-01, -5.946326283777568E-01, 2.789540572789949E-05]) * u.au\n",
    "print((horizons_equ + helio_OBS_equ).to(u.m))\n",
    "print((horizons_ecl + helio_OBS_ecl).to(u.m))\n"
   ]
  },
  {
   "cell_type": "code",
   "execution_count": 477,
   "metadata": {},
   "outputs": [
    {
     "name": "stdout",
     "output_type": "stream",
     "text": [
      "[ 7.87805371e-01 -5.94632628e-01  2.78954057e-05] AU\n",
      "[ 7.87805371e-01 -5.94632628e-01  2.78954057e-05] AU\n",
      "[ 0.0000000e+00  0.0000000e+00 -5.2064382e-06] m\n"
     ]
    }
   ],
   "source": [
    "rot_mat = mpc.rotate_matrix(-84381.448*(1./3600)*np.pi/180.)\n",
    "horizons_equ = np.array([7.878053705097503E-01, -5.455758662127957E-01, -2.365056822060531E-01]) * u.au\n",
    "horizons_ecl = np.array([7.878053705097503E-01, -5.946326283777568E-01, 2.789540572789949E-05]) * u.au\n",
    "horizons_rot2ecl = np.dot(rot_mat, horizons_equ.reshape(-1, 1)).flatten()\n",
    "print(horizons_ecl)\n",
    "print(horizons_rot2ecl)\n",
    "print((horizons_ecl - horizons_rot2ecl).to(u.m))\n"
   ]
  },
  {
   "cell_type": "code",
   "execution_count": null,
   "metadata": {},
   "outputs": [],
   "source": []
  },
  {
   "cell_type": "code",
   "execution_count": null,
   "metadata": {},
   "outputs": [],
   "source": []
  },
  {
   "cell_type": "code",
   "execution_count": null,
   "metadata": {},
   "outputs": [],
   "source": []
  },
  {
   "cell_type": "code",
   "execution_count": null,
   "metadata": {},
   "outputs": [],
   "source": []
  },
  {
   "cell_type": "code",
   "execution_count": 446,
   "metadata": {},
   "outputs": [],
   "source": [
    "def stuff(horizons_equ, horizons_ecl, scale):\n",
    "    rot_mat = mpc.rotate_matrix(-mpc.Constants.ecl*scale)\n",
    "    horizons_rot2ecl = np.dot(rot_mat, horizons_equ.reshape(-1, 1)).flatten()\n",
    "    return horizons_rot2ecl-horizons_ecl"
   ]
  },
  {
   "cell_type": "code",
   "execution_count": 475,
   "metadata": {},
   "outputs": [],
   "source": [
    "scales= np.arange(0.999999,1.000001,0.00000001)\n",
    "foo = []\n",
    "for scale in scales:\n",
    "    foo.append(stuff(horizons_equ, horizons_ecl, scale))"
   ]
  },
  {
   "cell_type": "code",
   "execution_count": 481,
   "metadata": {},
   "outputs": [
    {
     "name": "stdout",
     "output_type": "stream",
     "text": [
      "84381.44808400769\n"
     ]
    }
   ],
   "source": [
    "foo[np.argmin(np.abs(np.array(foo)[:,2]))].to(u.m)\n",
    "print(84381.4118*scales[np.argmin(np.abs(np.array(foo)[:,2]))])"
   ]
  },
  {
   "cell_type": "code",
   "execution_count": null,
   "metadata": {},
   "outputs": [],
   "source": []
  },
  {
   "cell_type": "code",
   "execution_count": null,
   "metadata": {},
   "outputs": [],
   "source": []
  },
  {
   "cell_type": "code",
   "execution_count": 515,
   "metadata": {},
   "outputs": [],
   "source": [
    "list_of_observations = ['     0000109  C2010 09 01.17463 21 47 39.44 -07 20 06.8          24.2 Rr     644',\n",
    "                        '     0000109  C2010 09 01.21844 21 47 36.69 -07 20 04.5          21.6 Rr     644',\n",
    "                        '     0000164*`C2010 10 23.36013603 36 52.36 +39 21 49.7          19.4 J      568',\n",
    "                        '     0000164 `C2010 10 23.37185303 36 51.66 +39 21 56.3          19.4 J      568',\n",
    "                        '     0000164 `C2010 10 23.38293503 36 50.97 +39 22 02.6          19.4 J      568',\n",
    "                        '     0000164 `C2010 10 23.39401703 36 50.31 +39 22 08.8          19.2 J      568',\n",
    "                        '     0000180*`C2008 03 07.21053207 03 42.69 +12 30 01.4          20.7 J      568',\n",
    "                        '     0000180 `C2008 03 07.22220307 03 42.08 +12 29 59.4          20.2 J      568',\n",
    "                        '     0000180 `C2008 03 07.23339507 03 41.32 +12 29 59.4          22.6 J      568']"
   ]
  },
  {
   "cell_type": "code",
   "execution_count": 549,
   "metadata": {},
   "outputs": [],
   "source": [
    "list_of_lists = [[list_of_observations[0]]]\n",
    "for obs in list_of_observations[1:]:\n",
    "    if obs[:12] == list_of_lists[-1][-1][:12]:\n",
    "        list_of_lists[-1].append(obs)\n",
    "    else:\n",
    "        list_of_lists.append([obs])"
   ]
  },
  {
   "cell_type": "code",
   "execution_count": 550,
   "metadata": {},
   "outputs": [
    {
     "name": "stdout",
     "output_type": "stream",
     "text": [
      "[['     0000109  C2010 09 01.17463 21 47 39.44 -07 20 06.8          24.2 Rr     644', '     0000109  C2010 09 01.21844 21 47 36.69 -07 20 04.5          21.6 Rr     644'], ['     0000164*`C2010 10 23.36013603 36 52.36 +39 21 49.7          19.4 J      568', '     0000164 `C2010 10 23.37185303 36 51.66 +39 21 56.3          19.4 J      568', '     0000164 `C2010 10 23.38293503 36 50.97 +39 22 02.6          19.4 J      568', '     0000164 `C2010 10 23.39401703 36 50.31 +39 22 08.8          19.2 J      568'], ['     0000180*`C2008 03 07.21053207 03 42.69 +12 30 01.4          20.7 J      568', '     0000180 `C2008 03 07.22220307 03 42.08 +12 29 59.4          20.2 J      568', '     0000180 `C2008 03 07.23339507 03 41.32 +12 29 59.4          22.6 J      568']]\n"
     ]
    }
   ],
   "source": [
    "print(list_of_lists)"
   ]
  },
  {
   "cell_type": "code",
   "execution_count": 551,
   "metadata": {},
   "outputs": [
    {
     "data": {
      "text/plain": [
       "(3,)"
      ]
     },
     "execution_count": 551,
     "metadata": {},
     "output_type": "execute_result"
    }
   ],
   "source": [
    "np.shape(list_of_lists)"
   ]
  },
  {
   "cell_type": "code",
   "execution_count": 585,
   "metadata": {},
   "outputs": [
    {
     "data": {
      "text/plain": [
       "<module 'sifter.precalc' from '/home/malexand/.anaconda3/envs/astroconda36/lib/python3.6/site-packages/sifter/precalc.py'>"
      ]
     },
     "execution_count": 585,
     "metadata": {},
     "output_type": "execute_result"
    }
   ],
   "source": [
    "from sifter import precalc as p\n",
    "from importlib import reload\n",
    "reload(p)"
   ]
  },
  {
   "cell_type": "code",
   "execution_count": 586,
   "metadata": {},
   "outputs": [],
   "source": [
    "t=p.Tracklets()"
   ]
  },
  {
   "cell_type": "code",
   "execution_count": 587,
   "metadata": {},
   "outputs": [
    {
     "name": "stdout",
     "output_type": "stream",
     "text": [
      "Received more than 2 observations.\n",
      "Only using first and last one.\n",
      "Received more than 2 observations.\n",
      "Only using first and last one.\n"
     ]
    },
    {
     "data": {
      "text/plain": [
       "[{'observations': ['     0000109  C2010 09 01.17463 21 47 39.44 -07 20 06.8          24.2 Rr     644',\n",
       "   '     0000109  C2010 09 01.21844 21 47 36.69 -07 20 04.5          21.6 Rr     644'],\n",
       "  'JD': 2455441,\n",
       "  'JD2': 2455441,\n",
       "  'RoM': <Quantity 0.25981539 deg / d>,\n",
       "  'AoM': <Angle 4.76853472 rad>,\n",
       "  'HP': 1184,\n",
       "  'HP2': 1184,\n",
       "  'tracklet_name': '0000109_2455440.67463__644',\n",
       "  'obs_helio-ecliptic_xyz': [<Quantity [ 9.38969202e-01, -3.70101071e-01,  3.85420707e-05] AU>,\n",
       "   <Quantity [ 9.39242293e-01, -3.69399022e-01,  3.69512015e-05] AU>]},\n",
       " {'observations': ['     0000164*`C2010 10 23.36013603 36 52.36 +39 21 49.7          19.4 J      568',\n",
       "   '     0000164 `C2010 10 23.37185303 36 51.66 +39 21 56.3          19.4 J      568',\n",
       "   '     0000164 `C2010 10 23.38293503 36 50.97 +39 22 02.6          19.4 J      568',\n",
       "   '     0000164 `C2010 10 23.39401703 36 50.31 +39 22 08.8          19.2 J      568'],\n",
       "  'JD': 2455493,\n",
       "  'JD2': 2455493,\n",
       "  'RoM': <Quantity 0.25001984 deg / d>,\n",
       "  'AoM': <Angle 5.38926709 rad>,\n",
       "  'HP': 99,\n",
       "  'HP2': 99,\n",
       "  'tracklet_name': '0000164_2455492.860136_568',\n",
       "  'obs_helio-ecliptic_xyz': [<Quantity [ 8.64380147e-01,  4.92760427e-01, -6.59801377e-06] AU>,\n",
       "   <Quantity [ 8.64276661e-01,  4.92937413e-01, -7.76596115e-06] AU>,\n",
       "   <Quantity [ 8.64178552e-01,  4.93104757e-01, -8.85670541e-06] AU>,\n",
       "   <Quantity [ 8.64080222e-01,  4.93272039e-01, -9.92851524e-06] AU>]},\n",
       " {'observations': ['     0000180*`C2008 03 07.21053207 03 42.69 +12 30 01.4          20.7 J      568',\n",
       "   '     0000180 `C2008 03 07.22220307 03 42.08 +12 29 59.4          20.2 J      568',\n",
       "   '     0000180 `C2008 03 07.23339507 03 41.32 +12 29 59.4          22.6 J      568'],\n",
       "  'JD': 2454533,\n",
       "  'JD2': 2454533,\n",
       "  'RoM': <Quantity 0.24496535 deg / d>,\n",
       "  'AoM': <Angle 4.6130414 rad>,\n",
       "  'HP': 1403,\n",
       "  'HP2': 1403,\n",
       "  'tracklet_name': '0000180_2454532.710532_568',\n",
       "  'obs_helio-ecliptic_xyz': [<Quantity [-9.66613701e-01,  2.25076827e-01, -5.44458151e-06] AU>,\n",
       "   <Quantity [-9.66665460e-01,  2.24880540e-01, -5.49531457e-06] AU>,\n",
       "   <Quantity [-9.66715057e-01,  2.24692113e-01, -5.46287973e-06] AU>]}]"
      ]
     },
     "execution_count": 587,
     "metadata": {},
     "output_type": "execute_result"
    }
   ],
   "source": [
    "t.parse_all_observations(list_of_observations)"
   ]
  },
  {
   "cell_type": "code",
   "execution_count": null,
   "metadata": {},
   "outputs": [],
   "source": []
  }
 ],
 "metadata": {
  "kernelspec": {
   "display_name": "Python 3",
   "language": "python",
   "name": "python3"
  },
  "language_info": {
   "codemirror_mode": {
    "name": "ipython",
    "version": 3
   },
   "file_extension": ".py",
   "mimetype": "text/x-python",
   "name": "python",
   "nbconvert_exporter": "python",
   "pygments_lexer": "ipython3",
   "version": "3.7.6"
  }
 },
 "nbformat": 4,
 "nbformat_minor": 4
}
