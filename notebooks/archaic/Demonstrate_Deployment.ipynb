{
 "cells": [
  {
   "cell_type": "markdown",
   "metadata": {},
   "source": [
    "# Demonstration of required steps to deployment\n",
    " - MJP 2020-09-03\n",
    " - Sketching out the steps that are likely to be required in order to get either a prototype or fully-working-version installed and working on marsden "
   ]
  },
  {
   "cell_type": "markdown",
   "metadata": {},
   "source": [
    "#### Basic imports ..."
   ]
  },
  {
   "cell_type": "code",
   "execution_count": 1,
   "metadata": {},
   "outputs": [
    {
     "name": "stdout",
     "output_type": "stream",
     "text": [
      " HEAD_DIR: /Users/matthewjohnpayne/Envs/cheby_checker \n",
      " DATA_DIR: /Users/matthewjohnpayne/Envs/cheby_checker/dev_data \n"
     ]
    },
    {
     "data": {
      "text/plain": [
       "<module 'cheby_checker.mpc_nbody' from '/Users/matthewjohnpayne/Envs/cheby_checker/cheby_checker/mpc_nbody.py'>"
      ]
     },
     "execution_count": 1,
     "metadata": {},
     "output_type": "execute_result"
    }
   ],
   "source": [
    "import time\n",
    "import numpy as np\n",
    "import scipy.stats as stats\n",
    "import math\n",
    "import random\n",
    "from collections import defaultdict\n",
    "import os\n",
    "import sys\n",
    "from collections import Counter\n",
    "import glob \n",
    "import warnings\n",
    "import warnings\n",
    "warnings.filterwarnings('ignore')\n",
    "import matplotlib.pyplot as plt\n",
    "import importlib\n",
    "from astropy.time import Time\n",
    "import pickle\n",
    "\n",
    "\n",
    "# -------------------------------------------------------------------------------------\n",
    "# Local imports\n",
    "# -------------------------------------------------------------------------------------\n",
    "\n",
    "# parent directory is */cheby_checker\n",
    "HEAD_DIR = os.path.dirname(os.path.realpath(os.getcwd())) \n",
    "sys.path.append(os.path.join(HEAD_DIR))\n",
    "print(f' HEAD_DIR: {HEAD_DIR} ')\n",
    "\n",
    "# directory with sample data for development\n",
    "DATA_DIR = os.path.join(HEAD_DIR, 'dev_data')\n",
    "print(f' DATA_DIR: {DATA_DIR} ')\n",
    "\n",
    "# import nbody-related code from main cheby_checker directory\n",
    "from cheby_checker import mpc_nbody, parse_input\n",
    "importlib.reload(mpc_nbody)\n"
   ]
  },
  {
   "cell_type": "markdown",
   "metadata": {},
   "source": [
    "## Sketch of required steps to deploy & populate "
   ]
  },
  {
   "cell_type": "markdown",
   "metadata": {},
   "source": [
    "  \n",
    "#### Create the database and the necessary tables \n",
    " - \n",
    "\n",
    "#### Establish source of ORBFIT files\n",
    " - Can be the database table(s) or a bunch of flat-files \n",
    "\n"
   ]
  },
  {
   "cell_type": "code",
   "execution_count": null,
   "metadata": {},
   "outputs": [],
   "source": []
  },
  {
   "cell_type": "markdown",
   "metadata": {},
   "source": [
    "## Sketch of steady-state operational steps "
   ]
  },
  {
   "cell_type": "markdown",
   "metadata": {},
   "source": [
    "## (1) Assume an orbit has been fit and is being written to the db\n",
    " - We probably want to wrap the steps below in a convenient function\n",
    " - Perhaps as an extra function in precalc.PreCalc (or similar)\n",
    "\n",
    "#### Prepare MPC_NBODY run\n",
    " - Could conceivably do one-off runs everytime an orbit is fit\n",
    " - Or could batch them up and do them in blocks (likely to be more efficient to integrate multiple objects simultaneously)\n",
    " \n",
    "#### Run MPC_NBODY\n",
    "> Sim = mpc_nbody.NbodySim(filenames[0], 'eq')\n",
    "\n",
    "> Sim(tstep=20, trange=600) ### These timesteps & Range would have to be changed\n",
    "\n",
    "### Do Cheby Fit and generate MSCs\n",
    "> MSCs = orbit_cheby.MSC_Loader(FROM_ARRAY = True , \n",
    "                                primary_unpacked_provisional_designations = name, \n",
    "                                times_TDB = times, \n",
    "                                statearray = states).MSCs\n",
    "\n",
    "### Do pre-calcs and store in db\n",
    "> P = precalc.PreCalc()\n",
    "\n",
    "> P.upsert( MSCs , observatoryXYZ)"
   ]
  },
  {
   "cell_type": "code",
   "execution_count": null,
   "metadata": {},
   "outputs": [],
   "source": []
  }
 ],
 "metadata": {
  "kernelspec": {
   "display_name": "Python 3",
   "language": "python",
   "name": "python3"
  },
  "language_info": {
   "codemirror_mode": {
    "name": "ipython",
    "version": 3
   },
   "file_extension": ".py",
   "mimetype": "text/x-python",
   "name": "python",
   "nbconvert_exporter": "python",
   "pygments_lexer": "ipython3",
   "version": "3.8.3"
  }
 },
 "nbformat": 4,
 "nbformat_minor": 4
}
