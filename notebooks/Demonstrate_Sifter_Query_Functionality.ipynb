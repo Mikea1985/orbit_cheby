{
 "cells": [
  {
   "cell_type": "markdown",
   "metadata": {},
   "source": [
    "# Demonstrations of Sifter Query Functionality\n",
    "\n",
    " - This notebook contains a mixture of demos of finished code, as well as WIP experimentation with ways to speed-up the code "
   ]
  },
  {
   "cell_type": "code",
   "execution_count": 18,
   "metadata": {},
   "outputs": [
    {
     "data": {
      "text/plain": [
       "<module 'query' from '/Users/matthewjohnpayne/Envs/sifter/sifter/query.py'>"
      ]
     },
     "execution_count": 18,
     "metadata": {},
     "output_type": "execute_result"
    }
   ],
   "source": [
    "import time\n",
    "import numpy as np\n",
    "import scipy.stats as stats\n",
    "import math\n",
    "import random\n",
    "from collections import defaultdict\n",
    "import healpy as hp\n",
    "import os\n",
    "import sys\n",
    "from collections import Counter\n",
    "import glob \n",
    "import warnings\n",
    "import warnings\n",
    "warnings.filterwarnings('ignore')\n",
    "import matplotlib.pyplot as plt\n",
    "import importlib\n",
    "from astropy.time import Time\n",
    "\n",
    "# -------------------------------------------------------------------------------------\n",
    "# Local imports\n",
    "# -------------------------------------------------------------------------------------\n",
    "sys.path.append( os.path.join(os.path.dirname(os.getcwd() ), 'sifter')  )\n",
    "sys.path.append( os.path.join( os.path.dirname(os.path.dirname(os.getcwd()) ), 'orbit_cheby', 'orbit_cheby')  )\n",
    "import orbit_cheby\n",
    "import query \n",
    "importlib.reload(orbit_cheby)\n",
    "importlib.reload(query)\n"
   ]
  },
  {
   "cell_type": "markdown",
   "metadata": {},
   "source": [
    "### Input Orbit Cheby Dictionary\n",
    " - We need a 'multi-sector-cheby-dictionary' containing cheby coeffs to represent an orbit\n",
    " - We'll use one created as part of the 'orbit_cheby\" development work\n",
    " - The idea is that some earlier nbody integration produced output that was then approximated as chebyshev polynomials whose coefficients were saved in said dictionary"
   ]
  },
  {
   "cell_type": "code",
   "execution_count": 13,
   "metadata": {},
   "outputs": [
    {
     "name": "stdout",
     "output_type": "stream",
     "text": [
      "Number of sectors =  313\n",
      "CPU times: user 969 ms, sys: 21.2 ms, total: 990 ms\n",
      "Wall time: 1e+03 ms\n"
     ]
    }
   ],
   "source": [
    "%%time \n",
    "importlib.reload(orbit_cheby)\n",
    "\n",
    "# Set up a filepath (to file created as part of orbit_cheby development )\n",
    "text_filepath = os.path.join( os.path.dirname(os.path.dirname(os.getcwd()) ), 'orbit_cheby', 'dev_data', '2022AA_demo.txt')\n",
    "\n",
    "# Generate the dictionary by reading the (synthetic) nbody data from file and creating cheby-coeff-dict\n",
    "multi_sector_cheby_dict = orbit_cheby.generate_multi_sector_cheby_dict_from_nbody_text( \n",
    "                                    text_filepath ,\n",
    "                                    45000,\n",
    "                                    55000, \n",
    "                                    minorder=17,\n",
    "                                    CHECK = True )\n",
    "\n",
    "print ( 'Number of sectors = ' , len(multi_sector_cheby_dict['sectors']) )"
   ]
  },
  {
   "cell_type": "markdown",
   "metadata": {},
   "source": [
    "##### Observatory Positions \n",
    "- Some of these calculations require that the positions of the observatory are provided as inputs: I.e. I want to completely separate the obs-posn stuff from the cheby evaluation calculations\n",
    "- For the sake of these demonstrations, where possible I am going to generate a set of standardized input observatory-positions (using a silly ~circular approximation) and then provide those as inputs. \n",
    "     "
   ]
  },
  {
   "cell_type": "code",
   "execution_count": 21,
   "metadata": {},
   "outputs": [],
   "source": [
    "# Create a sample of observatory-positions as inputs \n",
    "# - Note the decision to generate the obs posns in the ecliptic\n",
    "# - The intent is to minimize the subsequent coordinate rotations \n",
    "#   (e..g not rotating from ecliptic-to-equatorial) \n",
    "#   when comparing the orbits to the observatory/observations\n",
    "nSample = 1e4 \n",
    "times = Time( 42000. + np.arange( nSample ) , format='mjd', scale='tdb')\n",
    "r = 1.0 \n",
    "XYZobservatory_heliocentric_ecliptic = np.array( [    r*np.cos(times.value), \n",
    "                                                      r*np.sin(times.value) , \n",
    "                                                  0.3*r*np.cos(times.value)]).T"
   ]
  },
  {
   "cell_type": "code",
   "execution_count": null,
   "metadata": {},
   "outputs": [],
   "source": []
  },
  {
   "cell_type": "markdown",
   "metadata": {},
   "source": [
    "## Demo toplevel \"query\" function\n",
    " - It is expected that a \"standard\" usage of the sifter routine will involve a single cal lto the \"query\" function\n",
    " - This will take an orbit_cheby_dictionaty as input\n",
    " - It will also require access to an observatory_position look-up function\n",
    " \n",
    "N.B. This top-level query calls a number of underlying functions. \n",
    " -  _check_query_inputs(  cheby_dict_for_orbit , param_dict )\n",
    " - _get_nightly_healpix( cheby_dict_for_orbit )   \n",
    " - _query_precalc(JD_list, HP_list)\n",
    " - _get_precise_matches( self.approx_dictionary , cheby_dict_for_orbit , param_dict )\n",
    " - get_results( list_of_tracklet_tuples_precise , param_dict )\n",
    "    \n",
    "These functions are examined in more detail lower-down in this notebook \n",
    " "
   ]
  },
  {
   "cell_type": "code",
   "execution_count": null,
   "metadata": {},
   "outputs": [],
   "source": []
  },
  {
   "cell_type": "markdown",
   "metadata": {},
   "source": [
    "## Evaluate main components used within \"query\" function\n",
    " - The above \"query\" function clals a number of key components \n",
    " - Here I examine/demonstrate/test some of those components "
   ]
  },
  {
   "cell_type": "markdown",
   "metadata": {},
   "source": [
    "######  _check _ query _ inputs\n",
    " - Simple routine to check whether the supplied inputs are correctly formatted / have the correct content "
   ]
  },
  {
   "cell_type": "code",
   "execution_count": null,
   "metadata": {},
   "outputs": [],
   "source": [
    "_check_query_inputs(  cheby_dict_for_orbit , param_dict )"
   ]
  },
  {
   "cell_type": "markdown",
   "metadata": {},
   "source": [
    "###### _ get _ nightly _ healpix (evaluates orbital positions on integer days)\n",
    " - Essentially a wrapper around the \"cheby.generate_HP_from_cheby\" function \n",
    " - But note that in order to run automatically, I/we need to sort-out some means to provide access to the nightly positions of the observatories (don't need to worry about the positions at the times of hte tracklets as these will be saved within the sifter pre-calc structures) "
   ]
  },
  {
   "cell_type": "code",
   "execution_count": 20,
   "metadata": {},
   "outputs": [
    {
     "ename": "TypeError",
     "evalue": "_get_nightly_healpix() missing 1 required positional argument: 'observatoryXYZ'",
     "output_type": "error",
     "traceback": [
      "\u001b[0;31m---------------------------------------------------------------------------\u001b[0m",
      "\u001b[0;31mTypeError\u001b[0m                                 Traceback (most recent call last)",
      "\u001b[0;32m<timed exec>\u001b[0m in \u001b[0;36m<module>\u001b[0;34m()\u001b[0m\n",
      "\u001b[0;31mTypeError\u001b[0m: _get_nightly_healpix() missing 1 required positional argument: 'observatoryXYZ'"
     ]
    }
   ],
   "source": [
    "%%time \n",
    "importlib.reload(orbit_cheby)\n",
    "\n",
    "# Get Nightly Healpix (evaluates orbital positions on integer days)\n",
    "JD_list, HP_list = query._get_nightly_healpix( multi_sector_cheby_dict )\n",
    "JD_list, HP_list"
   ]
  },
  {
   "cell_type": "markdown",
   "metadata": {},
   "source": [
    "###### _ query _ precalc \n",
    " - Routine to quickly query an sqlite-db to understand whether there are any tracklets in a given set of (JD,HP) pairs  \n",
    " - It's job is to return approximate/possible matches for a given night, that will be subsequently refined by the \"Get_precise_matches\" function (see below) "
   ]
  },
  {
   "cell_type": "code",
   "execution_count": null,
   "metadata": {},
   "outputs": [],
   "source": [
    "_query_precalc(JD_list, HP_list)"
   ]
  },
  {
   "cell_type": "markdown",
   "metadata": {},
   "source": [
    "###### _ get _ precise _ matches\n",
    " - Takes the approximate matches (from _query_precalc) and then does precise matching against tracklets\n",
    " - Note that the tracklets contain the pre-calculated observatory positions at the time of calculations\n",
    " \n",
    "### THIS TO BE WRITTEN BY MIKE ALEXANDERSEN ??? ***"
   ]
  },
  {
   "cell_type": "code",
   "execution_count": null,
   "metadata": {},
   "outputs": [],
   "source": [
    "_get_precise_matches"
   ]
  },
  {
   "cell_type": "markdown",
   "metadata": {},
   "source": [
    "###### get _ results"
   ]
  },
  {
   "cell_type": "code",
   "execution_count": null,
   "metadata": {},
   "outputs": [],
   "source": [
    "get_results"
   ]
  }
 ],
 "metadata": {
  "kernelspec": {
   "display_name": "Python 3",
   "language": "python",
   "name": "python3"
  },
  "language_info": {
   "codemirror_mode": {
    "name": "ipython",
    "version": 3
   },
   "file_extension": ".py",
   "mimetype": "text/x-python",
   "name": "python",
   "nbconvert_exporter": "python",
   "pygments_lexer": "ipython3",
   "version": "3.7.6"
  }
 },
 "nbformat": 4,
 "nbformat_minor": 2
}
