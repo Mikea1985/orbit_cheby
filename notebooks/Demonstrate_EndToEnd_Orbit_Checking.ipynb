{
 "cells": [
  {
   "cell_type": "markdown",
   "metadata": {},
   "source": [
    "# Demonstration of anticipated end-to-end usage of Orbit PreCalculations for \"Checking\"\n",
    " - This is the expected usage to use stored cheby polynomials (& nightly-healpix) from the database to perform various \"checking\" functions\n",
    " \n",
    " - At present (20200618) this is incomplete and intended as a schematic to aid development"
   ]
  },
  {
   "cell_type": "markdown",
   "metadata": {},
   "source": [
    "#### Basic imports ..."
   ]
  },
  {
   "cell_type": "code",
   "execution_count": 1,
   "metadata": {},
   "outputs": [
    {
     "ename": "ModuleNotFoundError",
     "evalue": "No module named 'orbit_cheby'",
     "output_type": "error",
     "traceback": [
      "\u001b[0;31m---------------------------------------------------------------------------\u001b[0m",
      "\u001b[0;31mModuleNotFoundError\u001b[0m                       Traceback (most recent call last)",
      "\u001b[0;32m<ipython-input-1-81caaf6909be>\u001b[0m in \u001b[0;36m<module>\u001b[0;34m\u001b[0m\n\u001b[1;32m     24\u001b[0m \u001b[0;31m# orbit_cheby & nbody_reader imports\u001b[0m\u001b[0;34m\u001b[0m\u001b[0;34m\u001b[0m\u001b[0;34m\u001b[0m\u001b[0m\n\u001b[1;32m     25\u001b[0m \u001b[0;31m#sys.path.append( \"/Users/matthewjohnpayne/Envs/orbit_cheby/orbit_cheby/\" )\u001b[0m\u001b[0;34m\u001b[0m\u001b[0;34m\u001b[0m\u001b[0;34m\u001b[0m\u001b[0m\n\u001b[0;32m---> 26\u001b[0;31m \u001b[0;32mfrom\u001b[0m \u001b[0morbit_cheby\u001b[0m \u001b[0;32mimport\u001b[0m \u001b[0morbit_cheby\u001b[0m\u001b[0;34m\u001b[0m\u001b[0;34m\u001b[0m\u001b[0m\n\u001b[0m\u001b[1;32m     27\u001b[0m \u001b[0;32mfrom\u001b[0m \u001b[0morbit_cheby\u001b[0m \u001b[0;32mimport\u001b[0m \u001b[0mnbody_reader\u001b[0m\u001b[0;34m\u001b[0m\u001b[0;34m\u001b[0m\u001b[0m\n\u001b[1;32m     28\u001b[0m \u001b[0mimportlib\u001b[0m\u001b[0;34m.\u001b[0m\u001b[0mreload\u001b[0m\u001b[0;34m(\u001b[0m\u001b[0morbit_cheby\u001b[0m\u001b[0;34m)\u001b[0m\u001b[0;34m\u001b[0m\u001b[0;34m\u001b[0m\u001b[0m\n",
      "\u001b[0;31mModuleNotFoundError\u001b[0m: No module named 'orbit_cheby'"
     ]
    }
   ],
   "source": [
    "import time\n",
    "import numpy as np\n",
    "import scipy.stats as stats\n",
    "import math\n",
    "import random\n",
    "from collections import defaultdict\n",
    "import os\n",
    "import sys\n",
    "from collections import Counter\n",
    "import glob \n",
    "import warnings\n",
    "import warnings\n",
    "warnings.filterwarnings('ignore')\n",
    "import matplotlib.pyplot as plt\n",
    "import importlib\n",
    "from astropy.time import Time\n",
    "import pickle\n",
    "\n",
    "\n",
    "# -------------------------------------------------------------------------------------\n",
    "# Local imports\n",
    "# -------------------------------------------------------------------------------------\n",
    "\n",
    "# orbit_cheby & nbody_reader imports \n",
    "#sys.path.append( \"/Users/matthewjohnpayne/Envs/orbit_cheby/orbit_cheby/\" )\n",
    "from orbit_cheby import orbit_cheby\n",
    "from orbit_cheby import nbody_reader\n",
    "importlib.reload(orbit_cheby)\n",
    "importlib.reload(nbody_reader)\n",
    "\n",
    "# obs_pos import(s) \n",
    "from orbit_cheby import obs_pos\n",
    "importlib.reload(obs_pos)\n",
    "\n",
    "# sql import(s) \n",
    "from orbit_cheby import sql\n",
    "importlib.reload(sql)\n",
    "\n",
    "# PreCalc import(s) \n",
    "from orbit_cheby import precalc\n",
    "importlib.reload(precalc)\n"
   ]
  },
  {
   "cell_type": "markdown",
   "metadata": {},
   "source": [
    "## Ephemeris Call\n",
    " - How to get the position, etc, for a known, named object \n",
    " - Allow Ephem to take obsCode or observatoryXYZ @ each of the times"
   ]
  },
  {
   "cell_type": "code",
   "execution_count": null,
   "metadata": {},
   "outputs": [],
   "source": [
    "# Declare the Ephem object: will populate MSC(s)\n",
    "Eph = ephem.Ephem(designations, times, obsCode = 'F51')\n",
    "\n",
    "# Get the sky-plane positions and uncertainties\n",
    "# (other methods could/should be created to return, e.g., heliocentric coords)\n",
    "Eph.generate_sky_predictions()"
   ]
  },
  {
   "cell_type": "markdown",
   "metadata": {},
   "source": [
    "## Position Check\n",
    " - How to get residuals (and their significance) between input observations and a named, known object"
   ]
  },
  {
   "cell_type": "code",
   "execution_count": null,
   "metadata": {},
   "outputs": [],
   "source": [
    "posn_check.PCheck(primary_unpacked_provisional_designation,  detections )\n"
   ]
  },
  {
   "cell_type": "markdown",
   "metadata": {},
   "source": [
    "## MPChecker \n",
    " - How to get objects \"close to\" a pointing"
   ]
  },
  {
   "cell_type": "code",
   "execution_count": null,
   "metadata": {},
   "outputs": [],
   "source": []
  },
  {
   "cell_type": "markdown",
   "metadata": {},
   "source": [
    "## CheckID \n",
    " - How to get the identity of unnamed observations (i.e. whether they are consistent with any named, known object(s))"
   ]
  },
  {
   "cell_type": "code",
   "execution_count": null,
   "metadata": {},
   "outputs": [],
   "source": []
  },
  {
   "cell_type": "markdown",
   "metadata": {},
   "source": [
    "## CheckIDX\n",
    " - Extending CheckID to allow for objects with highly uncertain mean-anomalies"
   ]
  },
  {
   "cell_type": "code",
   "execution_count": null,
   "metadata": {},
   "outputs": [],
   "source": []
  }
 ],
 "metadata": {
  "kernelspec": {
   "display_name": "Python 3",
   "language": "python",
   "name": "python3"
  },
  "language_info": {
   "codemirror_mode": {
    "name": "ipython",
    "version": 3
   },
   "file_extension": ".py",
   "mimetype": "text/x-python",
   "name": "python",
   "nbconvert_exporter": "python",
   "pygments_lexer": "ipython3",
   "version": "3.7.6"
  }
 },
 "nbformat": 4,
 "nbformat_minor": 4
}
