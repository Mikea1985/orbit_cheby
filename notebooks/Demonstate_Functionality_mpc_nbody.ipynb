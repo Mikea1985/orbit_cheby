{
 "cells": [
  {
   "cell_type": "code",
   "execution_count": 1,
   "metadata": {},
   "outputs": [
    {
     "data": {
      "text/plain": [
       "<module 'mpc_nbody.mpc_nbody' from '/home/mikea/GitHub/mpc_nbody/mpc_nbody/mpc_nbody.py'>"
      ]
     },
     "execution_count": 1,
     "metadata": {},
     "output_type": "execute_result"
    }
   ],
   "source": [
    "import sys\n",
    "import os\n",
    "from filecmp import cmp\n",
    "import numpy as np\n",
    "import pytest\n",
    "import importlib\n",
    "from astroquery.jplhorizons import Horizons\n",
    "HEAD_DIR = os.path.dirname(os.path.realpath(os.getcwd()))\n",
    "sys.path.append(os.path.join(HEAD_DIR))\n",
    "from mpc_nbody import mpc_nbody, parse_input\n",
    "importlib.reload(mpc_nbody)"
   ]
  },
  {
   "cell_type": "code",
   "execution_count": 2,
   "metadata": {},
   "outputs": [],
   "source": [
    "DATA_DIR = os.path.join(HEAD_DIR, 'dev_data')\n",
    "filenames = [os.path.join(DATA_DIR, file)\n",
    "              for file in ['30101.eq0_horizons', '30102.eq0_horizons']]\n",
    "au_km = 149597870.700  # This is now a definition\n",
    "vector1 = [-2.093834952466475E+00, 1.000913720009255E+00, 4.197984954533551E-01, -4.226738336365523E-03, -9.129140909705199E-03, -3.627121453928710E-03]\n",
    "vector2 = [-3.143563543369602e+00, 2.689063646113277E+00, 3.554211184881579E+00, -5.610620819862405e-03, -4.232958051824352E-03, -1.638364029313663E-03]\n",
    "Parsed1 = parse_input.ParseElements(filenames[0], 'eq')\n",
    "Parsed2 = parse_input.ParseElements(filenames[1], 'eq')"
   ]
  },
  {
   "cell_type": "markdown",
   "metadata": {},
   "source": [
    "# Explicit Test Code Exists in mpc_nbody/tests\n",
    "\n",
    " - test_parse_input.py\n",
    " - test_run_nbody.py\n",
    " \n",
    " Run these using pytest"
   ]
  },
  {
   "cell_type": "markdown",
   "metadata": {},
   "source": [
    "# Top-level: \"mpc_nbody.NbodySim\" - Parse, run, save, cheby.\n",
    " - Instantiation takes either no input (for manually feeding vectors later) or an input file in ele220 (not yet implemented) or OrbFit format, then calls the parser from parse_input. \n",
    " - Calling the class optionally takes a tstart, list of vectors, timestep, time range. If a filename was supplied at instantiation, the class can be called with no input to simply integrate that orbit from the epoch of the orbit (although one might want to change the default tstep and trange). \n",
    " - Both call a number of under-lying functionalities."
   ]
  },
  {
   "cell_type": "code",
   "execution_count": 3,
   "metadata": {},
   "outputs": [
    {
     "name": "stdout",
     "output_type": "stream",
     "text": [
      "tstart 2456117.641933589\n",
      "tstep +20.0\n",
      "trange 600.\n",
      "geocentric 0\n",
      "state\n",
      "-2.093834952466474e+00  1.000913720009255e+00  4.197984954533551e-01 \n",
      "-4.226738336365523e-03 -9.129140909705197e-03 -3.627121453928710e-03 \n",
      "\n",
      "\n",
      "#Input vectors: [-2.0938349524664743 1.0009137200092553 0.41979849545335507 -0.004226738336365523 -0.009129140909705197 -0.0036271214539287102]\n",
      "#Input N_particles: 1\n",
      "#Start time, timestep, time range: [2456117.641933589, 20, 600]\n",
      "#Output N_times: 328\n",
      "#Output N_particles: 1\n",
      "#\n",
      "#Time               x                  y                  z                   dx                    dy                    dz                  \n",
      "2456117.641933589 -2.0938349524664743 1.0009137200092553 0.41979849545335507 -0.004226738336365523 -0.009129140909705197 -0.0036271214539287102 \n",
      "2456118.7671847995 -2.0985611457606694 0.9906268479863111 0.41571107526570966 -0.004173477380689331 -0.00915450997156762 -0.003637765737845294 \n",
      "2456121.2467474234 -2.1087634347251702 0.9678591498897638 0.4066622393235186 -0.0040554819245086 -0.009209585437161112 -0.003660894744530345 \n",
      "  335  2331 47552 simulation_states.dat\n",
      "pparticle\n",
      "geocentric\n",
      "input_vectors\n",
      "input_n_particles\n",
      "output_times\n",
      "output_vectors\n",
      "output_n_times\n",
      "output_n_particles\n",
      "time_parameters\n",
      "CPU times: user 48.8 ms, sys: 36.5 ms, total: 85.3 ms\n",
      "Wall time: 535 ms\n"
     ]
    }
   ],
   "source": [
    "%%time\n",
    "importlib.reload(mpc_nbody)\n",
    "# First, let's initiate the class with an input file:\n",
    "Sim = mpc_nbody.NbodySim(filenames[0], 'eq', save_parsed=True)\n",
    "# Because save_parsed=True, the parsed orbit is saved to a holman_ic file:\n",
    "!cat holman_ic\n",
    "# (this is optional; the holman_ic file does not get used. \n",
    "# To demonstrate, let's delete it.)\n",
    "!rm holman_ic\n",
    "# Now run the integrator, by calling the object. \n",
    "Sim(tstep=20, trange=600, save_output=True)\n",
    "# Because of the (again, optional) save_output=True, output was saved here:\n",
    "!head simulation_states.dat\n",
    "!wc simulation_states.dat\n",
    "#This information is also all available inside the object now:\n",
    "for item in Sim.__dict__ : print(item)"
   ]
  },
  {
   "cell_type": "markdown",
   "metadata": {},
   "source": [
    "# Lower-level functionalities\n",
    " - The above \"NbodySim\" usage uses some underlying functionality to perform the parsing, integration and storage of output.\n",
    " - Here we demonstrate some of the underlying functionality."
   ]
  },
  {
   "cell_type": "markdown",
   "metadata": {},
   "source": [
    "##### mpc_nbody.NbodySim.\\_\\_init__\n",
    " - With no arguments to set up an empty object. "
   ]
  },
  {
   "cell_type": "code",
   "execution_count": 4,
   "metadata": {},
   "outputs": [
    {
     "name": "stdout",
     "output_type": "stream",
     "text": [
      "Keywords 'input_file' and/or 'filetype' missing; initiating empty object.\n"
     ]
    },
    {
     "data": {
      "text/plain": [
       "{'pparticle': None,\n",
       " 'geocentric': False,\n",
       " 'input_vectors': None,\n",
       " 'input_n_particles': None,\n",
       " 'output_times': None,\n",
       " 'output_vectors': None,\n",
       " 'output_n_times': None,\n",
       " 'output_n_particles': None,\n",
       " 'time_parameters': None}"
      ]
     },
     "execution_count": 4,
     "metadata": {},
     "output_type": "execute_result"
    }
   ],
   "source": [
    "Sim = mpc_nbody.NbodySim()\n",
    "Sim.__dict__"
   ]
  },
  {
   "cell_type": "markdown",
   "metadata": {},
   "source": [
    "##### mpc_nbody.NbodySim.\\_\\_call__\n",
    " - Runs the N-body integrator. Can be done in a few different ways."
   ]
  },
  {
   "cell_type": "code",
   "execution_count": 5,
   "metadata": {},
   "outputs": [
    {
     "name": "stdout",
     "output_type": "stream",
     "text": [
      "Keywords 'input_file' and/or 'filetype' missing; initiating empty object.\n",
      "\n",
      "\n",
      "pparticle () <class 'NoneType'>\n",
      "geocentric () <class 'bool'>\n",
      "input_vectors (6,) <class 'numpy.ndarray'>\n",
      "input_n_particles () <class 'int'>\n",
      "output_times (328,) <class 'numpy.ndarray'>\n",
      "output_vectors (328, 1, 6) <class 'numpy.ndarray'>\n",
      "output_n_times () <class 'int'>\n",
      "output_n_particles () <class 'int'>\n",
      "time_parameters (3,) <class 'list'>\n"
     ]
    }
   ],
   "source": [
    "#Method 1, using a list containing the 6 elements of an object\n",
    "importlib.reload(mpc_nbody)\n",
    "Sim = mpc_nbody.NbodySim()\n",
    "Sim(vectors = vector1,\n",
    "    tstart=2456117.5, tstep=20, trange=600)\n",
    "_ = [print(k, np.shape(Sim.__dict__[k]), type(Sim.__dict__[k]))\n",
    "     for k in Sim.__dict__]"
   ]
  },
  {
   "cell_type": "code",
   "execution_count": 6,
   "metadata": {},
   "outputs": [
    {
     "name": "stdout",
     "output_type": "stream",
     "text": [
      "Keywords 'input_file' and/or 'filetype' missing; initiating empty object.\n",
      "\n",
      "\n",
      "pparticle () <class 'NoneType'>\n",
      "geocentric () <class 'bool'>\n",
      "input_vectors (12,) <class 'numpy.ndarray'>\n",
      "input_n_particles () <class 'int'>\n",
      "output_times (328,) <class 'numpy.ndarray'>\n",
      "output_vectors (328, 2, 6) <class 'numpy.ndarray'>\n",
      "output_n_times () <class 'int'>\n",
      "output_n_particles () <class 'int'>\n",
      "time_parameters (3,) <class 'list'>\n"
     ]
    }
   ],
   "source": [
    "#Method 2, using a list containing the 6 elements of multiple objects\n",
    "importlib.reload(mpc_nbody)\n",
    "Sim = mpc_nbody.NbodySim()\n",
    "Sim(vectors = vector1 + vector2,\n",
    "    tstart=2456117.5, tstep=20, trange=600)\n",
    "_ = [print(k, np.shape(Sim.__dict__[k]), type(Sim.__dict__[k]))\n",
    "     for k in Sim.__dict__]"
   ]
  },
  {
   "cell_type": "code",
   "execution_count": 7,
   "metadata": {},
   "outputs": [
    {
     "name": "stdout",
     "output_type": "stream",
     "text": [
      "Keywords 'input_file' and/or 'filetype' missing; initiating empty object.\n",
      "\n",
      "\n",
      "pparticle () <class 'NoneType'>\n",
      "geocentric () <class 'bool'>\n",
      "input_vectors (6,) <class 'numpy.ndarray'>\n",
      "input_n_particles () <class 'int'>\n",
      "output_times (328,) <class 'numpy.ndarray'>\n",
      "output_vectors (328, 1, 6) <class 'numpy.ndarray'>\n",
      "output_n_times () <class 'int'>\n",
      "output_n_particles () <class 'int'>\n",
      "time_parameters (3,) <class 'list'>\n"
     ]
    }
   ],
   "source": [
    "#Method 3, parse_input.ParseElements object\n",
    "importlib.reload(mpc_nbody)\n",
    "Sim = mpc_nbody.NbodySim()\n",
    "Sim(vectors = Parsed1, tstart=Parsed1.time.tdb.jd, tstep=20, trange=600)\n",
    "_ = [print(k, np.shape(Sim.__dict__[k]), type(Sim.__dict__[k]))\n",
    "     for k in Sim.__dict__]"
   ]
  },
  {
   "cell_type": "code",
   "execution_count": 8,
   "metadata": {},
   "outputs": [
    {
     "name": "stdout",
     "output_type": "stream",
     "text": [
      "Keywords 'input_file' and/or 'filetype' missing; initiating empty object.\n",
      "\n",
      "\n",
      "\n",
      "pparticle () <class 'NoneType'>\n",
      "geocentric () <class 'bool'>\n",
      "input_vectors (12,) <class 'numpy.ndarray'>\n",
      "input_n_particles () <class 'int'>\n",
      "output_times (328,) <class 'numpy.ndarray'>\n",
      "output_vectors (328, 2, 6) <class 'numpy.ndarray'>\n",
      "output_n_times () <class 'int'>\n",
      "output_n_particles () <class 'int'>\n",
      "time_parameters (3,) <class 'list'>\n"
     ]
    }
   ],
   "source": [
    "#Method 4, a list of parse_input.ParseElements objects\n",
    "importlib.reload(mpc_nbody)\n",
    "Sim = mpc_nbody.NbodySim()\n",
    "Sim(vectors = [Parsed1, Parsed2], tstart=Parsed1.time.tdb.jd, tstep=20, trange=600)\n",
    "_ = [print(k, np.shape(Sim.__dict__[k]), type(Sim.__dict__[k]))\n",
    "     for k in Sim.__dict__]"
   ]
  },
  {
   "cell_type": "code",
   "execution_count": 9,
   "metadata": {},
   "outputs": [
    {
     "name": "stdout",
     "output_type": "stream",
     "text": [
      "\n",
      "\n",
      "pparticle () <class 'mpc_nbody.parse_input.ParseElements'>\n",
      "geocentric () <class 'bool'>\n",
      "input_vectors (6,) <class 'numpy.ndarray'>\n",
      "input_n_particles () <class 'int'>\n",
      "output_times (328,) <class 'numpy.ndarray'>\n",
      "output_vectors (328, 1, 6) <class 'numpy.ndarray'>\n",
      "output_n_times () <class 'int'>\n",
      "output_n_particles () <class 'int'>\n",
      "time_parameters (3,) <class 'list'>\n"
     ]
    }
   ],
   "source": [
    "#Method 5, have NbodySim do stuff automatically \n",
    "#(only implemented for one object)\n",
    "importlib.reload(mpc_nbody)\n",
    "Sim = mpc_nbody.NbodySim(filenames[0], 'eq')\n",
    "# This essentially stores the parsed elements within a pparticle atribute in Sim\n",
    "Sim(tstep=20, trange=600)\n",
    "_ = [print(k, np.shape(Sim.__dict__[k]), type(Sim.__dict__[k]))\n",
    "     for k in Sim.__dict__]"
   ]
  },
  {
   "cell_type": "markdown",
   "metadata": {},
   "source": [
    "##### mpc_nbody.NbodySim.save_output()\n",
    " - Saves the output to a file (filename is optional argument)."
   ]
  },
  {
   "cell_type": "code",
   "execution_count": 10,
   "metadata": {},
   "outputs": [
    {
     "name": "stdout",
     "output_type": "stream",
     "text": [
      "\n",
      "\n",
      "#Input vectors: [-2.0938349524664743 1.0009137200092553 0.41979849545335507 -0.004226738336365523 -0.009129140909705197 -0.0036271214539287102 \b]\r\n",
      "#Input N_particles: 1\r\n",
      "#Start time, timestep, time range: [2456117.641933589, 20, 600]\r\n",
      "#Output N_times: 328\r\n",
      "#Output N_particles: 1\r\n",
      "#\r\n",
      "#Time               x                  y                  z                   dx                    dy                    dz                  \r\n",
      "2456117.641933589 -2.0938349524664743 1.0009137200092553 0.41979849545335507 -0.004226738336365523 -0.009129140909705197 -0.0036271214539287102 \r\n",
      "2456118.7671847995 -2.0985611457606694 0.9906268479863111 0.41571107526570966 -0.004173477380689331 -0.00915450997156762 -0.003637765737845294 \r\n",
      "2456121.2467474234 -2.1087634347251702 0.9678591498897638 0.4066622393235186 -0.0040554819245086 -0.009209585437161112 -0.003660894744530345 \r\n"
     ]
    }
   ],
   "source": [
    "importlib.reload(mpc_nbody)\n",
    "Sim = mpc_nbody.NbodySim(filenames[0], 'eq')\n",
    "Sim(tstep=20, trange=600)\n",
    "Sim.save_output(output_file='notebook_save.dat')\n",
    "!head notebook_save.dat"
   ]
  },
  {
   "cell_type": "markdown",
   "metadata": {},
   "source": [
    "##### mpc_nbody.run_nbody(input_vectors, tstart, tstep, trange)\n",
    " - The function that actually runs the N-body integrator. Called by NbodySim"
   ]
  },
  {
   "cell_type": "code",
   "execution_count": 11,
   "metadata": {},
   "outputs": [
    {
     "name": "stdout",
     "output_type": "stream",
     "text": [
      "\n"
     ]
    },
    {
     "data": {
      "text/plain": [
       "(328, 2, 6)"
      ]
     },
     "execution_count": 11,
     "metadata": {},
     "output_type": "execute_result"
    }
   ],
   "source": [
    "importlib.reload(mpc_nbody)\n",
    "(input_vectors, input_n_particles, output_times, output_vectors, output_n_times, output_n_particles\n",
    " ) = mpc_nbody.run_nbody(vector1 + vector2, tstart=2456117.5,\n",
    "                         tstep=20, trange=600, geocentric=False)\n",
    "np.shape(output_vectors)"
   ]
  },
  {
   "cell_type": "markdown",
   "metadata": {},
   "source": [
    "##### mpc_nbody._fix_input(input)\n",
    " - Used to interpret what kind of input is given (6 element list, ParseElements object, list of ParseElements objects) and returns a standardized format (list containing 6 elements for each object). \n",
    " - Not intended for user usage, but demonstrated here anyway. "
   ]
  },
  {
   "cell_type": "code",
   "execution_count": 12,
   "metadata": {},
   "outputs": [
    {
     "name": "stdout",
     "output_type": "stream",
     "text": [
      "\n",
      "object 0 [-2.09383495  1.00091372  0.4197985  -0.00422674 -0.00912914 -0.00362712]\n",
      "\n",
      "\n",
      "object 0 [-2.09383495  1.00091372  0.4197985  -0.00422674 -0.00912914 -0.00362712]\n",
      "object 1 [ 1.00091372  0.4197985  -0.00422674 -0.00912914 -0.00362712 -3.14356354]\n",
      "\n",
      "object 0 [-2.09383495  1.00091372  0.4197985  -0.00422674 -0.00912914 -0.00362712]\n",
      "\n",
      "object 0 [-2.09383495  1.00091372  0.4197985  -0.00422674 -0.00912914 -0.00362712]\n",
      "object 1 [ 1.00091372  0.4197985  -0.00422674 -0.00912914 -0.00362712 -3.14356354]\n"
     ]
    }
   ],
   "source": [
    "# Case 1: a single parse_input.ParseElements object\n",
    "reparsed, nobj = mpc_nbody._fix_input(Parsed1)\n",
    "for i in np.arange(nobj): print(f'object {i}', reparsed[0+i:6+i])\n",
    "# Case 2: a list of parse_input.ParseElements objects\n",
    "reparsed, nobj = mpc_nbody._fix_input([Parsed1, Parsed2])\n",
    "for i in np.arange(nobj): print(f'object {i}', reparsed[0+i:6+i])\n",
    "# Case 3: a list containing the 6-vector for an object\n",
    "reparsed, nobj = mpc_nbody._fix_input(vector1)\n",
    "for i in np.arange(nobj): print(f'object {i}', reparsed[0+i:6+i])\n",
    "# Case 4: a list containing the 6-vectors of multiple objects as one long list.\n",
    "# (this case is identical to the output)\n",
    "reparsed, nobj = mpc_nbody._fix_input(vector1 + vector2)\n",
    "for i in np.arange(nobj): print(f'object {i}', reparsed[0+i:6+i])"
   ]
  }
 ],
 "metadata": {
  "kernelspec": {
   "display_name": "Python 3",
   "language": "python",
   "name": "python3"
  },
  "language_info": {
   "codemirror_mode": {
    "name": "ipython",
    "version": 3
   },
   "file_extension": ".py",
   "mimetype": "text/x-python",
   "name": "python",
   "nbconvert_exporter": "python",
   "pygments_lexer": "ipython3",
   "version": "3.7.7"
  }
 },
 "nbformat": 4,
 "nbformat_minor": 4
}
