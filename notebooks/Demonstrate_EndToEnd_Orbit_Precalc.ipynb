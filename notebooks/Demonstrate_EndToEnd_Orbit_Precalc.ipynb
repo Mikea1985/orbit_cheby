{
 "cells": [
  {
   "cell_type": "markdown",
   "metadata": {},
   "source": [
    "# Demonstration of anticipated end-to-end creation of Orbit PreCalculations\n",
    " - This is the expected usage to go from a newly-fitted orbit, to the storage of cheby polynomials & nightly-healpix in a database\n",
    " \n",
    " - At present (20200618) this is incomplete and intended as a schematic to aid development"
   ]
  },
  {
   "cell_type": "markdown",
   "metadata": {},
   "source": [
    "#### Basic imports ..."
   ]
  },
  {
   "cell_type": "code",
   "execution_count": null,
   "metadata": {},
   "outputs": [],
   "source": [
    "import time\n",
    "import numpy as np\n",
    "import scipy.stats as stats\n",
    "import math\n",
    "import random\n",
    "from collections import defaultdict\n",
    "import os\n",
    "import sys\n",
    "from collections import Counter\n",
    "import glob \n",
    "import warnings\n",
    "import warnings\n",
    "warnings.filterwarnings('ignore')\n",
    "import matplotlib.pyplot as plt\n",
    "import importlib\n",
    "from astropy.time import Time\n",
    "import pickle\n",
    "\n",
    "\n",
    "# -------------------------------------------------------------------------------------\n",
    "# Local imports\n",
    "# -------------------------------------------------------------------------------------\n",
    "\n",
    "# parent directory is */cheby_checker\n",
    "HEAD_DIR = os.path.dirname(os.path.realpath(os.getcwd())) \n",
    "sys.path.append(os.path.join(HEAD_DIR))\n",
    "print(f' HEAD_DIR: {HEAD_DIR} ')\n",
    "\n",
    "# directory with sample data for development\n",
    "DATA_DIR = os.path.join(HEAD_DIR, 'dev_data')\n",
    "print(f' DATA_DIR: {DATA_DIR} ')\n",
    "\n",
    "# import nbody-related code from main cheby_checker directory\n",
    "from cheby_checker import mpc_nbody, parse_input, orbit_cheby, precalc, sql\n",
    "importlib.reload(mpc_nbody)\n",
    "importlib.reload(precalc)\n",
    "\n",
    "\"\"\"\n",
    "# orbit_cheby & nbody_reader imports \n",
    "#sys.path.append( \"/Users/matthewjohnpayne/Envs/orbit_cheby/orbit_cheby/\" )\n",
    "from orbit_cheby import orbit_cheby\n",
    "from orbit_cheby import nbody_reader\n",
    "importlib.reload(orbit_cheby)\n",
    "importlib.reload(nbody_reader)\n",
    "\n",
    "# obs_pos import(s) \n",
    "from orbit_cheby import obs_pos\n",
    "importlib.reload(obs_pos)\n",
    "\n",
    "# sql import(s) \n",
    "from orbit_cheby import sql\n",
    "importlib.reload(sql)\n",
    "\n",
    "# PreCalc import(s) \n",
    "from orbit_cheby import precalc\n",
    "importlib.reload(precalc)\n",
    "\"\"\""
   ]
  },
  {
   "cell_type": "markdown",
   "metadata": {},
   "source": [
    "### (1) Use *mpc_nbody*\n",
    " - Perform NBody simulation on results from OrbFit\n",
    " - mpc_nbody is a convenience wrapper around Holman's version of reboundx\n",
    " - The notebook *Demonstate_Functionality_mpc_nbody.ipynb* contains more detailed demonstrations"
   ]
  },
  {
   "cell_type": "code",
   "execution_count": null,
   "metadata": {},
   "outputs": [],
   "source": [
    "%%time\n",
    "importlib.reload(mpc_nbody)\n",
    "\n",
    "# Define some files that have data in them \n",
    "filenames = [os.path.join(DATA_DIR, file)\n",
    "              for file in ['30101.eq0_horizons', '30102.eq0_horizons']]\n",
    "\n",
    "# First, let's initiate the class with an input file:\n",
    "Sim = mpc_nbody.NbodySim(filenames[0], 'eq')\n",
    "\n",
    "# Now run the integrator, by calling the object. \n",
    "Sim(tstep=20, trange=600)\n",
    "\n",
    "#The results are all available inside the object now:\n",
    "for item in Sim.__dict__ : print(f'item:type = {item, type(Sim.__dict__[item])} ')"
   ]
  },
  {
   "cell_type": "markdown",
   "metadata": {},
   "source": [
    "### (2) Use *orbit_cheby*\n",
    " - Load arrays of simulation data into Multi-Sector-Cheby object(s)"
   ]
  },
  {
   "cell_type": "code",
   "execution_count": null,
   "metadata": {},
   "outputs": [],
   "source": [
    "# Use the MSC_Loader to do all of the work to declare and populate a list of MSC objects\n",
    "#\n",
    "MSCs = orbit_cheby.MSC_Loader(FROM_ARRAY = True , \n",
    "                                primary_unpacked_provisional_designations = filenames[0], \n",
    "                                times_TDB = Sim.output_times, \n",
    "                                statearray = Sim.output_vectors).MSCs"
   ]
  },
  {
   "cell_type": "markdown",
   "metadata": {},
   "source": [
    "### (3) Do pre-calcs and store in db *orbit_cheby*\n",
    " - Uses the chebyshev coeffs in the MSCs to calculate nightly healpix\n",
    " - Stores the chebyshev coeffs & the nightly healpix in a database"
   ]
  },
  {
   "cell_type": "code",
   "execution_count": null,
   "metadata": {},
   "outputs": [],
   "source": [
    "# Declare a \"PreCalc\" object \n",
    "P = precalc.PreCalc()\n",
    "\n",
    "# I'mnot sure why P.upsert requires an observatory position.\n",
    "# The MSC are independent of the observer. \n",
    "# The observer is only relevant once we want to query for \"where is object at date-time?\"\n",
    "\n",
    "# To make this work, I'll just fudge a fake number for now:\n",
    "# Ugh, why does this think the xyz needs to be shape (3, 20000)?\n",
    "observatoryXYZ = np.zeros([3, 20000])\n",
    "\n",
    "# Do the upsert \n",
    "P.upsert( MSCs , observatoryXYZ)"
   ]
  }
 ],
 "metadata": {
  "kernelspec": {
   "display_name": "Python 3",
   "language": "python",
   "name": "python3"
  },
  "language_info": {
   "codemirror_mode": {
    "name": "ipython",
    "version": 3
   },
   "file_extension": ".py",
   "mimetype": "text/x-python",
   "name": "python",
   "nbconvert_exporter": "python",
   "pygments_lexer": "ipython3",
   "version": "3.8.3"
  }
 },
 "nbformat": 4,
 "nbformat_minor": 4
}
