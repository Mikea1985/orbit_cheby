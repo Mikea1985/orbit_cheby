{
 "cells": [
  {
   "cell_type": "markdown",
   "metadata": {},
   "source": [
    "# Demonstration of anticipated end-to-end creation of Orbit PreCalculations\n",
    " - This is the expected usage to go from a newly-fitted orbit, to the storage of cheby polynomials & nightly-healpix in a database\n",
    " \n",
    " - At present (20200618) this is incomplete and intended as a schematic to aid development"
   ]
  },
  {
   "cell_type": "markdown",
   "metadata": {},
   "source": [
    "#### Basic imports ..."
   ]
  },
  {
   "cell_type": "code",
   "execution_count": 1,
   "metadata": {},
   "outputs": [
    {
     "ename": "ModuleNotFoundError",
     "evalue": "No module named 'orbit_cheby'",
     "output_type": "error",
     "traceback": [
      "\u001b[0;31m---------------------------------------------------------------------------\u001b[0m",
      "\u001b[0;31mModuleNotFoundError\u001b[0m                       Traceback (most recent call last)",
      "\u001b[0;32m<ipython-input-1-81caaf6909be>\u001b[0m in \u001b[0;36m<module>\u001b[0;34m\u001b[0m\n\u001b[1;32m     24\u001b[0m \u001b[0;31m# orbit_cheby & nbody_reader imports\u001b[0m\u001b[0;34m\u001b[0m\u001b[0;34m\u001b[0m\u001b[0;34m\u001b[0m\u001b[0m\n\u001b[1;32m     25\u001b[0m \u001b[0;31m#sys.path.append( \"/Users/matthewjohnpayne/Envs/orbit_cheby/orbit_cheby/\" )\u001b[0m\u001b[0;34m\u001b[0m\u001b[0;34m\u001b[0m\u001b[0;34m\u001b[0m\u001b[0m\n\u001b[0;32m---> 26\u001b[0;31m \u001b[0;32mfrom\u001b[0m \u001b[0morbit_cheby\u001b[0m \u001b[0;32mimport\u001b[0m \u001b[0morbit_cheby\u001b[0m\u001b[0;34m\u001b[0m\u001b[0;34m\u001b[0m\u001b[0m\n\u001b[0m\u001b[1;32m     27\u001b[0m \u001b[0;32mfrom\u001b[0m \u001b[0morbit_cheby\u001b[0m \u001b[0;32mimport\u001b[0m \u001b[0mnbody_reader\u001b[0m\u001b[0;34m\u001b[0m\u001b[0;34m\u001b[0m\u001b[0m\n\u001b[1;32m     28\u001b[0m \u001b[0mimportlib\u001b[0m\u001b[0;34m.\u001b[0m\u001b[0mreload\u001b[0m\u001b[0;34m(\u001b[0m\u001b[0morbit_cheby\u001b[0m\u001b[0;34m)\u001b[0m\u001b[0;34m\u001b[0m\u001b[0;34m\u001b[0m\u001b[0m\n",
      "\u001b[0;31mModuleNotFoundError\u001b[0m: No module named 'orbit_cheby'"
     ]
    }
   ],
   "source": [
    "import time\n",
    "import numpy as np\n",
    "import scipy.stats as stats\n",
    "import math\n",
    "import random\n",
    "from collections import defaultdict\n",
    "import os\n",
    "import sys\n",
    "from collections import Counter\n",
    "import glob \n",
    "import warnings\n",
    "import warnings\n",
    "warnings.filterwarnings('ignore')\n",
    "import matplotlib.pyplot as plt\n",
    "import importlib\n",
    "from astropy.time import Time\n",
    "import pickle\n",
    "\n",
    "\n",
    "# -------------------------------------------------------------------------------------\n",
    "# Local imports\n",
    "# -------------------------------------------------------------------------------------\n",
    "\n",
    "# orbit_cheby & nbody_reader imports \n",
    "#sys.path.append( \"/Users/matthewjohnpayne/Envs/orbit_cheby/orbit_cheby/\" )\n",
    "from orbit_cheby import orbit_cheby\n",
    "from orbit_cheby import nbody_reader\n",
    "importlib.reload(orbit_cheby)\n",
    "importlib.reload(nbody_reader)\n",
    "\n",
    "# obs_pos import(s) \n",
    "from orbit_cheby import obs_pos\n",
    "importlib.reload(obs_pos)\n",
    "\n",
    "# sql import(s) \n",
    "from orbit_cheby import sql\n",
    "importlib.reload(sql)\n",
    "\n",
    "# PreCalc import(s) \n",
    "from orbit_cheby import precalc\n",
    "importlib.reload(precalc)\n"
   ]
  },
  {
   "cell_type": "markdown",
   "metadata": {},
   "source": [
    "### (1) Use *mpc_nbody*\n",
    " - Perform NBody simulation on results from OrbFit\n",
    " - mpc_nbody is a convenience wrapper around Holman's version of reboundx"
   ]
  },
  {
   "cell_type": "code",
   "execution_count": null,
   "metadata": {},
   "outputs": [],
   "source": [
    "%%time\n",
    "importlib.reload(mpc_nbody)\n",
    "# First, let's initiate the class with an input file:\n",
    "Sim = mpc_nbody.NbodySim(filenames[0], 'eq')\n",
    "\n",
    "# Now run the integrator, by calling the object. \n",
    "Sim(tstep=20, trange=600)\n",
    "\n",
    "#The results are all available inside the object now:\n",
    "for item in Sim.__dict__ : print(item)"
   ]
  },
  {
   "cell_type": "markdown",
   "metadata": {},
   "source": [
    "### (2) Use *orbit_cheby*\n",
    " - Load arrays of simulation data into Multi-Sector-Cheby object(s)"
   ]
  },
  {
   "cell_type": "code",
   "execution_count": null,
   "metadata": {},
   "outputs": [],
   "source": [
    "# Use the MSC_Loader to do all of the work to decalre and populate a list of MSC objects\n",
    "#\n",
    "# NEEDS TO BE UPDATED TO USE Sim.output_times & Sim.output_vectors\n",
    "#\n",
    "MSCs = orbit_cheby.MSC_Loader(FROM_ARRAY = True , \n",
    "                                primary_unpacked_provisional_designations = name, \n",
    "                                times_TDB = times, \n",
    "                                statearray = states).MSCs"
   ]
  },
  {
   "cell_type": "markdown",
   "metadata": {},
   "source": [
    "### (3) Use *orbit_cheby*\n",
    " - Uses the chebyshev coeffs in the MSCs to calculate nightly healpix\n",
    " - Stores the chebyshev coeffs & the nightly healpix in a database"
   ]
  },
  {
   "cell_type": "code",
   "execution_count": null,
   "metadata": {},
   "outputs": [],
   "source": [
    "# Declare a \"PreCalc\" object \n",
    "P = precalc.PreCalc()\n",
    "\n",
    "# Do the upsert \n",
    "P.upsert( MSCs , observatoryXYZ)"
   ]
  }
 ],
 "metadata": {
  "kernelspec": {
   "display_name": "Python 3",
   "language": "python",
   "name": "python3"
  },
  "language_info": {
   "codemirror_mode": {
    "name": "ipython",
    "version": 3
   },
   "file_extension": ".py",
   "mimetype": "text/x-python",
   "name": "python",
   "nbconvert_exporter": "python",
   "pygments_lexer": "ipython3",
   "version": "3.7.6"
  }
 },
 "nbformat": 4,
 "nbformat_minor": 4
}
