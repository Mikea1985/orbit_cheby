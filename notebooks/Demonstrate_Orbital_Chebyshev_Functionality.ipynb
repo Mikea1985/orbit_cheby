{
 "cells": [
  {
   "cell_type": "markdown",
   "metadata": {},
   "source": [
    "# Demonstrations of Orbit_Cheby Functionality\n",
    "\n",
    " - This notebook contains a mixture of demos of finished code, as well as WIP experimentation with ways to speed-up the code "
   ]
  },
  {
   "cell_type": "code",
   "execution_count": 2,
   "metadata": {},
   "outputs": [
    {
     "data": {
      "text/plain": [
       "<module 'orbit_cheby' from '/Users/matthewjohnpayne/Envs/orbit_cheby/orbit_cheby/orbit_cheby.py'>"
      ]
     },
     "execution_count": 2,
     "metadata": {},
     "output_type": "execute_result"
    }
   ],
   "source": [
    "import time\n",
    "import numpy as np\n",
    "import scipy.stats as stats\n",
    "import math\n",
    "import random\n",
    "from collections import defaultdict\n",
    "import os\n",
    "import sys\n",
    "from collections import Counter\n",
    "import glob \n",
    "import warnings\n",
    "import warnings\n",
    "warnings.filterwarnings('ignore')\n",
    "import matplotlib.pyplot as plt\n",
    "import importlib\n",
    "from astropy.time import Time\n",
    "\n",
    "# -------------------------------------------------------------------------------------\n",
    "# Local imports\n",
    "# -------------------------------------------------------------------------------------\n",
    "sys.path.append( os.path.join(os.path.dirname(os.getcwd() ), 'orbit_cheby')  )\n",
    "import nbody_reader \n",
    "import orbit_cheby\n",
    "importlib.reload(nbody_reader)\n",
    "importlib.reload(orbit_cheby)\n"
   ]
  },
  {
   "cell_type": "markdown",
   "metadata": {},
   "source": [
    "## Demonstrate some aspects of the main orbit_cheby routines \n",
    " - Here I am assuming that the \"nbody_reader\" routine (described in \"Demonstrate_NBody_Reader_Functionality.ipynb\") is available to read input data, and that we can now use the main, higher-level \"orbit_cheby\" routines to operate on that input nbody data, and use it to generate sets of chebyshev coefficients\n",
    " - The chebyshev coefficients are fit to \"sectors\" of data (e.g. 32-day chunks) and saved into suitable data structures \n",
    " - I experiment with dictionaries, but find that numpy arrays are better/faster (surprise surprise)"
   ]
  },
  {
   "cell_type": "markdown",
   "metadata": {},
   "source": [
    "#### *Create* multi-sector chebyshev dictionary: FROM JSON/DICTIONARY\n",
    " - This is an *experimental* version of a roputine to the *FUNDAMENTALLY IMPORTANT* task of converting nbody output into structured sets of chebshev coefficients\n",
    " - In this json/dictionary based approach, the data had individual lists/arrays within a dictionary for each component (e.g. a list for x-data, a list for y-data, etc).  \n",
    " - This preliminary json/dictionary version takes far too long to run (~10secs)"
   ]
  },
  {
   "cell_type": "raw",
   "metadata": {},
   "source": [
    "%%time \n",
    "importlib.reload(nbody_reader)\n",
    "importlib.reload(orbit_cheby)\n",
    "\n",
    "# Set up a filepath (to be created)\n",
    "json_filepath = os.path.join(os.path.dirname(os.getcwd() ), 'dev_data', '2022AA_demo.json')\n",
    "\n",
    "multi_sector_cheby_dict = orbit_cheby.generate_multi_sector_cheby_dict_from_nbody_json( \n",
    "                                    json_filepath ,\n",
    "                                    nbody_dict[nbody_reader.time_fieldname][0],\n",
    "                                    nbody_dict[nbody_reader.time_fieldname][-1], \n",
    "                                    CHECK = True )\n",
    "\n",
    "print ( 'Number of sectors = ' , len(multi_sector_cheby_dict['sectors']) )"
   ]
  },
  {
   "cell_type": "markdown",
   "metadata": {},
   "source": [
    "#### *Create* multi-sector chebyshev dictionary:  Txt/Numpy version \n",
    " - This *WIP* version of the routine to do the *FUNDAMENTALLY IMPORTANT* task of converting nbody output into structured sets of chebshev coefficients uses a text-file/numpy-array based approach\n",
    " - This runs far more quickly (~1sec) than does the above json/dictoinary version \n",
    " - My working assumption is that a ~1sec wait time is borderline tolerable for on-the-fly processing in an s9m/sifter routine (less important for mpchecker-processes, as the creation of the cheby's could be back-grounded in that scenario) "
   ]
  },
  {
   "cell_type": "code",
   "execution_count": 25,
   "metadata": {},
   "outputs": [
    {
     "name": "stdout",
     "output_type": "stream",
     "text": [
      "mscd {'MJP_TDB_init': 40000, 'sectors': [], 'unpacked_designation': '2022 AA', 'MJP_TDB_final': 59999}\n",
      "Number of sectors =  623\n",
      "CPU times: user 1.32 s, sys: 43.8 ms, total: 1.36 s\n",
      "Wall time: 1.39 s\n"
     ]
    }
   ],
   "source": [
    "%%time \n",
    "importlib.reload(orbit_cheby)\n",
    "\n",
    "# Get n-body data from txt file & use to create multi_sector_cheby_dict\n",
    "multi_sector_cheby_dict = orbit_cheby.generate_multi_sector_cheby_dict_from_nbody_text( \n",
    "                                    text_filepath ,\n",
    "                                    minorder=17,\n",
    "                                    CHECK = True )\n",
    "\n",
    "print ( 'Number of sectors = ' , len(multi_sector_cheby_dict['sectors']) )"
   ]
  },
  {
   "cell_type": "markdown",
   "metadata": {},
   "source": [
    "#### Evaluate cheby's at some times ...\n",
    " - Evaluating the cheby's will be done to allow precise positional calculations, in both the sifter- and mpchecker-scenarios. \n",
    " - In the end this needs to be a rapid evaluation ..."
   ]
  },
  {
   "cell_type": "markdown",
   "metadata": {},
   "source": [
    "### XYZ positions \n",
    " - Here we are using a relatively low-level function (generate_XYZ_from_cheby) to find heliocentric XYZ positions using the stored data\n",
    " - It seems to be able to perform ~2e4 XYZ calculations per second (for a single object's chebyshev coeffs)"
   ]
  },
  {
   "cell_type": "code",
   "execution_count": 46,
   "metadata": {},
   "outputs": [
    {
     "name": "stdout",
     "output_type": "stream",
     "text": [
      "CPU times: user 1.18 s, sys: 27.4 ms, total: 1.2 s\n",
      "Wall time: 1.18 s\n"
     ]
    },
    {
     "data": {
      "text/plain": [
       "[<matplotlib.lines.Line2D at 0x1a28b401d0>]"
      ]
     },
     "execution_count": 46,
     "metadata": {},
     "output_type": "execute_result"
    },
    {
     "data": {
      "image/png": "[encoded data removed]",
      "text/plain": [
       "<Figure size 432x288 with 1 Axes>"
      ]
     },
     "metadata": {
      "needs_background": "light"
     },
     "output_type": "display_data"
    }
   ],
   "source": [
    "%%time \n",
    "importlib.reload(orbit_cheby)\n",
    "\n",
    "nSample = 20000 \n",
    "\n",
    "# Set up some evaluation times \n",
    "# - Astropy Time object, MJD, TDB\n",
    "times = Time( np.sort(42000. + 999.*np.random.rand(nSample)), format='mjd', scale='tdb')\n",
    "# Low-level call to get XYZ  ...\n",
    "XYZs = orbit_cheby.generate_XYZ_from_cheby( times , multi_sector_cheby_dict )\n",
    "\n",
    "plt.plot( times.value.tolist() , list(XYZs[:,0]) , '.' ) "
   ]
  },
  {
   "cell_type": "markdown",
   "metadata": {},
   "source": [
    "### Observational UnitVector Calculations\n",
    "\n",
    "###### SIFTER: This UV calc is used at the time of query to (a) get the approx HP (see below) and (b) to get refined positions for precise tracklet matching \n",
    "###### MPCHECKER: This UV calc is used at the time of query to get refined positions for any approx matches extracted from the precalculated data\n",
    "\n",
    " - These calculations require that the positions of the observatory are provided as inputs: I.e. I want to completely separate the obs-posn stuff from the cheby evaluation calculations\n",
    " - For the sake of these demonstrations, I am going to generate a set of standardized input observatory-positions (using a silly ~circular approximation) and then provide those as inputs. \n",
    "     "
   ]
  },
  {
   "cell_type": "code",
   "execution_count": 48,
   "metadata": {},
   "outputs": [],
   "source": [
    "# Create a sample of observatory-positions as inputs \n",
    "# - Note the decision to generate the obs posns in the ecliptic\n",
    "# - The intent is to minimize the subsequent coordinate rotations \n",
    "#   (e..g not rotating from ecliptic-to-equatorial) \n",
    "#   when comparing the orbits to the observatory/observations\n",
    "nSample = 1e4 \n",
    "times = Time( 42000. + np.arange( nSample ) , format='mjd', scale='tdb')\n",
    "r = 1.0 \n",
    "XYZobservatory_heliocentric_ecliptic = np.array( [    r*np.cos(times.value), \n",
    "                                                      r*np.sin(times.value) , \n",
    "                                                  0.3*r*np.cos(times.value)]).T"
   ]
  },
  {
   "cell_type": "markdown",
   "metadata": {},
   "source": [
    " - In this initial experiment *BELOW* I find that it takes: \n",
    "        ~0.6s to evaluate 1e4 unit vectors for a single object using an APPROX (non-iterated) approach\n",
    "        ~2s to evaluate 1e4 unit vectors for a single object using a NON-APPROX (iterated) approach \n",
    " "
   ]
  },
  {
   "cell_type": "code",
   "execution_count": 50,
   "metadata": {},
   "outputs": [
    {
     "name": "stdout",
     "output_type": "stream",
     "text": [
      "(10000, 3)\n",
      "CPU times: user 602 ms, sys: 8.78 ms, total: 611 ms\n",
      "Wall time: 610 ms\n"
     ]
    }
   ],
   "source": [
    "%%time \n",
    "importlib.reload(orbit_cheby)\n",
    "# Now evaluate some unit vectors \n",
    "# - With these kinds of input, all I am really doing is ascertaining that the functions work in the sense of producing numbers\n",
    "# - There is no real understanding of whether the numbers are accurate / correct \n",
    "_ = orbit_cheby.generate_UnitVector_from_cheby( times , \n",
    "                                               multi_sector_cheby_dict , \n",
    "                                               XYZobservatory_heliocentric_ecliptic, \n",
    "                                               APPROX = True\n",
    "                                              )\n",
    "print(_.shape)\n"
   ]
  },
  {
   "cell_type": "code",
   "execution_count": 51,
   "metadata": {},
   "outputs": [
    {
     "name": "stdout",
     "output_type": "stream",
     "text": [
      "(10000, 3)\n",
      "CPU times: user 1.86 s, sys: 24.3 ms, total: 1.89 s\n",
      "Wall time: 1.87 s\n"
     ]
    }
   ],
   "source": [
    "%%time \n",
    "importlib.reload(orbit_cheby)\n",
    "# Now evaluate some unit vectors \n",
    "# - With these kinds of input, all I am really doing is ascertaining that the functions work in the sense of producing numbers\n",
    "# - There is no real understanding of whether the numbers are accurate / correct \n",
    "_ = orbit_cheby.generate_UnitVector_from_cheby( times , \n",
    "                                               multi_sector_cheby_dict , \n",
    "                                               XYZobservatory_heliocentric_ecliptic, \n",
    "                                               APPROX = False\n",
    "                                              )\n",
    "print(_.shape)\n"
   ]
  },
  {
   "cell_type": "markdown",
   "metadata": {},
   "source": [
    "### Observational HP Calculations\n",
    "###### SIFTER: This HP routine will be used intensively at the time a search is executed to find the APPROX HP location of an object over a series of many nights \n",
    "###### MPCHECKER: This HP routine will be used in the precalculation phase to find-and-store the HP location of an object across a series of nights \n",
    "\n",
    "\n",
    " - Because this is a wrapper around the unitvector call, the hp call again requires that the positions of the observatory are provided as inputs: I.e. I want to completely separate the obs-posn stuff from the cheby evaluation calculations\n",
    " - For the sake of these demonstrations, I am going to use the obs-posns generated above\n",
    " \n",
    "This brief experiment finds that the time to calcuate 1e4 healpix is essentially the same as the time to  generate the underlying 1e4 unitvectors"
   ]
  },
  {
   "cell_type": "code",
   "execution_count": 55,
   "metadata": {},
   "outputs": [
    {
     "name": "stdout",
     "output_type": "stream",
     "text": [
      "[1724 1710 1700 ... 1457 1429 1379]\n",
      "(10000,)\n",
      "CPU times: user 590 ms, sys: 8.02 ms, total: 598 ms\n",
      "Wall time: 600 ms\n"
     ]
    }
   ],
   "source": [
    "%%time \n",
    "importlib.reload(orbit_cheby)\n",
    "# Now evaluate the HP vectors  \n",
    "# - With these kinds of input, all I am really doing is ascertaining that the functions work in the sense of producing numbers\n",
    "# - There is no real understanding of whether the numbers are accurate / correct \n",
    "_ = orbit_cheby.generate_HP_from_cheby( times , \n",
    "                                               multi_sector_cheby_dict , \n",
    "                                               XYZobservatory_heliocentric_ecliptic, \n",
    "                                               APPROX = True\n",
    "                                              )\n",
    "print(_)\n",
    "print(_.shape)\n"
   ]
  },
  {
   "cell_type": "code",
   "execution_count": null,
   "metadata": {},
   "outputs": [],
   "source": []
  }
 ],
 "metadata": {
  "kernelspec": {
   "display_name": "Python 3",
   "language": "python",
   "name": "python3"
  },
  "language_info": {
   "codemirror_mode": {
    "name": "ipython",
    "version": 3
   },
   "file_extension": ".py",
   "mimetype": "text/x-python",
   "name": "python",
   "nbconvert_exporter": "python",
   "pygments_lexer": "ipython3",
   "version": "3.7.6"
  }
 },
 "nbformat": 4,
 "nbformat_minor": 2
}
