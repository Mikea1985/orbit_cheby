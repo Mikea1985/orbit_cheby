{
 "cells": [
  {
   "cell_type": "markdown",
   "metadata": {},
   "source": [
    "# Demonstrations of Orbit_Cheby Functionality\n",
    "\n",
    " - This notebook contains a mixture of demos of finished code, as well as WIP experimentation with ways to speed-up the code "
   ]
  },
  {
   "cell_type": "code",
   "execution_count": null,
   "metadata": {},
   "outputs": [],
   "source": [
    "import time\n",
    "import numpy as np\n",
    "import scipy.stats as stats\n",
    "import math\n",
    "import random\n",
    "from collections import defaultdict\n",
    "import os\n",
    "import sys\n",
    "from collections import Counter\n",
    "import glob \n",
    "import warnings\n",
    "import warnings\n",
    "warnings.filterwarnings('ignore')\n",
    "import matplotlib.pyplot as plt\n",
    "import importlib\n",
    "from astropy.time import Time\n",
    "\n",
    "# -------------------------------------------------------------------------------------\n",
    "# Local imports\n",
    "# -------------------------------------------------------------------------------------\n",
    "\n",
    "# Can't get the damn thing to work from symbolic link in ...\n",
    "# '/Users/matthewjohnpayne/opt/anaconda3/lib/python3.7/site-packages/orbit_cheby/__init__.py'\n",
    "# So just hardpasting local link for now \n",
    "os.chdir('/Users/matthewjohnpayne/Envs/orbit_cheby/orbit_cheby')\n",
    "\n",
    "import nbody_reader\n",
    "import orbit_cheby\n",
    "orbit_cheby.__file__"
   ]
  },
  {
   "cell_type": "markdown",
   "metadata": {},
   "source": [
    "## Demonstrate some aspects of the main orbit_cheby routines \n",
    " - Here I am assuming that the \"nbody_reader\" routine (described in \"Demonstrate_NBody_Reader_Functionality.ipynb\") is available to read input data, and that we can now use the main, higher-level \"orbit_cheby\" routines to operate on that input nbody data, and use it to generate sets of chebyshev coefficients\n",
    " - The chebyshev coefficients are fit to \"sectors\" of data (e.g. 32-day chunks) and saved into suitable data structures \n",
    " - I experiment with dictionaries, but find that numpy arrays are better/faster (surprise surprise)"
   ]
  },
  {
   "cell_type": "markdown",
   "metadata": {},
   "source": [
    "##### Declare an MSC (multi sector cheby) class object"
   ]
  },
  {
   "cell_type": "code",
   "execution_count": 2,
   "metadata": {},
   "outputs": [
    {
     "name": "stdout",
     "output_type": "stream",
     "text": [
      "<class 'orbit_cheby.MSC'>\n",
      "__class__\n",
      "__delattr__\n",
      "__dict__\n",
      "__dir__\n",
      "__doc__\n",
      "__eq__\n",
      "__format__\n",
      "__ge__\n",
      "__getattribute__\n",
      "__gt__\n",
      "__hash__\n",
      "__init__\n",
      "__init_subclass__\n",
      "__le__\n",
      "__lt__\n",
      "__module__\n",
      "__ne__\n",
      "__new__\n",
      "__reduce__\n",
      "__reduce_ex__\n",
      "__repr__\n",
      "__setattr__\n",
      "__sizeof__\n",
      "__str__\n",
      "__subclasshook__\n",
      "__weakref__\n",
      "evaluate_components\n",
      "from_coord_arrays\n",
      "generate_HP\n",
      "generate_RaDec\n",
      "generate_UnitVector\n",
      "generate_XYZ\n",
      "generate_cheb_for_sector\n",
      "get_valid_range_of_dates\n",
      "map_JD_to_sector_number_and_sector_start_JD\n",
      "map_times_to_sectors\n",
      "maxerr\n",
      "maxorder\n",
      "minorder\n",
      "sector_coeffs\n"
     ]
    }
   ],
   "source": [
    "importlib.reload(orbit_cheby)\n",
    "M = orbit_cheby.MSC()\n",
    "\n",
    "print(type(M) )\n",
    "for item in dir(M) : print(item)\n",
    "del M "
   ]
  },
  {
   "cell_type": "markdown",
   "metadata": {},
   "source": [
    "##### Declare an MSC_Loader class object"
   ]
  },
  {
   "cell_type": "code",
   "execution_count": 3,
   "metadata": {},
   "outputs": [
    {
     "name": "stdout",
     "output_type": "stream",
     "text": [
      "INIT MSC_Loader...\n",
      "Defaulting to the production of a list of empty MSCs\n",
      "<class 'orbit_cheby.MSC_Loader'>\n",
      "FORCE_DATES\n",
      "FROM_ARRAY\n",
      "FROM_DATABASE\n",
      "FROM_FILE\n",
      "MSCs\n",
      "TDB_final\n",
      "TDB_init\n",
      "__class__\n",
      "__delattr__\n",
      "__dict__\n",
      "__dir__\n",
      "__doc__\n",
      "__eq__\n",
      "__format__\n",
      "__ge__\n",
      "__getattribute__\n",
      "__gt__\n",
      "__hash__\n",
      "__init__\n",
      "__init_subclass__\n",
      "__le__\n",
      "__lt__\n",
      "__module__\n",
      "__ne__\n",
      "__new__\n",
      "__reduce__\n",
      "__reduce_ex__\n",
      "__repr__\n",
      "__setattr__\n",
      "__sizeof__\n",
      "__str__\n",
      "__subclasshook__\n",
      "__weakref__\n",
      "_generate_empty\n",
      "_populate_from_database\n",
      "_populate_from_nbody_array\n",
      "_populate_from_nbody_text\n",
      "filepath\n",
      "statearray\n",
      "times_TDB\n",
      "unpacked_provisional_designations\n"
     ]
    }
   ],
   "source": [
    "importlib.reload(orbit_cheby)\n",
    "M = orbit_cheby.MSC_Loader()\n",
    "\n",
    "print(type(M) )\n",
    "for item in dir(M) : print(item)\n",
    "del M "
   ]
  },
  {
   "cell_type": "markdown",
   "metadata": {},
   "source": [
    "#### *Create* multi-sector chebyshev dictionary:  Txt/Numpy version \n",
    " - This *WIP* version of the routine to do the *FUNDAMENTALLY IMPORTANT* task of converting nbody output into structured sets of chebshev coefficients uses a text-file/numpy-array based approach\n",
    " - This runs far more quickly (~1sec) than does the above json/dictoinary version \n",
    " - My working assumption is that a ~1sec wait time is borderline tolerable for on-the-fly processing in an s9m/sifter routine (less important for mpchecker-processes, as the creation of the cheby's could be back-grounded in that scenario) "
   ]
  },
  {
   "cell_type": "raw",
   "metadata": {},
   "source": [
    "%%time \n",
    "importlib.reload(orbit_cheby)\n",
    "\n",
    "# Get n-body data from txt file & use to create multi_sector_cheby_dict\n",
    "text_filepath = '/Users/matthewjohnpayne/Envs/orbit_cheby/dev_data/2022AA_demo.txt'\n",
    "M = orbit_cheby.MSC() \n",
    "M._populate_from_nbody_text( text_filepath )\n",
    "print ( 'Number of sectors = ' , len(M.sectors) )\n",
    "del M \n"
   ]
  },
  {
   "cell_type": "raw",
   "metadata": {},
   "source": [
    "%%time \n",
    "importlib.reload(orbit_cheby)\n",
    "\n",
    "# Direct creation from txt file (one-liner version of the above)\n",
    "M = orbit_cheby.MSC( FROM_FILE=True, filepath=text_filepath )\n",
    "print ( 'Number of sectors = ' , len(M.sectors) )\n",
    "del M \n"
   ]
  },
  {
   "cell_type": "markdown",
   "metadata": {},
   "source": [
    "#### Directly from array \n",
    " - In practice, we will (hopefully) have the data in a numpy-array anyway, direct from the nbody sim\n",
    " - So here we prepopulate an array, and then demo reading in directly from the array"
   ]
  },
  {
   "cell_type": "code",
   "execution_count": 5,
   "metadata": {},
   "outputs": [
    {
     "name": "stdout",
     "output_type": "stream",
     "text": [
      "CPU times: user 594 ms, sys: 21.7 ms, total: 616 ms\n",
      "Wall time: 612 ms\n"
     ]
    }
   ],
   "source": [
    "%%time \n",
    "\n",
    "# Pre-populate numpy array ...\n",
    "text_filepath = '/Users/matthewjohnpayne/Envs/orbit_cheby/dev_data/2022AA_demo.txt'\n",
    "name, times, states  = nbody_reader.parse_nbody_txt( text_filepath )\n"
   ]
  },
  {
   "cell_type": "raw",
   "metadata": {
    "scrolled": true
   },
   "source": [
    "%%time \n",
    "importlib.reload(orbit_cheby)\n",
    "\n",
    "# 2-step (explicit) method to load from array \n",
    "M = orbit_cheby.MSC() \n",
    "M._populate_from_nbody_array(name, times, states)\n",
    "print ( 'Number of sectors = ' , len(M.sectors) )\n",
    "del M "
   ]
  },
  {
   "cell_type": "code",
   "execution_count": 6,
   "metadata": {},
   "outputs": [
    {
     "name": "stdout",
     "output_type": "stream",
     "text": [
      "INIT MSC_Loader...\n",
      "Returned variable is of type <class 'list'> , and length 1  \n",
      "Entry in list is of type <class 'orbit_cheby.MSC'>\n",
      "Number of sectors =  623\n",
      "Shape of sector[0] =  (18, 27)\n",
      "CPU times: user 387 ms, sys: 5.99 ms, total: 393 ms\n",
      "Wall time: 393 ms\n"
     ]
    }
   ],
   "source": [
    "%%time \n",
    "importlib.reload(orbit_cheby)\n",
    "\n",
    "# Use MSC_Loader to initialize & return MSC\n",
    "# N.B.(1) : Loads directly from array \n",
    "# N.B.(2) : Creates a list (of length 1 in this case of MSC objects\n",
    "# N.B.(3) : Use \".MSCs\" to access the list of .MSCs\n",
    "# N.B.(4) : Plural !! : unpacked_provisional_designations \n",
    "MSCs = orbit_cheby.MSC_Loader(FROM_ARRAY = True , \n",
    "                            unpacked_provisional_designations = name, \n",
    "                            times_TDB = times, \n",
    "                            statearray = states).MSCs\n",
    "print( 'Returned variable is of type %r , and length %r  ' % (type(MSCs),len(MSCs) ) )\n",
    "M = MSCs[0]\n",
    "print( 'Entry in list is of type', type(M) )\n",
    "print ( 'Number of sectors = ' , len(M.sector_coeffs) )\n",
    "print ( 'Shape of sector[0] = ' , M.sector_coeffs[0].shape )\n",
    "del M \n"
   ]
  },
  {
   "cell_type": "markdown",
   "metadata": {},
   "source": [
    "#### Directly from array for **MULTIPLE PARTICLES**\n",
    " - Want 3D array \n",
    " - Will create this here by sticking together a few copies of the data for a single particle ...\n"
   ]
  },
  {
   "cell_type": "code",
   "execution_count": 7,
   "metadata": {},
   "outputs": [
    {
     "name": "stdout",
     "output_type": "stream",
     "text": [
      "CPU times: user 2.26 s, sys: 65.1 ms, total: 2.33 s\n",
      "Wall time: 2.32 s\n"
     ]
    },
    {
     "data": {
      "text/plain": [
       "(20000, 27, 4)"
      ]
     },
     "execution_count": 7,
     "metadata": {},
     "output_type": "execute_result"
    }
   ],
   "source": [
    "%%time \n",
    "importlib.reload(orbit_cheby)\n",
    "\n",
    "# Pre-populate numpy array ...\n",
    "# - Note that (i) we need to allow for MULTIPLE NAMES\n",
    "# - We are creating a 3D array of input coords\n",
    "arrays, names = [],[] \n",
    "for i in range(1,5):\n",
    "    name, times, states  = nbody_reader.parse_nbody_txt( text_filepath )\n",
    "    names.append(name+\"_\"+str(i))\n",
    "    arrays.append(states)\n",
    "states_3D = np.stack(arrays, axis=2)\n",
    "states_3D.shape\n"
   ]
  },
  {
   "cell_type": "code",
   "execution_count": 8,
   "metadata": {},
   "outputs": [
    {
     "name": "stdout",
     "output_type": "stream",
     "text": [
      "INIT MSC_Loader...\n",
      "Returned variable is of type <class 'list'> , and length 4  \n",
      "Entry [0] list is of type <class 'orbit_cheby.MSC'>\n",
      "Number of sectors =  623\n",
      "Shape of sector[0] =  (18, 27)\n",
      "CPU times: user 1.37 s, sys: 10.7 ms, total: 1.39 s\n",
      "Wall time: 1.38 s\n"
     ]
    }
   ],
   "source": [
    "%%time \n",
    "importlib.reload(orbit_cheby)\n",
    "\n",
    "# Use MSC_Loader to initialize & return MSC\n",
    "# N.B.(1) : Loads directly from array \n",
    "# N.B.(2) : Creates a list (of length 4 in this case of MSC objects\n",
    "# N.B.(3) : Use \".MSCs\" to access the list of .MSCs\n",
    "# N.B.(4) : Plural !! : unpacked_provisional_designations \n",
    "MSCs = orbit_cheby.MSC_Loader(FROM_ARRAY = True , \n",
    "                            unpacked_provisional_designations = names, \n",
    "                            times_TDB = times, \n",
    "                            statearray = states_3D).MSCs\n",
    "print( 'Returned variable is of type %r , and length %r  ' % (type(MSCs),len(MSCs) ) )\n",
    "M = MSCs[0]\n",
    "print( 'Entry [0] list is of type', type(M) )\n",
    "print ( 'Number of sectors = ' , len(M.sector_coeffs) )\n",
    "print ( 'Shape of sector[0] = ' , M.sector_coeffs[0].shape )\n",
    "del M \n"
   ]
  },
  {
   "cell_type": "markdown",
   "metadata": {},
   "source": [
    "## Evaluate cheby's at some times ...\n",
    " - Evaluating the cheby's will be done to allow precise positional calculations, in both the sifter- and mpchecker-scenarios. \n",
    " - In the end this needs to be a rapid evaluation ..."
   ]
  },
  {
   "cell_type": "markdown",
   "metadata": {},
   "source": [
    "# XYZ positions \n",
    " - Here we are using a relatively low-level function (generate_XYZ) to find heliocentric XYZ positions using the stored data\n",
    " - It seems to be able to perform ~1e6 XYZ calculations per second (for a single object's chebyshev coeffs, where there are 27 sets of coefficients )\n",
    " - I assume that this will vary as the number of sectors changes "
   ]
  },
  {
   "cell_type": "markdown",
   "metadata": {},
   "source": [
    "#### XYZ positions : Single Particle \n"
   ]
  },
  {
   "cell_type": "code",
   "execution_count": 9,
   "metadata": {},
   "outputs": [
    {
     "name": "stdout",
     "output_type": "stream",
     "text": [
      "INIT MSC_Loader...\n"
     ]
    }
   ],
   "source": [
    "importlib.reload(orbit_cheby)\n",
    "\n",
    "# Repeat the above to generate an MSC populated from above array ... \n",
    "MSCs = orbit_cheby.MSC_Loader(FROM_ARRAY = True , \n",
    "                            unpacked_provisional_designations = name, \n",
    "                            times_TDB = times, \n",
    "                            statearray = states).MSCs\n",
    "M = MSCs[0]\n"
   ]
  },
  {
   "cell_type": "code",
   "execution_count": 10,
   "metadata": {},
   "outputs": [
    {
     "name": "stdout",
     "output_type": "stream",
     "text": [
      "Final XYZs.shape =  (3, 1000000)\n",
      "CPU times: user 1.45 s, sys: 326 ms, total: 1.77 s\n",
      "Wall time: 1.77 s\n"
     ]
    },
    {
     "data": {
      "text/plain": [
       "[<matplotlib.lines.Line2D at 0x1a22260a50>]"
      ]
     },
     "execution_count": 10,
     "metadata": {},
     "output_type": "execute_result"
    },
    {
     "data": {
      "image/png": "[encoded data removed]",
      "text/plain": [
       "<Figure size 432x288 with 1 Axes>"
      ]
     },
     "metadata": {
      "needs_background": "light"
     },
     "output_type": "display_data"
    }
   ],
   "source": [
    "%%time \n",
    "importlib.reload(orbit_cheby)\n",
    "\n",
    "nSample = int(1e6) \n",
    "\n",
    "# Set up some evaluation times \n",
    "evaluation_times = np.sort(42000. + 999.*np.random.rand(nSample) )\n",
    "\n",
    "# ******************   Low-level call to get XYZ ******************\n",
    "XYZs = M.generate_XYZ( evaluation_times )\n",
    "\n",
    "# N.B. final shape = (3,len(times_TDB))\n",
    "print('Final XYZs.shape = ', XYZs.shape)\n",
    "\n",
    "# Plot x == XYZs[0] against time ... \n",
    "every=1000\n",
    "plt.plot( evaluation_times[::every] , XYZs[0][::every] , '.' ) "
   ]
  },
  {
   "cell_type": "markdown",
   "metadata": {},
   "source": [
    "#### XYZ positions  :  Multiple objects \n",
    " - N.B. in the call to *generate_XYZ* 2-cells down, we are evaluating ~1e6 * 4 position calls"
   ]
  },
  {
   "cell_type": "code",
   "execution_count": 11,
   "metadata": {},
   "outputs": [
    {
     "name": "stdout",
     "output_type": "stream",
     "text": [
      "INIT MSC_Loader...\n",
      "CPU times: user 1.5 s, sys: 8.85 ms, total: 1.51 s\n",
      "Wall time: 1.5 s\n"
     ]
    }
   ],
   "source": [
    "%%time \n",
    "importlib.reload(orbit_cheby)\n",
    "\n",
    "# Repeat the proceedure a few cells above to generate a list of MSCs\n",
    "MSCs = orbit_cheby.MSC_Loader(FROM_ARRAY = True , \n",
    "                            unpacked_provisional_designations = names, \n",
    "                            times_TDB = times, \n",
    "                            statearray = states_3D).MSCs"
   ]
  },
  {
   "cell_type": "code",
   "execution_count": 14,
   "metadata": {},
   "outputs": [
    {
     "name": "stdout",
     "output_type": "stream",
     "text": [
      "CPU times: user 5.33 s, sys: 1.23 s, total: 6.55 s\n",
      "Wall time: 6.56 s\n"
     ]
    },
    {
     "data": {
      "image/png": "[encoded data removed]",
      "text/plain": [
       "<Figure size 432x288 with 1 Axes>"
      ]
     },
     "metadata": {
      "needs_background": "light"
     },
     "output_type": "display_data"
    }
   ],
   "source": [
    "%%time \n",
    "\n",
    "nSample = int(1e6) \n",
    "\n",
    "# Set up some evaluation times \n",
    "evaluation_times = np.sort(42000. + 999.*np.random.rand(nSample) )\n",
    "\n",
    "# Loop over each MSC ... \n",
    "for i, M in enumerate(MSCs): \n",
    "    \n",
    "    # ******************   Low-level call to get XYZ ******************\n",
    "    XYZs = M.generate_XYZ( evaluation_times )\n",
    "\n",
    "    # Plot x == XYZs[0] against time ... \n",
    "    #every=10000\n",
    "\n",
    "    plt.plot( evaluation_times[::every] , XYZs[0][::every] , '.' , ms = 20-5*i) "
   ]
  },
  {
   "cell_type": "markdown",
   "metadata": {},
   "source": [
    "# Observational UnitVector Calculations\n",
    "\n",
    "###### SIFTER: This UV calc is used at the time of query to (a) get the approx HP (see below) and (b) to get refined positions for precise tracklet matching \n",
    "###### MPCHECKER: This UV calc is used at the time of query to get refined positions for any approx matches extracted from the precalculated data\n",
    "\n",
    " - These calculations require that the positions of the observatory are provided as inputs: I.e. I want to completely separate the obs-posn stuff from the cheby evaluation calculations\n",
    " - For the sake of these demonstrations, I am going to generate a set of standardized input observatory-positions (using a silly ~circular approximation) and then provide those as inputs. \n",
    "     "
   ]
  },
  {
   "cell_type": "code",
   "execution_count": 23,
   "metadata": {},
   "outputs": [
    {
     "name": "stdout",
     "output_type": "stream",
     "text": [
      "CPU times: user 4 ms, sys: 5.76 ms, total: 9.76 ms\n",
      "Wall time: 11.2 ms\n"
     ]
    }
   ],
   "source": [
    "%%time \n",
    "importlib.reload(orbit_cheby)\n",
    "\n",
    "# Create a sample of observatory-positions as inputs \n",
    "# - Note that the NBody code uses BARYCENTRIC EQUATORIAL coords\n",
    "# - So the Cheby's need to work-in/evaluate-to equatorial coords\n",
    "# - Hence the observatory-positions will need to be in equatorial coords\n",
    "nSample = int(1e3) \n",
    "evaluation_times = np.sort(42000. + 999.*np.random.rand(nSample) )\n",
    "r = 1.0 \n",
    "XYZobservatory_equatorial = np.array( [r*np.cos(evaluation_times), \n",
    "                                        r*np.sin(evaluation_times) , \n",
    "                                        0.0001*r*np.cos(evaluation_times)])"
   ]
  },
  {
   "cell_type": "markdown",
   "metadata": {},
   "source": [
    "#### Unit-Vector : Single Particle "
   ]
  },
  {
   "cell_type": "code",
   "execution_count": 24,
   "metadata": {},
   "outputs": [
    {
     "name": "stdout",
     "output_type": "stream",
     "text": [
      "INIT MSC_Loader...\n"
     ]
    }
   ],
   "source": [
    "importlib.reload(orbit_cheby)\n",
    "\n",
    "# Repeat the above to generate an MSC populated from above array ... \n",
    "M = orbit_cheby.MSC_Loader(FROM_ARRAY = True , \n",
    "                            unpacked_provisional_designations = name, \n",
    "                            times_TDB = times, \n",
    "                            statearray = states).MSCs[0]"
   ]
  },
  {
   "cell_type": "markdown",
   "metadata": {},
   "source": [
    " - In this initial experiment *BELOW* I find that it takes: \n",
    "        ~1s to evaluate 1e6 unit vectors for a single object using an APPROX (non-iterated) approach\n",
    "        ~3s to evaluate 1e6 unit vectors for a single object using a NON-APPROX (iterated) approach \n",
    " "
   ]
  },
  {
   "cell_type": "code",
   "execution_count": 25,
   "metadata": {},
   "outputs": [
    {
     "name": "stdout",
     "output_type": "stream",
     "text": [
      "CPU times: user 9.46 ms, sys: 4.12 ms, total: 13.6 ms\n",
      "Wall time: 11.5 ms\n"
     ]
    },
    {
     "data": {
      "text/plain": [
       "(3, 1000)"
      ]
     },
     "execution_count": 25,
     "metadata": {},
     "output_type": "execute_result"
    }
   ],
   "source": [
    "%%time \n",
    "\n",
    "# Now evaluate some unit vectors [[APPROXIMATE calculation]]\n",
    "# - With these kinds of input, all I am really doing is ascertaining that the functions work in the sense of producing numbers\n",
    "# - There is no real understanding of whether the numbers are accurate / correct \n",
    "UVs = M.generate_UnitVector(  evaluation_times , \n",
    "                            XYZobservatory_equatorial, \n",
    "                            APPROX = True)\n",
    "\n",
    "# N.B. final shape = (3,len(times_TDB))\n",
    "UVs.shape "
   ]
  },
  {
   "cell_type": "code",
   "execution_count": 26,
   "metadata": {},
   "outputs": [
    {
     "name": "stdout",
     "output_type": "stream",
     "text": [
      "(3, 1000)\n",
      "CPU times: user 25.4 ms, sys: 3.15 ms, total: 28.6 ms\n",
      "Wall time: 25.6 ms\n"
     ]
    }
   ],
   "source": [
    "%%time \n",
    "\n",
    "# Now evaluate some unit vectors [[EXACT Calculation]]\n",
    "# - With these kinds of input, all I am really doing is ascertaining that the functions work in the sense of producing numbers\n",
    "# - There is no real understanding of whether the numbers are accurate / correct \n",
    "UVs = M.generate_UnitVector( evaluation_times , \n",
    "                                    XYZobservatory_equatorial, \n",
    "                                    APPROX = False\n",
    "                                              )\n",
    "# N.B. final shape = (3,len(times_TDB))\n",
    "print(UVs.shape)\n"
   ]
  },
  {
   "cell_type": "markdown",
   "metadata": {},
   "source": [
    "#### Unit-Vector : Multi Particle "
   ]
  },
  {
   "cell_type": "code",
   "execution_count": 27,
   "metadata": {},
   "outputs": [
    {
     "name": "stdout",
     "output_type": "stream",
     "text": [
      "INIT MSC_Loader...\n",
      "CPU times: user 1.44 s, sys: 7.04 ms, total: 1.45 s\n",
      "Wall time: 1.45 s\n"
     ]
    }
   ],
   "source": [
    "%%time \n",
    "importlib.reload(orbit_cheby)\n",
    "\n",
    "# Repeat the proceedure a few cells above to generate a list of MSCs\n",
    "MSCs = orbit_cheby.MSC_Loader(FROM_ARRAY = True , \n",
    "                            unpacked_provisional_designations = names, \n",
    "                            times_TDB = times, \n",
    "                            statearray = states_3D).MSCs"
   ]
  },
  {
   "cell_type": "code",
   "execution_count": 28,
   "metadata": {},
   "outputs": [
    {
     "name": "stdout",
     "output_type": "stream",
     "text": [
      "(3, 1000)\n",
      "(3, 1000)\n",
      "(3, 1000)\n",
      "(3, 1000)\n",
      "CPU times: user 97.8 ms, sys: 3.71 ms, total: 102 ms\n",
      "Wall time: 99.2 ms\n"
     ]
    }
   ],
   "source": [
    "%%time \n",
    "\n",
    "# Loop over each MSC ... \n",
    "for i, M in enumerate(MSCs): \n",
    "    \n",
    "    UVs = M.generate_UnitVector( evaluation_times , \n",
    "                                    XYZobservatory_equatorial, \n",
    "                                    APPROX = False)\n",
    "    print(UVs.shape)"
   ]
  },
  {
   "cell_type": "markdown",
   "metadata": {},
   "source": [
    "### Observational HP Calculations\n",
    "###### SIFTER: This HP routine will be used intensively at the time a search is executed to find the APPROX HP location of an object over a series of many nights \n",
    "###### MPCHECKER: This HP routine will be used in the precalculation phase to find-and-store the HP location of an object across a series of nights \n",
    "\n",
    "\n",
    " - Because this is a wrapper around the unitvector call, the hp call again requires that the positions of the observatory are provided as inputs: I.e. I want to completely separate the obs-posn stuff from the cheby evaluation calculations\n",
    " - For the sake of these demonstrations, I am going to use the obs-posns generated above\n",
    " \n",
    "This brief experiment finds that the time to calcuate 1e6 healpix is essentially the same as the time to  generate the underlying 1e6 unitvectors"
   ]
  },
  {
   "cell_type": "markdown",
   "metadata": {},
   "source": [
    "#### HP : Single Particle "
   ]
  },
  {
   "cell_type": "code",
   "execution_count": 34,
   "metadata": {},
   "outputs": [
    {
     "name": "stdout",
     "output_type": "stream",
     "text": [
      "INIT MSC_Loader...\n"
     ]
    }
   ],
   "source": [
    "importlib.reload(orbit_cheby)\n",
    "\n",
    "# Repeat the above to generate an MSC populated from above array ... \n",
    "M = orbit_cheby.MSC_Loader(FROM_ARRAY = True , \n",
    "                            unpacked_provisional_designations = name, \n",
    "                            times_TDB = times, \n",
    "                            statearray = states).MSCs[0]"
   ]
  },
  {
   "cell_type": "code",
   "execution_count": 35,
   "metadata": {},
   "outputs": [
    {
     "name": "stdout",
     "output_type": "stream",
     "text": [
      "internal UVshaoe =  (3, 1000)\n",
      "CPU times: user 11.4 ms, sys: 2.33 ms, total: 13.8 ms\n",
      "Wall time: 11.7 ms\n"
     ]
    },
    {
     "data": {
      "text/plain": [
       "((1000,), (1000,))"
      ]
     },
     "execution_count": 35,
     "metadata": {},
     "output_type": "execute_result"
    }
   ],
   "source": [
    "%%time \n",
    "importlib.reload(orbit_cheby)\n",
    "# Now evaluate the HP vectors  \n",
    "# - With these kinds of input, all I am really doing is ascertaining that the functions work in the sense of producing numbers\n",
    "# - There is no real understanding of whether the numbers are accurate / correct \n",
    "HPs= M.generate_HP( evaluation_times , \n",
    "                XYZobservatory_equatorial, \n",
    "                APPROX = True )\n",
    "# N.B. final shape = (3,len(times_TDB))\n",
    "HPs.shape , evaluation_times.shape\n"
   ]
  },
  {
   "cell_type": "markdown",
   "metadata": {},
   "source": [
    "#### HP : Multi Particle "
   ]
  },
  {
   "cell_type": "code",
   "execution_count": 39,
   "metadata": {},
   "outputs": [
    {
     "name": "stdout",
     "output_type": "stream",
     "text": [
      "INIT MSC_Loader...\n",
      "CPU times: user 1.41 s, sys: 6.97 ms, total: 1.41 s\n",
      "Wall time: 1.41 s\n"
     ]
    }
   ],
   "source": [
    "%%time \n",
    "importlib.reload(orbit_cheby)\n",
    "\n",
    "# Repeat the proceedure a few cells above to generate a list of MSCs\n",
    "MSCs = orbit_cheby.MSC_Loader(FROM_ARRAY = True , \n",
    "                            unpacked_provisional_designations = names, \n",
    "                            times_TDB = times, \n",
    "                            statearray = states_3D).MSCs"
   ]
  },
  {
   "cell_type": "code",
   "execution_count": 40,
   "metadata": {},
   "outputs": [
    {
     "name": "stdout",
     "output_type": "stream",
     "text": [
      "(1000,)\n",
      "(1000,)\n",
      "(1000,)\n",
      "(1000,)\n",
      "CPU times: user 39.8 ms, sys: 3.72 ms, total: 43.5 ms\n",
      "Wall time: 40.4 ms\n"
     ]
    }
   ],
   "source": [
    "%%time \n",
    "\n",
    "# Loop over each MSC ... \n",
    "for i, M in enumerate(MSCs): \n",
    "    \n",
    "    HPs = M.generate_HP( evaluation_times , \n",
    "                        XYZobservatory_equatorial, \n",
    "                        APPROX = True)\n",
    "    print(HPs.shape)"
   ]
  }
 ],
 "metadata": {
  "kernelspec": {
   "display_name": "Python 3",
   "language": "python",
   "name": "python3"
  },
  "language_info": {
   "codemirror_mode": {
    "name": "ipython",
    "version": 3
   },
   "file_extension": ".py",
   "mimetype": "text/x-python",
   "name": "python",
   "nbconvert_exporter": "python",
   "pygments_lexer": "ipython3",
   "version": "3.7.6"
  }
 },
 "nbformat": 4,
 "nbformat_minor": 2
}
