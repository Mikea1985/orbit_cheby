{
 "cells": [
  {
   "cell_type": "markdown",
   "metadata": {},
   "source": [
    "# Demonstrations of Orbit_Cheby Functionality\n",
    "\n",
    " - This notebook contains a mixture of demos of finished code, as well as WIP experimentation with ways to speed-up the code "
   ]
  },
  {
   "cell_type": "code",
   "execution_count": 1,
   "metadata": {},
   "outputs": [
    {
     "data": {
      "text/plain": [
       "'/Users/matthewjohnpayne/Envs/orbit_cheby/orbit_cheby/orbit_cheby.py'"
      ]
     },
     "execution_count": 1,
     "metadata": {},
     "output_type": "execute_result"
    }
   ],
   "source": [
    "import time\n",
    "import numpy as np\n",
    "import scipy.stats as stats\n",
    "import math\n",
    "import random\n",
    "from collections import defaultdict\n",
    "import os\n",
    "import sys\n",
    "from collections import Counter\n",
    "import glob \n",
    "import warnings\n",
    "import warnings\n",
    "warnings.filterwarnings('ignore')\n",
    "import matplotlib.pyplot as plt\n",
    "import importlib\n",
    "from astropy.time import Time\n",
    "\n",
    "# -------------------------------------------------------------------------------------\n",
    "# Local imports\n",
    "# -------------------------------------------------------------------------------------\n",
    "\n",
    "# Can't get the damn thing to work from symbolic link in ...\n",
    "# '/Users/matthewjohnpayne/opt/anaconda3/lib/python3.7/site-packages/orbit_cheby/__init__.py'\n",
    "# So just hardpasting local link for now \n",
    "os.chdir('/Users/matthewjohnpayne/Envs/orbit_cheby/orbit_cheby')\n",
    "\n",
    "import nbody_reader\n",
    "import orbit_cheby\n",
    "orbit_cheby.__file__"
   ]
  },
  {
   "cell_type": "markdown",
   "metadata": {},
   "source": [
    "## Demonstrate some aspects of the main orbit_cheby routines \n",
    " - Here I am assuming that the \"nbody_reader\" routine (described in \"Demonstrate_NBody_Reader_Functionality.ipynb\") is available to read input data, and that we can now use the main, higher-level \"orbit_cheby\" routines to operate on that input nbody data, and use it to generate sets of chebyshev coefficients\n",
    " - The chebyshev coefficients are fit to \"sectors\" of data (e.g. 32-day chunks) and saved into suitable data structures \n",
    " - I experiment with dictionaries, but find that numpy arrays are better/faster (surprise surprise)"
   ]
  },
  {
   "cell_type": "markdown",
   "metadata": {},
   "source": [
    "##### Declare an MSC (multi sector cheby) class object"
   ]
  },
  {
   "cell_type": "code",
   "execution_count": 2,
   "metadata": {},
   "outputs": [
    {
     "name": "stdout",
     "output_type": "stream",
     "text": [
      "<class 'orbit_cheby.MSC'>\n",
      "__class__\n",
      "__delattr__\n",
      "__dict__\n",
      "__dir__\n",
      "__doc__\n",
      "__eq__\n",
      "__format__\n",
      "__ge__\n",
      "__getattribute__\n",
      "__gt__\n",
      "__hash__\n",
      "__init__\n",
      "__init_subclass__\n",
      "__le__\n",
      "__lt__\n",
      "__module__\n",
      "__ne__\n",
      "__new__\n",
      "__reduce__\n",
      "__reduce_ex__\n",
      "__repr__\n",
      "__setattr__\n",
      "__sizeof__\n",
      "__str__\n",
      "__subclasshook__\n",
      "__weakref__\n",
      "dRaDecdXYZ\n",
      "dUVdXYZ\n",
      "evaluate_components\n",
      "from_coord_arrays\n",
      "generate_HP\n",
      "generate_RaDec\n",
      "generate_UnitVector\n",
      "generate_XYZ\n",
      "generate_cheb_for_sector\n",
      "generate_gradientXYZ\n",
      "get_valid_range_of_dates\n",
      "map_JD_to_sector_number\n",
      "map_JD_to_sector_number_and_sector_start_JD\n",
      "map_sector_number_to_sector_start_JD\n",
      "maxerr\n",
      "maxorder\n",
      "minorder\n",
      "sector_coeffs\n",
      "unpacked_provisional_designation\n"
     ]
    }
   ],
   "source": [
    "importlib.reload(orbit_cheby)\n",
    "M = orbit_cheby.MSC()\n",
    "\n",
    "print(type(M) )\n",
    "for item in dir(M) : print(item)\n",
    "del M "
   ]
  },
  {
   "cell_type": "markdown",
   "metadata": {},
   "source": [
    "##### Declare an MSC_Loader class object"
   ]
  },
  {
   "cell_type": "code",
   "execution_count": 3,
   "metadata": {},
   "outputs": [
    {
     "name": "stdout",
     "output_type": "stream",
     "text": [
      "INIT MSC_Loader...\n",
      "Defaulting to the production of a list of empty MSCs\n",
      "<class 'orbit_cheby.MSC_Loader'>\n",
      "FORCE_DATES\n",
      "FROM_ARRAY\n",
      "FROM_DATABASE\n",
      "FROM_FILE\n",
      "MSCs\n",
      "TDB_final\n",
      "TDB_init\n",
      "__class__\n",
      "__delattr__\n",
      "__dict__\n",
      "__dir__\n",
      "__doc__\n",
      "__eq__\n",
      "__format__\n",
      "__ge__\n",
      "__getattribute__\n",
      "__gt__\n",
      "__hash__\n",
      "__init__\n",
      "__init_subclass__\n",
      "__le__\n",
      "__lt__\n",
      "__module__\n",
      "__ne__\n",
      "__new__\n",
      "__reduce__\n",
      "__reduce_ex__\n",
      "__repr__\n",
      "__setattr__\n",
      "__sizeof__\n",
      "__str__\n",
      "__subclasshook__\n",
      "__weakref__\n",
      "_generate_empty\n",
      "_populate_from_database\n",
      "_populate_from_nbody_array\n",
      "_populate_from_nbody_text\n",
      "filepath\n",
      "statearray\n",
      "times_TDB\n",
      "unpacked_provisional_designations\n"
     ]
    }
   ],
   "source": [
    "importlib.reload(orbit_cheby)\n",
    "M = orbit_cheby.MSC_Loader()\n",
    "\n",
    "print(type(M) )\n",
    "for item in dir(M) : print(item)\n",
    "del M "
   ]
  },
  {
   "cell_type": "markdown",
   "metadata": {},
   "source": [
    "#### *Create* multi-sector chebyshev dictionary:  Txt/Numpy version \n",
    " - This *WIP* version of the routine to do the *FUNDAMENTALLY IMPORTANT* task of converting nbody output into structured sets of chebshev coefficients uses a text-file/numpy-array based approach\n",
    " - This takes ~0.5 sec to run: my working assumption is that a ~1sec wait time is borderline tolerable for on-the-fly processing in an s9m/sifter routine (less important for mpchecker-processes, as the creation of the cheby's could be back-grounded in that scenario) "
   ]
  },
  {
   "cell_type": "raw",
   "metadata": {},
   "source": [
    "%%time \n",
    "importlib.reload(orbit_cheby)\n",
    "\n",
    "# Get n-body data from txt file & use to create multi_sector_cheby_dict\n",
    "text_filepath = '/Users/matthewjohnpayne/Envs/orbit_cheby/dev_data/2022AA_demo.txt'\n",
    "M = orbit_cheby.MSC() \n",
    "M._populate_from_nbody_text( text_filepath )\n",
    "print ( 'Number of sectors = ' , len(M.sectors) )\n",
    "del M \n"
   ]
  },
  {
   "cell_type": "raw",
   "metadata": {},
   "source": [
    "%%time \n",
    "importlib.reload(orbit_cheby)\n",
    "\n",
    "# Direct creation from txt file (one-liner version of the above)\n",
    "M = orbit_cheby.MSC( FROM_FILE=True, filepath=text_filepath )\n",
    "print ( 'Number of sectors = ' , len(M.sectors) )\n",
    "del M \n"
   ]
  },
  {
   "cell_type": "markdown",
   "metadata": {},
   "source": [
    "#### Directly from array \n",
    " - In practice, we will (hopefully) have the data in a numpy-array anyway, direct from the nbody sim\n",
    " - So here we prepopulate an array, and then demo reading in directly from the array"
   ]
  },
  {
   "cell_type": "code",
   "execution_count": 4,
   "metadata": {},
   "outputs": [
    {
     "name": "stdout",
     "output_type": "stream",
     "text": [
      "CPU times: user 644 ms, sys: 22.8 ms, total: 667 ms\n",
      "Wall time: 666 ms\n"
     ]
    }
   ],
   "source": [
    "%%time \n",
    "\n",
    "# Pre-populate numpy array ...\n",
    "text_filepath = '/Users/matthewjohnpayne/Envs/orbit_cheby/dev_data/2022AA_demo.txt'\n",
    "name, times, states  = nbody_reader.parse_nbody_txt( text_filepath )\n"
   ]
  },
  {
   "cell_type": "raw",
   "metadata": {
    "scrolled": true
   },
   "source": [
    "%%time \n",
    "importlib.reload(orbit_cheby)\n",
    "\n",
    "# 2-step (explicit) method to load from array \n",
    "M = orbit_cheby.MSC() \n",
    "M._populate_from_nbody_array(name, times, states)\n",
    "print ( 'Number of sectors = ' , len(M.sectors) )\n",
    "del M "
   ]
  },
  {
   "cell_type": "code",
   "execution_count": 5,
   "metadata": {},
   "outputs": [
    {
     "name": "stdout",
     "output_type": "stream",
     "text": [
      "INIT MSC_Loader...\n",
      "Returned variable is of type <class 'list'> , and length 1  \n",
      "Entry in list is of type <class 'orbit_cheby.MSC'>\n",
      "Number of sectors =  623\n",
      "Shape of sector[0] =  (18, 27)\n",
      "CPU times: user 507 ms, sys: 13.6 ms, total: 521 ms\n",
      "Wall time: 532 ms\n"
     ]
    }
   ],
   "source": [
    "%%time \n",
    "importlib.reload(orbit_cheby)\n",
    "\n",
    "# Use MSC_Loader to initialize & return MSC\n",
    "# N.B.(1) : Loads directly from array \n",
    "# N.B.(2) : Creates a list (of length 1 in this case of MSC objects\n",
    "# N.B.(3) : Use \".MSCs\" to access the list of .MSCs\n",
    "# N.B.(4) : Plural !! : unpacked_provisional_designations \n",
    "MSCs = orbit_cheby.MSC_Loader(FROM_ARRAY = True , \n",
    "                            unpacked_provisional_designations = name, \n",
    "                            times_TDB = times, \n",
    "                            statearray = states).MSCs\n",
    "print( 'Returned variable is of type %r , and length %r  ' % (type(MSCs),len(MSCs) ) )\n",
    "M = MSCs[0]\n",
    "print( 'Entry in list is of type', type(M) )\n",
    "print ( 'Number of sectors = ' , len(M.sector_coeffs) )\n",
    "print ( 'Shape of sector[0] = ' , M.sector_coeffs[0].shape )\n",
    "del M \n"
   ]
  },
  {
   "cell_type": "markdown",
   "metadata": {},
   "source": [
    "#### Directly from array for **MULTIPLE PARTICLES**\n",
    " - Want 3D array \n",
    " - Will create this here by sticking together a few copies of the data for a single particle ...\n"
   ]
  },
  {
   "cell_type": "code",
   "execution_count": 6,
   "metadata": {},
   "outputs": [
    {
     "name": "stdout",
     "output_type": "stream",
     "text": [
      "CPU times: user 2.44 s, sys: 73.3 ms, total: 2.51 s\n",
      "Wall time: 2.5 s\n"
     ]
    },
    {
     "data": {
      "text/plain": [
       "(20000, 27, 4)"
      ]
     },
     "execution_count": 6,
     "metadata": {},
     "output_type": "execute_result"
    }
   ],
   "source": [
    "%%time \n",
    "importlib.reload(orbit_cheby)\n",
    "\n",
    "# Pre-populate numpy array ...\n",
    "# - Note that (i) we need to allow for MULTIPLE NAMES\n",
    "# - We are creating a 3D array of input coords\n",
    "arrays, names = [],[] \n",
    "for i in range(1,5):\n",
    "    name, times, states  = nbody_reader.parse_nbody_txt( text_filepath )\n",
    "    names.append(name+\"_\"+str(i))\n",
    "    arrays.append(states)\n",
    "states_3D = np.stack(arrays, axis=2)\n",
    "states_3D.shape\n"
   ]
  },
  {
   "cell_type": "code",
   "execution_count": 7,
   "metadata": {},
   "outputs": [
    {
     "name": "stdout",
     "output_type": "stream",
     "text": [
      "INIT MSC_Loader...\n",
      "Returned variable is of type <class 'list'> , and length 4  \n",
      "Entry [0] list is of type <class 'orbit_cheby.MSC'>\n",
      "Number of sectors =  623\n",
      "Shape of sector[0] =  (18, 27)\n",
      "CPU times: user 1.72 s, sys: 19 ms, total: 1.74 s\n",
      "Wall time: 1.74 s\n"
     ]
    }
   ],
   "source": [
    "%%time \n",
    "importlib.reload(orbit_cheby)\n",
    "\n",
    "# Use MSC_Loader to initialize & return MSC\n",
    "# N.B.(1) : Loads directly from array \n",
    "# N.B.(2) : Creates a list (of length 4 in this case of MSC objects\n",
    "# N.B.(3) : Use \".MSCs\" to access the list of .MSCs\n",
    "# N.B.(4) : Plural !! : unpacked_provisional_designations \n",
    "MSCs = orbit_cheby.MSC_Loader(FROM_ARRAY = True , \n",
    "                            unpacked_provisional_designations = names, \n",
    "                            times_TDB = times, \n",
    "                            statearray = states_3D).MSCs\n",
    "print( 'Returned variable is of type %r , and length %r  ' % (type(MSCs),len(MSCs) ) )\n",
    "M = MSCs[0]\n",
    "print( 'Entry [0] list is of type', type(M) )\n",
    "print ( 'Number of sectors = ' , len(M.sector_coeffs) )\n",
    "print ( 'Shape of sector[0] = ' , M.sector_coeffs[0].shape )\n",
    "del M \n"
   ]
  },
  {
   "cell_type": "markdown",
   "metadata": {},
   "source": [
    "## Evaluate cheby's at some times ...\n",
    " - Evaluating the cheby's will be done to allow precise positional calculations, in both the sifter- and mpchecker-scenarios. \n",
    " - In the end this needs to be a rapid evaluation ..."
   ]
  },
  {
   "cell_type": "markdown",
   "metadata": {},
   "source": [
    "# XYZ positions \n",
    " - Here we are using a relatively low-level function (generate_XYZ) to find heliocentric XYZ positions using the stored data\n",
    " - It seems to be able to perform ~1e6 XYZ calculations per second (for a single object's chebyshev coeffs, where there are 27 sets of coefficients )\n",
    " - I assume that this will vary as the number of sectors changes "
   ]
  },
  {
   "cell_type": "markdown",
   "metadata": {},
   "source": [
    "#### XYZ positions : Single Particle \n"
   ]
  },
  {
   "cell_type": "code",
   "execution_count": 8,
   "metadata": {},
   "outputs": [
    {
     "name": "stdout",
     "output_type": "stream",
     "text": [
      "INIT MSC_Loader...\n"
     ]
    }
   ],
   "source": [
    "importlib.reload(orbit_cheby)\n",
    "\n",
    "# Repeat the above to generate an MSC populated from above array ... \n",
    "MSCs = orbit_cheby.MSC_Loader(FROM_ARRAY = True , \n",
    "                            unpacked_provisional_designations = name, \n",
    "                            times_TDB = times, \n",
    "                            statearray = states).MSCs\n",
    "M = MSCs[0]\n"
   ]
  },
  {
   "cell_type": "code",
   "execution_count": 9,
   "metadata": {},
   "outputs": [
    {
     "name": "stdout",
     "output_type": "stream",
     "text": [
      "Final XYZs.shape =  (3, 1000000)\n",
      "CPU times: user 791 ms, sys: 161 ms, total: 952 ms\n",
      "Wall time: 964 ms\n"
     ]
    },
    {
     "data": {
      "text/plain": [
       "[<matplotlib.lines.Line2D at 0x1a231569d0>]"
      ]
     },
     "execution_count": 9,
     "metadata": {},
     "output_type": "execute_result"
    },
    {
     "data": {
      "image/png": "[encoded data removed]",
      "text/plain": [
       "<Figure size 432x288 with 1 Axes>"
      ]
     },
     "metadata": {
      "needs_background": "light"
     },
     "output_type": "display_data"
    }
   ],
   "source": [
    "%%time \n",
    "importlib.reload(orbit_cheby)\n",
    "\n",
    "nSample = int(1e6) \n",
    "\n",
    "# Set up some evaluation times \n",
    "evaluation_times = np.sort(2440000. + 999.*np.random.rand(nSample) )\n",
    "\n",
    "# ******************   Low-level call to get XYZ ******************\n",
    "XYZs = M.generate_XYZ( evaluation_times )\n",
    "\n",
    "# N.B. final shape = (3,len(times_TDB))\n",
    "print('Final XYZs.shape = ', XYZs.shape)\n",
    "\n",
    "# Plot x == XYZs[0] against time ... \n",
    "every=1000\n",
    "plt.plot( evaluation_times[::every] , XYZs[0][::every] , '.' ) "
   ]
  },
  {
   "cell_type": "markdown",
   "metadata": {},
   "source": [
    "# Observational UnitVector Calculations\n",
    "\n",
    "###### SIFTER: This UV calc is used at the time of query to (a) get the approx HP (see below) and (b) to get refined positions for precise tracklet matching \n",
    "###### MPCHECKER: This UV calc is used at the time of query to get refined positions for any approx matches extracted from the precalculated data\n",
    "\n",
    " - These calculations require that the positions of the observatory are provided as inputs: I.e. I want to completely separate the obs-posn stuff from the cheby evaluation calculations\n",
    " - For the sake of these demonstrations, I am going to generate a set of standardized input observatory-positions (using a silly ~circular approximation) and then provide those as inputs. \n",
    "     "
   ]
  },
  {
   "cell_type": "code",
   "execution_count": 12,
   "metadata": {},
   "outputs": [
    {
     "name": "stdout",
     "output_type": "stream",
     "text": [
      "CPU times: user 205 ms, sys: 14.5 ms, total: 220 ms\n",
      "Wall time: 218 ms\n"
     ]
    }
   ],
   "source": [
    "%%time \n",
    "importlib.reload(orbit_cheby)\n",
    "\n",
    "# Create a sample of observatory-positions as inputs \n",
    "# - Note that the NBody code uses BARYCENTRIC EQUATORIAL coords\n",
    "# - So the Cheby's need to work-in/evaluate-to equatorial coords\n",
    "# - Hence the observatory-positions will need to be in equatorial coords\n",
    "nSample = int(1e6) \n",
    "evaluation_times = np.sort(2440000. + 999.*np.random.rand(nSample) )\n",
    "r = 1.0 \n",
    "XYZobservatory_equatorial = np.array( [r*np.cos(evaluation_times), \n",
    "                                        r*np.sin(evaluation_times) , \n",
    "                                        0.0001*r*np.cos(evaluation_times)])"
   ]
  },
  {
   "cell_type": "code",
   "execution_count": 13,
   "metadata": {},
   "outputs": [
    {
     "name": "stdout",
     "output_type": "stream",
     "text": [
      "INIT MSC_Loader...\n"
     ]
    }
   ],
   "source": [
    "importlib.reload(orbit_cheby)\n",
    "\n",
    "# Repeat the above to generate an MSC populated from above array ... \n",
    "M = orbit_cheby.MSC_Loader(FROM_ARRAY = True , \n",
    "                            unpacked_provisional_designations = name, \n",
    "                            times_TDB = times, \n",
    "                            statearray = states).MSCs[0]"
   ]
  },
  {
   "cell_type": "markdown",
   "metadata": {},
   "source": [
    " - In this initial experiment *BELOW* I find that it takes: \n",
    "        ~1s to evaluate 1e6 unit vectors for a single object using an APPROX (non-iterated) approach\n",
    "        ~3s to evaluate 1e6 unit vectors for a single object using a NON-APPROX (iterated) approach \n",
    " "
   ]
  },
  {
   "cell_type": "code",
   "execution_count": 14,
   "metadata": {},
   "outputs": [
    {
     "name": "stdout",
     "output_type": "stream",
     "text": [
      "CPU times: user 748 ms, sys: 196 ms, total: 944 ms\n",
      "Wall time: 943 ms\n"
     ]
    },
    {
     "data": {
      "text/plain": [
       "(3, 1000000)"
      ]
     },
     "execution_count": 14,
     "metadata": {},
     "output_type": "execute_result"
    }
   ],
   "source": [
    "%%time \n",
    "\n",
    "# Now evaluate some unit vectors [[APPROXIMATE calculation]]\n",
    "# - With these kinds of input, all I am really doing is ascertaining that the functions work in the sense of producing numbers\n",
    "# - There is no real understanding of whether the numbers are accurate / correct \n",
    "UVs = M.generate_UnitVector(  evaluation_times , \n",
    "                            XYZobservatory_equatorial, \n",
    "                            APPROX = True)\n",
    "\n",
    "# N.B. final shape = (3,len(times_TDB))\n",
    "UVs.shape "
   ]
  },
  {
   "cell_type": "code",
   "execution_count": 15,
   "metadata": {},
   "outputs": [
    {
     "name": "stdout",
     "output_type": "stream",
     "text": [
      "(3, 1000000)\n",
      "CPU times: user 2.17 s, sys: 539 ms, total: 2.71 s\n",
      "Wall time: 2.71 s\n"
     ]
    }
   ],
   "source": [
    "%%time \n",
    "\n",
    "# Now evaluate some unit vectors [[EXACT Calculation]]\n",
    "# - With these kinds of input, all I am really doing is ascertaining that the functions work in the sense of producing numbers\n",
    "# - There is no real understanding of whether the numbers are accurate / correct \n",
    "UVs = M.generate_UnitVector( evaluation_times , \n",
    "                                    XYZobservatory_equatorial, \n",
    "                                    APPROX = False\n",
    "                                              )\n",
    "# N.B. final shape = (3,len(times_TDB))\n",
    "print(UVs.shape)\n"
   ]
  },
  {
   "cell_type": "markdown",
   "metadata": {},
   "source": [
    "### Observational HP Calculations\n",
    "###### SIFTER: This HP routine will be used intensively at the time a search is executed to find the APPROX HP location of an object over a series of many nights \n",
    "###### MPCHECKER: This HP routine will be used in the precalculation phase to find-and-store the HP location of an object across a series of nights \n",
    "\n",
    "\n",
    " - Because this is a wrapper around the unitvector call, the hp call again requires that the positions of the observatory are provided as inputs: I.e. I want to completely separate the obs-posn stuff from the cheby evaluation calculations\n",
    " - For the sake of these demonstrations, I am going to use the obs-posns generated above\n",
    " \n",
    "This brief experiment finds that the time to calcuate 1e6 healpix is essentially the same as the time to  generate the underlying 1e6 unitvectors"
   ]
  },
  {
   "cell_type": "code",
   "execution_count": 18,
   "metadata": {},
   "outputs": [
    {
     "name": "stdout",
     "output_type": "stream",
     "text": [
      "INIT MSC_Loader...\n"
     ]
    }
   ],
   "source": [
    "importlib.reload(orbit_cheby)\n",
    "\n",
    "# Repeat the above to generate an MSC populated from above array ... \n",
    "M = orbit_cheby.MSC_Loader(FROM_ARRAY = True , \n",
    "                            unpacked_provisional_designations = name, \n",
    "                            times_TDB = times, \n",
    "                            statearray = states).MSCs[0]"
   ]
  },
  {
   "cell_type": "code",
   "execution_count": 19,
   "metadata": {},
   "outputs": [
    {
     "name": "stdout",
     "output_type": "stream",
     "text": [
      "CPU times: user 974 ms, sys: 214 ms, total: 1.19 s\n",
      "Wall time: 1.19 s\n"
     ]
    },
    {
     "data": {
      "text/plain": [
       "((1000000,), (1000000,))"
      ]
     },
     "execution_count": 19,
     "metadata": {},
     "output_type": "execute_result"
    }
   ],
   "source": [
    "%%time \n",
    "importlib.reload(orbit_cheby)\n",
    "# Now evaluate the HP vectors  \n",
    "# - With these kinds of input, all I am really doing is ascertaining that the functions work in the sense of producing numbers\n",
    "# - There is no real understanding of whether the numbers are accurate / correct \n",
    "HPs= M.generate_HP( evaluation_times , \n",
    "                XYZobservatory_equatorial, \n",
    "                APPROX = True )\n",
    "# N.B. final shape = (3,len(times_TDB))\n",
    "HPs.shape , evaluation_times.shape\n"
   ]
  },
  {
   "cell_type": "markdown",
   "metadata": {},
   "source": [
    "# RA, Dec"
   ]
  },
  {
   "cell_type": "code",
   "execution_count": 23,
   "metadata": {},
   "outputs": [
    {
     "name": "stdout",
     "output_type": "stream",
     "text": [
      "INIT MSC_Loader...\n"
     ]
    }
   ],
   "source": [
    "importlib.reload(orbit_cheby)\n",
    "\n",
    "# Repeat the above to generate an MSC populated from above array ... \n",
    "M = orbit_cheby.MSC_Loader(FROM_ARRAY = True , \n",
    "                            unpacked_provisional_designations = name, \n",
    "                            times_TDB = times, \n",
    "                            statearray = states).MSCs[0]"
   ]
  },
  {
   "cell_type": "code",
   "execution_count": 24,
   "metadata": {},
   "outputs": [],
   "source": [
    "# Make some obs positions \n",
    "nSample = int(1e6) \n",
    "evaluation_times = np.sort(2440000. + 999.*np.random.rand(nSample) )\n",
    "r = 1.0 \n",
    "XYZobservatory_equatorial = np.array( [r*np.cos(evaluation_times), \n",
    "                                        r*np.sin(evaluation_times) , \n",
    "                                        0.0001*r*np.cos(evaluation_times)])\n"
   ]
  },
  {
   "cell_type": "code",
   "execution_count": 25,
   "metadata": {},
   "outputs": [
    {
     "name": "stdout",
     "output_type": "stream",
     "text": [
      "(2, 1000000)\n",
      "CPU times: user 1 s, sys: 259 ms, total: 1.26 s\n",
      "Wall time: 1.26 s\n"
     ]
    }
   ],
   "source": [
    "%%time \n",
    "importlib.reload(orbit_cheby)\n",
    "# Now evaluate the HP vectors  \n",
    "# - With these kinds of input, all I am really doing is ascertaining that the functions work in the sense of producing numbers\n",
    "# - There is no real understanding of whether the numbers are accurate / correct \n",
    "RaDec = M.generate_RaDec( evaluation_times , \n",
    "                observatoryXYZ=XYZobservatory_equatorial, \n",
    "                APPROX = True )\n",
    "print(RaDec.shape)\n"
   ]
  },
  {
   "cell_type": "markdown",
   "metadata": {},
   "source": [
    "# Uncertanties and Covariances "
   ]
  },
  {
   "cell_type": "markdown",
   "metadata": {},
   "source": [
    " ## (1) We might need the gradient of  XYZ as a function of time "
   ]
  },
  {
   "cell_type": "code",
   "execution_count": 26,
   "metadata": {},
   "outputs": [
    {
     "name": "stdout",
     "output_type": "stream",
     "text": [
      "INIT MSC_Loader...\n",
      "CPU times: user 657 ms, sys: 13.3 ms, total: 670 ms\n",
      "Wall time: 672 ms\n"
     ]
    }
   ],
   "source": [
    "%%time \n",
    "importlib.reload(orbit_cheby)\n",
    "\n",
    "# Create a sample of observatory-positions as inputs \n",
    "# - Note that the NBody code uses BARYCENTRIC EQUATORIAL coords\n",
    "# - So the Cheby's need to work-in/evaluate-to equatorial coords\n",
    "# - Hence the observatory-positions will need to be in equatorial coords\n",
    "nSample = int(1e0) \n",
    "evaluation_times = np.sort(2440000. + 999.*np.random.rand(nSample) )\n",
    "r = 1.0 \n",
    "XYZobservatory_equatorial = np.array( [r*np.cos(evaluation_times), \n",
    "                                        r*np.sin(evaluation_times) , \n",
    "                                        0.0001*r*np.cos(evaluation_times)])\n",
    "\n",
    "\n",
    "# Repeat the above to generate an MSC populated from above array ... \n",
    "M = orbit_cheby.MSC_Loader(FROM_ARRAY = True , \n",
    "                            unpacked_provisional_designations = name, \n",
    "                            times_TDB = times, \n",
    "                            statearray = states).MSCs[0]"
   ]
  },
  {
   "cell_type": "code",
   "execution_count": 27,
   "metadata": {},
   "outputs": [
    {
     "name": "stdout",
     "output_type": "stream",
     "text": [
      "[[ 2.06977044]\n",
      " [-1.77011446]\n",
      " [ 0.        ]]\n",
      "CPU times: user 702 µs, sys: 102 µs, total: 804 µs\n",
      "Wall time: 757 µs\n"
     ]
    }
   ],
   "source": [
    "%%time \n",
    "# ******************   Low-level call to get XYZ ******************\n",
    "XYZs = M.generate_XYZ( evaluation_times )\n",
    "\n",
    "# N.B. final shape = (3,len(times_TDB))\n",
    "#print('Final XYZs.shape = ', XYZs.shape)\n",
    "if np.all(np.array(XYZs.shape) < 20) : \n",
    "    print(XYZs)\n",
    "    "
   ]
  },
  {
   "cell_type": "code",
   "execution_count": 28,
   "metadata": {},
   "outputs": [
    {
     "name": "stdout",
     "output_type": "stream",
     "text": [
      "CPU times: user 537 µs, sys: 49 µs, total: 586 µs\n",
      "Wall time: 552 µs\n"
     ]
    },
    {
     "data": {
      "text/plain": [
       "array([[0.00677504],\n",
       "       [0.00792196],\n",
       "       [0.        ]])"
      ]
     },
     "execution_count": 28,
     "metadata": {},
     "output_type": "execute_result"
    }
   ],
   "source": [
    "%%time \n",
    "# Evaluate the **** GRADIENT ****\n",
    "M.dXYZdt(evaluation_times)"
   ]
  },
  {
   "cell_type": "markdown",
   "metadata": {},
   "source": [
    "## (2) Think about the variation in other parameters as XYZ are varied"
   ]
  },
  {
   "cell_type": "code",
   "execution_count": 30,
   "metadata": {},
   "outputs": [
    {
     "data": {
      "text/plain": [
       "<module 'orbit_cheby' from '/Users/matthewjohnpayne/Envs/orbit_cheby/orbit_cheby/orbit_cheby.py'>"
      ]
     },
     "execution_count": 30,
     "metadata": {},
     "output_type": "execute_result"
    }
   ],
   "source": [
    "import numdifftools as nd\n",
    "importlib.reload(orbit_cheby)\n"
   ]
  },
  {
   "cell_type": "code",
   "execution_count": 105,
   "metadata": {},
   "outputs": [
    {
     "name": "stdout",
     "output_type": "stream",
     "text": [
      "INIT MSC_Loader...\n"
     ]
    },
    {
     "data": {
      "text/plain": [
       "array([[-9.75492647e-01, -8.92384389e-01, -8.66186044e-01,\n",
       "        -5.35910170e-01, -2.22335729e-01,  3.06525126e-01,\n",
       "         3.50065342e-01,  5.72813029e-01,  6.47914587e-01,\n",
       "         8.27063822e-01],\n",
       "       [-2.20032032e-01,  4.51276083e-01, -4.99721660e-01,\n",
       "        -8.44275008e-01, -9.74970165e-01, -9.51862567e-01,\n",
       "        -9.36725283e-01, -8.19686058e-01, -7.61712995e-01,\n",
       "        -5.62108026e-01],\n",
       "       [ 2.99396490e-05,  8.05750044e-06,  1.39792784e-05,\n",
       "        -3.32061244e-05, -1.81875269e-05,  3.48648001e-05,\n",
       "         2.04030091e-05,  2.87009429e-05,  1.36407525e-05,\n",
       "        -4.42115490e-05]])"
      ]
     },
     "execution_count": 105,
     "metadata": {},
     "output_type": "execute_result"
    }
   ],
   "source": [
    "importlib.reload(orbit_cheby)\n",
    "# Create a sample of observatory-positions as inputs \n",
    "# - Note that the NBody code uses BARYCENTRIC EQUATORIAL coords\n",
    "# - So the Cheby's need to work-in/evaluate-to equatorial coords\n",
    "# - Hence the observatory-positions will need to be in equatorial coords\n",
    "nSample = int(1e1) \n",
    "evaluation_times = np.sort(2440000. + 999.*np.random.rand(nSample) )\n",
    "r = 1.0 \n",
    "XYZobservatory_equatorial = np.array( [r*np.cos(evaluation_times), \n",
    "                                        r*np.sin(evaluation_times) , \n",
    "                                        0.0001*r*np.cos(evaluation_times)])\n",
    "\n",
    "\n",
    "# Generate an MSC populated from above array ... \n",
    "M = orbit_cheby.MSC_Loader(FROM_ARRAY = True , \n",
    "                            unpacked_provisional_designations = name, \n",
    "                            times_TDB = times, \n",
    "                            statearray = states).MSCs[0]\n",
    "\n",
    "UVs = M.generate_UnitVector(  evaluation_times , \n",
    "                            XYZobservatory_equatorial, \n",
    "                            APPROX = True)\n",
    "\n",
    "# N.B. final shape = (3,len(times_TDB))\n",
    "UVs "
   ]
  },
  {
   "cell_type": "markdown",
   "metadata": {},
   "source": [
    "### Variation in UV as a func of variation in XYZ\n",
    "\n",
    "$ \\frac{d(UVx,UVy,UVz)({(X,Y,Z)},t)}{d{(X,Y,Z)}} $\n",
    "\n",
    "***THE FOLLOWING IS CLEARER WHEN LOOKING AT THE RADEC ONE BELOW ***\n",
    "N.B. each element is 3x3\n",
    "So visually we have \n",
    "\n",
    "dUVx/dX , dUVy/dX, , dUVz/dX\n",
    "\n",
    "dUVx/dY , dUVy/dY, , dUVz/dY\n",
    "\n",
    "dUVx/dZ , dUVy/dZ, , dUVz/dZ\n"
   ]
  },
  {
   "cell_type": "code",
   "execution_count": 106,
   "metadata": {},
   "outputs": [
    {
     "name": "stdout",
     "output_type": "stream",
     "text": [
      "(10, 3, 3)\n",
      "CPU times: user 7.29 ms, sys: 1.79 ms, total: 9.08 ms\n",
      "Wall time: 7.44 ms\n"
     ]
    }
   ],
   "source": [
    "%%time\n",
    "\n",
    "result = M.dUVdXYZ(evaluation_times, XYZobservatory_equatorial)\n",
    "print(result.shape) \n",
    " \n"
   ]
  },
  {
   "cell_type": "markdown",
   "metadata": {},
   "source": [
    "### Variation in RA,Dec as a func of variation in XYZ\n",
    "\n",
    "$ \\frac{d(RA,DEC)({(X,Y,Z)},t)}{d{(X,Y,Z)}} $\n",
    "\n",
    "N.B. each element is 3x2\n",
    "So visually we have \n",
    "\n",
    "dRA/dX , dDEC/dX\n",
    "\n",
    "dRA/dY , dDEC/dY\n",
    "\n",
    "dRA/dZ , dDEC/dZ\n"
   ]
  },
  {
   "cell_type": "code",
   "execution_count": 107,
   "metadata": {},
   "outputs": [
    {
     "name": "stdout",
     "output_type": "stream",
     "text": [
      "(10, 3, 2)\n",
      "CPU times: user 11.6 ms, sys: 1.94 ms, total: 13.5 ms\n",
      "Wall time: 11.7 ms\n"
     ]
    }
   ],
   "source": [
    "%%time\n",
    "\n",
    "dRD = M.dRaDecdXYZ(evaluation_times, XYZobservatory_equatorial)\n",
    "print(dRD.shape) \n",
    " \n"
   ]
  },
  {
   "cell_type": "markdown",
   "metadata": {},
   "source": [
    "### CoV Matrix for XYZ\n",
    " - Get this direct from the coefficient evaluation"
   ]
  },
  {
   "cell_type": "code",
   "execution_count": 108,
   "metadata": {},
   "outputs": [
    {
     "data": {
      "text/plain": [
       "((10, 3, 3),\n",
       " array([[[ 0.00000000e+00, -2.70633501e-09, -5.41267002e-09],\n",
       "         [-2.70633501e-09, -1.62380101e-08, -1.89443451e-08],\n",
       "         [-5.41267002e-09, -1.89443451e-08, -2.97696851e-08]],\n",
       " \n",
       "        [[ 0.00000000e+00, -2.70883569e-09, -5.41767139e-09],\n",
       "         [-2.70883569e-09, -1.62530142e-08, -1.89618499e-08],\n",
       "         [-5.41767139e-09, -1.89618499e-08, -2.97971926e-08]],\n",
       " \n",
       "        [[ 0.00000000e+00, -2.69241190e-09, -5.38482380e-09],\n",
       "         [-2.69241190e-09, -1.61544714e-08, -1.88468833e-08],\n",
       "         [-5.38482380e-09, -1.88468833e-08, -2.96165309e-08]],\n",
       " \n",
       "        [[ 0.00000000e+00, -6.08214770e-10, -1.21642954e-09],\n",
       "         [-6.08214770e-10, -3.64928862e-09, -4.25750339e-09],\n",
       "         [-1.21642954e-09, -4.25750339e-09, -6.69036247e-09]],\n",
       " \n",
       "        [[ 0.00000000e+00, -1.44426834e-10, -2.88853668e-10],\n",
       "         [-1.44426834e-10, -8.66561005e-10, -1.01098784e-09],\n",
       "         [-2.88853668e-10, -1.01098784e-09, -1.58869518e-09]],\n",
       " \n",
       "        [[ 0.00000000e+00, -1.20812599e-10, -2.41625198e-10],\n",
       "         [-1.20812599e-10, -7.24875594e-10, -8.45688193e-10],\n",
       "         [-2.41625198e-10, -8.45688193e-10, -1.32893859e-09]],\n",
       " \n",
       "        [[ 0.00000000e+00,  5.23093221e-10,  1.04618644e-09],\n",
       "         [ 5.23093221e-10,  3.13855933e-09,  3.66165255e-09],\n",
       "         [ 1.04618644e-09,  3.66165255e-09,  5.75402543e-09]],\n",
       " \n",
       "        [[ 0.00000000e+00,  9.68542920e-10,  1.93708584e-09],\n",
       "         [ 9.68542920e-10,  5.81125752e-09,  6.77980044e-09],\n",
       "         [ 1.93708584e-09,  6.77980044e-09,  1.06539721e-08]],\n",
       " \n",
       "        [[ 0.00000000e+00,  1.04415171e-09,  2.08830341e-09],\n",
       "         [ 1.04415171e-09,  6.26491023e-09,  7.30906194e-09],\n",
       "         [ 2.08830341e-09,  7.30906194e-09,  1.14856688e-08]],\n",
       " \n",
       "        [[ 0.00000000e+00,  2.61827899e-09,  5.23655799e-09],\n",
       "         [ 2.61827899e-09,  1.57096740e-08,  1.83279530e-08],\n",
       "         [ 5.23655799e-09,  1.83279530e-08,  2.88010689e-08]]]))"
      ]
     },
     "execution_count": 108,
     "metadata": {},
     "output_type": "execute_result"
    }
   ],
   "source": [
    "cov_XYZ = M.covXYZ(evaluation_times)\n",
    "cov_XYZ.shape, cov_XYZ"
   ]
  },
  {
   "cell_type": "markdown",
   "metadata": {},
   "source": [
    "### CoV Matrix for RA,Dec\n",
    "- https://iopscience.iop.org/article/10.1086/316868/pdf\n",
    "\n",
    "$\\Sigma_{\\bf\\theta} = \\left[\\frac{d\\theta({\\bf\\alpha},t)}{d{\\bf\\alpha}}\\right]^T  \\Sigma_{\\bf\\alpha}  \\left[\\frac{d\\theta({\\bf\\alpha},t)}{d{\\bf\\alpha}}\\right]$ \n",
    "\n",
    "$\\Sigma_{(R,D)} = \\left[\\frac{d(R,D)({(X,Y,Z)},t)}{d{(X,Y,Z)}}\\right]^T  \\Sigma_{(X,Y,Z)}  \\left[\\frac{d(R,D)({(X,Y,Z)},t)}{d{(X,Y,Z)}}\\right]$ \n"
   ]
  },
  {
   "cell_type": "code",
   "execution_count": 114,
   "metadata": {},
   "outputs": [
    {
     "data": {
      "text/plain": [
       "(array([[-1.04102677e-05,  6.29764997e-06],\n",
       "        [ 6.29764997e-06, -5.42197800e-06]]),\n",
       " array([[1.01669111e-05, 6.98136046e-06],\n",
       "        [6.98136046e-06, 5.55382360e-06]]))"
      ]
     },
     "execution_count": 114,
     "metadata": {},
     "output_type": "execute_result"
    }
   ],
   "source": [
    "# Explicitly evaluate the first & last components we expect ...\n",
    "np.linalg.multi_dot([dRD[0].T , cov_XYZ[0], dRD[0]]) ,  np.linalg.multi_dot([dRD[-1].T , cov_XYZ[-1], dRD[-1]])"
   ]
  },
  {
   "cell_type": "code",
   "execution_count": 116,
   "metadata": {},
   "outputs": [
    {
     "name": "stdout",
     "output_type": "stream",
     "text": [
      "CPU times: user 13.3 ms, sys: 2.56 ms, total: 15.8 ms\n",
      "Wall time: 13.4 ms\n"
     ]
    },
    {
     "data": {
      "text/plain": [
       "(array([[-1.04102677e-05,  6.29764997e-06],\n",
       "        [ 6.29764997e-06, -5.42197800e-06]]),\n",
       " array([[1.01669111e-05, 6.98136046e-06],\n",
       "        [6.98136046e-06, 5.55382360e-06]]),\n",
       " (10, 2, 2))"
      ]
     },
     "execution_count": 116,
     "metadata": {},
     "output_type": "execute_result"
    }
   ],
   "source": [
    "%%time \n",
    "# Evaluate using the standard functionality\n",
    "cov_RD = M.covRaDec(evaluation_times, XYZobservatory_equatorial)\n",
    "cov_RD[0], cov_RD[-1] , cov_RD.shape"
   ]
  },
  {
   "cell_type": "code",
   "execution_count": null,
   "metadata": {},
   "outputs": [],
   "source": []
  },
  {
   "cell_type": "code",
   "execution_count": null,
   "metadata": {},
   "outputs": [],
   "source": []
  }
 ],
 "metadata": {
  "kernelspec": {
   "display_name": "Python 3",
   "language": "python",
   "name": "python3"
  },
  "language_info": {
   "codemirror_mode": {
    "name": "ipython",
    "version": 3
   },
   "file_extension": ".py",
   "mimetype": "text/x-python",
   "name": "python",
   "nbconvert_exporter": "python",
   "pygments_lexer": "ipython3",
   "version": "3.7.6"
  }
 },
 "nbformat": 4,
 "nbformat_minor": 2
}
