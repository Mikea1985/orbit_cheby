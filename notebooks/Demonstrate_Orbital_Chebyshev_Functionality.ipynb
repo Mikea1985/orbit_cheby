{
 "cells": [
  {
   "cell_type": "markdown",
   "metadata": {},
   "source": [
    "# Demonstrations of Orbit_Cheby Functionality\n",
    "\n",
    " - This notebook contains a mixture of demos of finished code, as well as WIP experimentation with ways to speed-up the code "
   ]
  },
  {
   "cell_type": "code",
   "execution_count": 53,
   "metadata": {},
   "outputs": [
    {
     "data": {
      "text/plain": [
       "'/Users/matthewjohnpayne/Envs/orbit_cheby/orbit_cheby/orbit_cheby.py'"
      ]
     },
     "execution_count": 53,
     "metadata": {},
     "output_type": "execute_result"
    }
   ],
   "source": [
    "import time\n",
    "import numpy as np\n",
    "import scipy.stats as stats\n",
    "import math\n",
    "import random\n",
    "from collections import defaultdict\n",
    "import os\n",
    "import sys\n",
    "from collections import Counter\n",
    "import glob \n",
    "import warnings\n",
    "import warnings\n",
    "warnings.filterwarnings('ignore')\n",
    "import matplotlib.pyplot as plt\n",
    "import importlib\n",
    "from astropy.time import Time\n",
    "\n",
    "# -------------------------------------------------------------------------------------\n",
    "# Local imports\n",
    "# -------------------------------------------------------------------------------------\n",
    "\n",
    "# Can't get the damn thing to work from symbolic link in ...\n",
    "# '/Users/matthewjohnpayne/opt/anaconda3/lib/python3.7/site-packages/orbit_cheby/__init__.py'\n",
    "# So just hardpasting local link for now \n",
    "os.chdir('/Users/matthewjohnpayne/Envs/orbit_cheby/orbit_cheby')\n",
    "\n",
    "import nbody_reader\n",
    "import orbit_cheby\n",
    "orbit_cheby.__file__"
   ]
  },
  {
   "cell_type": "markdown",
   "metadata": {},
   "source": [
    "## Demonstrate some aspects of the main orbit_cheby routines \n",
    " - Here I am assuming that the \"nbody_reader\" routine (described in \"Demonstrate_NBody_Reader_Functionality.ipynb\") is available to read input data, and that we can now use the main, higher-level \"orbit_cheby\" routines to operate on that input nbody data, and use it to generate sets of chebyshev coefficients\n",
    " - The chebyshev coefficients are fit to \"sectors\" of data (e.g. 32-day chunks) and saved into suitable data structures \n",
    " - I experiment with dictionaries, but find that numpy arrays are better/faster (surprise surprise)"
   ]
  },
  {
   "cell_type": "markdown",
   "metadata": {},
   "source": [
    "##### Declare an MSC (multi sector cheby) class object"
   ]
  },
  {
   "cell_type": "code",
   "execution_count": 54,
   "metadata": {},
   "outputs": [
    {
     "name": "stdout",
     "output_type": "stream",
     "text": [
      "<class 'orbit_cheby.MSC'>\n",
      "__class__\n",
      "__delattr__\n",
      "__dict__\n",
      "__dir__\n",
      "__doc__\n",
      "__eq__\n",
      "__format__\n",
      "__ge__\n",
      "__getattribute__\n",
      "__gt__\n",
      "__hash__\n",
      "__init__\n",
      "__init_subclass__\n",
      "__le__\n",
      "__lt__\n",
      "__module__\n",
      "__ne__\n",
      "__new__\n",
      "__reduce__\n",
      "__reduce_ex__\n",
      "__repr__\n",
      "__setattr__\n",
      "__sizeof__\n",
      "__str__\n",
      "__subclasshook__\n",
      "__weakref__\n",
      "evaluate_components\n",
      "from_coord_arrays\n",
      "generate_HP\n",
      "generate_RaDec\n",
      "generate_UnitVector\n",
      "generate_XYZ\n",
      "generate_cheb_for_sector\n",
      "get_valid_range_of_dates\n",
      "map_JD_to_sector_number\n",
      "map_JD_to_sector_number_and_sector_start_JD\n",
      "map_sector_number_to_sector_start_JD\n",
      "maxerr\n",
      "maxorder\n",
      "minorder\n",
      "sector_coeffs\n",
      "unpacked_provisional_designation\n"
     ]
    }
   ],
   "source": [
    "importlib.reload(orbit_cheby)\n",
    "M = orbit_cheby.MSC()\n",
    "\n",
    "print(type(M) )\n",
    "for item in dir(M) : print(item)\n",
    "del M "
   ]
  },
  {
   "cell_type": "markdown",
   "metadata": {},
   "source": [
    "##### Declare an MSC_Loader class object"
   ]
  },
  {
   "cell_type": "code",
   "execution_count": 55,
   "metadata": {},
   "outputs": [
    {
     "name": "stdout",
     "output_type": "stream",
     "text": [
      "INIT MSC_Loader...\n",
      "Defaulting to the production of a list of empty MSCs\n",
      "<class 'orbit_cheby.MSC_Loader'>\n",
      "FORCE_DATES\n",
      "FROM_ARRAY\n",
      "FROM_DATABASE\n",
      "FROM_FILE\n",
      "MSCs\n",
      "TDB_final\n",
      "TDB_init\n",
      "__class__\n",
      "__delattr__\n",
      "__dict__\n",
      "__dir__\n",
      "__doc__\n",
      "__eq__\n",
      "__format__\n",
      "__ge__\n",
      "__getattribute__\n",
      "__gt__\n",
      "__hash__\n",
      "__init__\n",
      "__init_subclass__\n",
      "__le__\n",
      "__lt__\n",
      "__module__\n",
      "__ne__\n",
      "__new__\n",
      "__reduce__\n",
      "__reduce_ex__\n",
      "__repr__\n",
      "__setattr__\n",
      "__sizeof__\n",
      "__str__\n",
      "__subclasshook__\n",
      "__weakref__\n",
      "_generate_empty\n",
      "_populate_from_database\n",
      "_populate_from_nbody_array\n",
      "_populate_from_nbody_text\n",
      "filepath\n",
      "statearray\n",
      "times_TDB\n",
      "unpacked_provisional_designations\n"
     ]
    }
   ],
   "source": [
    "importlib.reload(orbit_cheby)\n",
    "M = orbit_cheby.MSC_Loader()\n",
    "\n",
    "print(type(M) )\n",
    "for item in dir(M) : print(item)\n",
    "del M "
   ]
  },
  {
   "cell_type": "markdown",
   "metadata": {},
   "source": [
    "#### *Create* multi-sector chebyshev dictionary:  Txt/Numpy version \n",
    " - This *WIP* version of the routine to do the *FUNDAMENTALLY IMPORTANT* task of converting nbody output into structured sets of chebshev coefficients uses a text-file/numpy-array based approach\n",
    " - This runs far more quickly (~1sec) than does the above json/dictoinary version \n",
    " - My working assumption is that a ~1sec wait time is borderline tolerable for on-the-fly processing in an s9m/sifter routine (less important for mpchecker-processes, as the creation of the cheby's could be back-grounded in that scenario) "
   ]
  },
  {
   "cell_type": "raw",
   "metadata": {},
   "source": [
    "%%time \n",
    "importlib.reload(orbit_cheby)\n",
    "\n",
    "# Get n-body data from txt file & use to create multi_sector_cheby_dict\n",
    "text_filepath = '/Users/matthewjohnpayne/Envs/orbit_cheby/dev_data/2022AA_demo.txt'\n",
    "M = orbit_cheby.MSC() \n",
    "M._populate_from_nbody_text( text_filepath )\n",
    "print ( 'Number of sectors = ' , len(M.sectors) )\n",
    "del M \n"
   ]
  },
  {
   "cell_type": "raw",
   "metadata": {},
   "source": [
    "%%time \n",
    "importlib.reload(orbit_cheby)\n",
    "\n",
    "# Direct creation from txt file (one-liner version of the above)\n",
    "M = orbit_cheby.MSC( FROM_FILE=True, filepath=text_filepath )\n",
    "print ( 'Number of sectors = ' , len(M.sectors) )\n",
    "del M \n"
   ]
  },
  {
   "cell_type": "markdown",
   "metadata": {},
   "source": [
    "#### Directly from array \n",
    " - In practice, we will (hopefully) have the data in a numpy-array anyway, direct from the nbody sim\n",
    " - So here we prepopulate an array, and then demo reading in directly from the array"
   ]
  },
  {
   "cell_type": "code",
   "execution_count": 56,
   "metadata": {},
   "outputs": [
    {
     "name": "stdout",
     "output_type": "stream",
     "text": [
      "CPU times: user 595 ms, sys: 75.7 ms, total: 671 ms\n",
      "Wall time: 725 ms\n"
     ]
    }
   ],
   "source": [
    "%%time \n",
    "\n",
    "# Pre-populate numpy array ...\n",
    "text_filepath = '/Users/matthewjohnpayne/Envs/orbit_cheby/dev_data/2022AA_demo.txt'\n",
    "name, times, states  = nbody_reader.parse_nbody_txt( text_filepath )\n"
   ]
  },
  {
   "cell_type": "raw",
   "metadata": {
    "scrolled": true
   },
   "source": [
    "%%time \n",
    "importlib.reload(orbit_cheby)\n",
    "\n",
    "# 2-step (explicit) method to load from array \n",
    "M = orbit_cheby.MSC() \n",
    "M._populate_from_nbody_array(name, times, states)\n",
    "print ( 'Number of sectors = ' , len(M.sectors) )\n",
    "del M "
   ]
  },
  {
   "cell_type": "code",
   "execution_count": 58,
   "metadata": {},
   "outputs": [
    {
     "name": "stdout",
     "output_type": "stream",
     "text": [
      "INIT MSC_Loader...\n",
      "Returned variable is of type <class 'list'> , and length 1  \n",
      "Entry in list is of type <class 'orbit_cheby.MSC'>\n",
      "Number of sectors =  623\n",
      "Shape of sector[0] =  (18, 27)\n",
      "CPU times: user 463 ms, sys: 25.5 ms, total: 489 ms\n",
      "Wall time: 526 ms\n"
     ]
    }
   ],
   "source": [
    "%%time \n",
    "importlib.reload(orbit_cheby)\n",
    "\n",
    "# Use MSC_Loader to initialize & return MSC\n",
    "# N.B.(1) : Loads directly from array \n",
    "# N.B.(2) : Creates a list (of length 1 in this case of MSC objects\n",
    "# N.B.(3) : Use \".MSCs\" to access the list of .MSCs\n",
    "# N.B.(4) : Plural !! : unpacked_provisional_designations \n",
    "MSCs = orbit_cheby.MSC_Loader(FROM_ARRAY = True , \n",
    "                            unpacked_provisional_designations = name, \n",
    "                            times_TDB = times, \n",
    "                            statearray = states).MSCs\n",
    "print( 'Returned variable is of type %r , and length %r  ' % (type(MSCs),len(MSCs) ) )\n",
    "M = MSCs[0]\n",
    "print( 'Entry in list is of type', type(M) )\n",
    "print ( 'Number of sectors = ' , len(M.sector_coeffs) )\n",
    "print ( 'Shape of sector[0] = ' , M.sector_coeffs[0].shape )\n",
    "del M \n"
   ]
  },
  {
   "cell_type": "markdown",
   "metadata": {},
   "source": [
    "#### Directly from array for **MULTIPLE PARTICLES**\n",
    " - Want 3D array \n",
    " - Will create this here by sticking together a few copies of the data for a single particle ...\n"
   ]
  },
  {
   "cell_type": "code",
   "execution_count": 59,
   "metadata": {},
   "outputs": [
    {
     "name": "stdout",
     "output_type": "stream",
     "text": [
      "CPU times: user 2.28 s, sys: 174 ms, total: 2.45 s\n",
      "Wall time: 2.51 s\n"
     ]
    },
    {
     "data": {
      "text/plain": [
       "(20000, 27, 4)"
      ]
     },
     "execution_count": 59,
     "metadata": {},
     "output_type": "execute_result"
    }
   ],
   "source": [
    "%%time \n",
    "importlib.reload(orbit_cheby)\n",
    "\n",
    "# Pre-populate numpy array ...\n",
    "# - Note that (i) we need to allow for MULTIPLE NAMES\n",
    "# - We are creating a 3D array of input coords\n",
    "arrays, names = [],[] \n",
    "for i in range(1,5):\n",
    "    name, times, states  = nbody_reader.parse_nbody_txt( text_filepath )\n",
    "    names.append(name+\"_\"+str(i))\n",
    "    arrays.append(states)\n",
    "states_3D = np.stack(arrays, axis=2)\n",
    "states_3D.shape\n"
   ]
  },
  {
   "cell_type": "code",
   "execution_count": 60,
   "metadata": {},
   "outputs": [
    {
     "name": "stdout",
     "output_type": "stream",
     "text": [
      "INIT MSC_Loader...\n",
      "Returned variable is of type <class 'list'> , and length 4  \n",
      "Entry [0] list is of type <class 'orbit_cheby.MSC'>\n",
      "Number of sectors =  623\n",
      "Shape of sector[0] =  (18, 27)\n",
      "CPU times: user 1.69 s, sys: 35.4 ms, total: 1.73 s\n",
      "Wall time: 1.76 s\n"
     ]
    }
   ],
   "source": [
    "%%time \n",
    "importlib.reload(orbit_cheby)\n",
    "\n",
    "# Use MSC_Loader to initialize & return MSC\n",
    "# N.B.(1) : Loads directly from array \n",
    "# N.B.(2) : Creates a list (of length 4 in this case of MSC objects\n",
    "# N.B.(3) : Use \".MSCs\" to access the list of .MSCs\n",
    "# N.B.(4) : Plural !! : unpacked_provisional_designations \n",
    "MSCs = orbit_cheby.MSC_Loader(FROM_ARRAY = True , \n",
    "                            unpacked_provisional_designations = names, \n",
    "                            times_TDB = times, \n",
    "                            statearray = states_3D).MSCs\n",
    "print( 'Returned variable is of type %r , and length %r  ' % (type(MSCs),len(MSCs) ) )\n",
    "M = MSCs[0]\n",
    "print( 'Entry [0] list is of type', type(M) )\n",
    "print ( 'Number of sectors = ' , len(M.sector_coeffs) )\n",
    "print ( 'Shape of sector[0] = ' , M.sector_coeffs[0].shape )\n",
    "del M \n"
   ]
  },
  {
   "cell_type": "markdown",
   "metadata": {},
   "source": [
    "## Evaluate cheby's at some times ...\n",
    " - Evaluating the cheby's will be done to allow precise positional calculations, in both the sifter- and mpchecker-scenarios. \n",
    " - In the end this needs to be a rapid evaluation ..."
   ]
  },
  {
   "cell_type": "markdown",
   "metadata": {},
   "source": [
    "# XYZ positions \n",
    " - Here we are using a relatively low-level function (generate_XYZ) to find heliocentric XYZ positions using the stored data\n",
    " - It seems to be able to perform ~1e6 XYZ calculations per second (for a single object's chebyshev coeffs, where there are 27 sets of coefficients )\n",
    " - I assume that this will vary as the number of sectors changes "
   ]
  },
  {
   "cell_type": "markdown",
   "metadata": {},
   "source": [
    "#### XYZ positions : Single Particle \n"
   ]
  },
  {
   "cell_type": "code",
   "execution_count": 61,
   "metadata": {},
   "outputs": [
    {
     "name": "stdout",
     "output_type": "stream",
     "text": [
      "INIT MSC_Loader...\n"
     ]
    }
   ],
   "source": [
    "importlib.reload(orbit_cheby)\n",
    "\n",
    "# Repeat the above to generate an MSC populated from above array ... \n",
    "MSCs = orbit_cheby.MSC_Loader(FROM_ARRAY = True , \n",
    "                            unpacked_provisional_designations = name, \n",
    "                            times_TDB = times, \n",
    "                            statearray = states).MSCs\n",
    "M = MSCs[0]\n"
   ]
  },
  {
   "cell_type": "code",
   "execution_count": 63,
   "metadata": {},
   "outputs": [
    {
     "name": "stdout",
     "output_type": "stream",
     "text": [
      "Final XYZs.shape =  (3, 1000000)\n",
      "CPU times: user 774 ms, sys: 157 ms, total: 931 ms\n",
      "Wall time: 952 ms\n"
     ]
    },
    {
     "data": {
      "text/plain": [
       "[<matplotlib.lines.Line2D at 0x1a1f5f8a90>]"
      ]
     },
     "execution_count": 63,
     "metadata": {},
     "output_type": "execute_result"
    },
    {
     "data": {
      "image/png": "[encoded data removed]",
      "text/plain": [
       "<Figure size 432x288 with 1 Axes>"
      ]
     },
     "metadata": {
      "needs_background": "light"
     },
     "output_type": "display_data"
    }
   ],
   "source": [
    "%%time \n",
    "importlib.reload(orbit_cheby)\n",
    "\n",
    "nSample = int(1e6) \n",
    "\n",
    "# Set up some evaluation times \n",
    "evaluation_times = np.sort(2440000. + 999.*np.random.rand(nSample) )\n",
    "\n",
    "# ******************   Low-level call to get XYZ ******************\n",
    "XYZs = M.generate_XYZ( evaluation_times )\n",
    "\n",
    "# N.B. final shape = (3,len(times_TDB))\n",
    "print('Final XYZs.shape = ', XYZs.shape)\n",
    "\n",
    "# Plot x == XYZs[0] against time ... \n",
    "every=1000\n",
    "plt.plot( evaluation_times[::every] , XYZs[0][::every] , '.' ) "
   ]
  },
  {
   "cell_type": "markdown",
   "metadata": {},
   "source": [
    "#### XYZ positions  :  Multiple objects \n",
    " - N.B. in the call to *generate_XYZ* 2-cells down, we are evaluating ~1e6 * 4 position calls"
   ]
  },
  {
   "cell_type": "code",
   "execution_count": 64,
   "metadata": {},
   "outputs": [
    {
     "name": "stdout",
     "output_type": "stream",
     "text": [
      "INIT MSC_Loader...\n",
      "CPU times: user 1.69 s, sys: 16 ms, total: 1.7 s\n",
      "Wall time: 1.71 s\n"
     ]
    }
   ],
   "source": [
    "%%time \n",
    "importlib.reload(orbit_cheby)\n",
    "\n",
    "# Repeat the proceedure a few cells above to generate a list of MSCs\n",
    "MSCs = orbit_cheby.MSC_Loader(FROM_ARRAY = True , \n",
    "                            unpacked_provisional_designations = names, \n",
    "                            times_TDB = times, \n",
    "                            statearray = states_3D).MSCs"
   ]
  },
  {
   "cell_type": "code",
   "execution_count": 66,
   "metadata": {},
   "outputs": [
    {
     "name": "stdout",
     "output_type": "stream",
     "text": [
      "CPU times: user 2.81 s, sys: 639 ms, total: 3.45 s\n",
      "Wall time: 3.45 s\n"
     ]
    },
    {
     "data": {
      "text/plain": [
       "<matplotlib.legend.Legend at 0x1a1e8f8ad0>"
      ]
     },
     "execution_count": 66,
     "metadata": {},
     "output_type": "execute_result"
    },
    {
     "data": {
      "image/png": "[encoded data removed]",
      "text/plain": [
       "<Figure size 432x288 with 1 Axes>"
      ]
     },
     "metadata": {
      "needs_background": "light"
     },
     "output_type": "display_data"
    }
   ],
   "source": [
    "%%time \n",
    "\n",
    "nSample = int(1e6) \n",
    "\n",
    "# Set up some evaluation times \n",
    "evaluation_times = np.sort(2440000. + 999.*np.random.rand(nSample) )\n",
    "\n",
    "# Loop over each MSC ... \n",
    "for i, M in enumerate(MSCs): \n",
    "    \n",
    "    # ******************   Low-level call to get XYZ ******************\n",
    "    XYZs = M.generate_XYZ( evaluation_times )\n",
    "\n",
    "    # Plot x == XYZs[0] against time ... \n",
    "    #every=10000\n",
    "\n",
    "    plt.plot( evaluation_times[::every] , XYZs[0][::every] , '.' , ms = 20-5*i, label=str(i))\n",
    "plt.legend()"
   ]
  },
  {
   "cell_type": "markdown",
   "metadata": {},
   "source": [
    "# Observational UnitVector Calculations\n",
    "\n",
    "###### SIFTER: This UV calc is used at the time of query to (a) get the approx HP (see below) and (b) to get refined positions for precise tracklet matching \n",
    "###### MPCHECKER: This UV calc is used at the time of query to get refined positions for any approx matches extracted from the precalculated data\n",
    "\n",
    " - These calculations require that the positions of the observatory are provided as inputs: I.e. I want to completely separate the obs-posn stuff from the cheby evaluation calculations\n",
    " - For the sake of these demonstrations, I am going to generate a set of standardized input observatory-positions (using a silly ~circular approximation) and then provide those as inputs. \n",
    "     "
   ]
  },
  {
   "cell_type": "code",
   "execution_count": 71,
   "metadata": {},
   "outputs": [
    {
     "name": "stdout",
     "output_type": "stream",
     "text": [
      "CPU times: user 193 ms, sys: 9.82 ms, total: 203 ms\n",
      "Wall time: 204 ms\n"
     ]
    }
   ],
   "source": [
    "%%time \n",
    "importlib.reload(orbit_cheby)\n",
    "\n",
    "# Create a sample of observatory-positions as inputs \n",
    "# - Note that the NBody code uses BARYCENTRIC EQUATORIAL coords\n",
    "# - So the Cheby's need to work-in/evaluate-to equatorial coords\n",
    "# - Hence the observatory-positions will need to be in equatorial coords\n",
    "nSample = int(1e6) \n",
    "evaluation_times = np.sort(2440000. + 999.*np.random.rand(nSample) )\n",
    "r = 1.0 \n",
    "XYZobservatory_equatorial = np.array( [r*np.cos(evaluation_times), \n",
    "                                        r*np.sin(evaluation_times) , \n",
    "                                        0.0001*r*np.cos(evaluation_times)])"
   ]
  },
  {
   "cell_type": "markdown",
   "metadata": {},
   "source": [
    "#### Unit-Vector : Single Particle "
   ]
  },
  {
   "cell_type": "code",
   "execution_count": 72,
   "metadata": {},
   "outputs": [
    {
     "name": "stdout",
     "output_type": "stream",
     "text": [
      "INIT MSC_Loader...\n"
     ]
    }
   ],
   "source": [
    "importlib.reload(orbit_cheby)\n",
    "\n",
    "# Repeat the above to generate an MSC populated from above array ... \n",
    "M = orbit_cheby.MSC_Loader(FROM_ARRAY = True , \n",
    "                            unpacked_provisional_designations = name, \n",
    "                            times_TDB = times, \n",
    "                            statearray = states).MSCs[0]"
   ]
  },
  {
   "cell_type": "markdown",
   "metadata": {},
   "source": [
    " - In this initial experiment *BELOW* I find that it takes: \n",
    "        ~1s to evaluate 1e6 unit vectors for a single object using an APPROX (non-iterated) approach\n",
    "        ~3s to evaluate 1e6 unit vectors for a single object using a NON-APPROX (iterated) approach \n",
    " "
   ]
  },
  {
   "cell_type": "code",
   "execution_count": 73,
   "metadata": {},
   "outputs": [
    {
     "name": "stdout",
     "output_type": "stream",
     "text": [
      "CPU times: user 723 ms, sys: 192 ms, total: 915 ms\n",
      "Wall time: 914 ms\n"
     ]
    },
    {
     "data": {
      "text/plain": [
       "(3, 1000000)"
      ]
     },
     "execution_count": 73,
     "metadata": {},
     "output_type": "execute_result"
    }
   ],
   "source": [
    "%%time \n",
    "\n",
    "# Now evaluate some unit vectors [[APPROXIMATE calculation]]\n",
    "# - With these kinds of input, all I am really doing is ascertaining that the functions work in the sense of producing numbers\n",
    "# - There is no real understanding of whether the numbers are accurate / correct \n",
    "UVs = M.generate_UnitVector(  evaluation_times , \n",
    "                            XYZobservatory_equatorial, \n",
    "                            APPROX = True)\n",
    "\n",
    "# N.B. final shape = (3,len(times_TDB))\n",
    "UVs.shape "
   ]
  },
  {
   "cell_type": "code",
   "execution_count": 74,
   "metadata": {},
   "outputs": [
    {
     "name": "stdout",
     "output_type": "stream",
     "text": [
      "(3, 1000000)\n",
      "CPU times: user 2.11 s, sys: 539 ms, total: 2.64 s\n",
      "Wall time: 2.64 s\n"
     ]
    }
   ],
   "source": [
    "%%time \n",
    "\n",
    "# Now evaluate some unit vectors [[EXACT Calculation]]\n",
    "# - With these kinds of input, all I am really doing is ascertaining that the functions work in the sense of producing numbers\n",
    "# - There is no real understanding of whether the numbers are accurate / correct \n",
    "UVs = M.generate_UnitVector( evaluation_times , \n",
    "                                    XYZobservatory_equatorial, \n",
    "                                    APPROX = False\n",
    "                                              )\n",
    "# N.B. final shape = (3,len(times_TDB))\n",
    "print(UVs.shape)\n"
   ]
  },
  {
   "cell_type": "markdown",
   "metadata": {},
   "source": [
    "#### Unit-Vector : Multi Particle "
   ]
  },
  {
   "cell_type": "code",
   "execution_count": 75,
   "metadata": {},
   "outputs": [
    {
     "name": "stdout",
     "output_type": "stream",
     "text": [
      "INIT MSC_Loader...\n",
      "CPU times: user 1.74 s, sys: 26.9 ms, total: 1.77 s\n",
      "Wall time: 1.82 s\n"
     ]
    }
   ],
   "source": [
    "%%time \n",
    "importlib.reload(orbit_cheby)\n",
    "\n",
    "# Repeat the proceedure a few cells above to generate a list of MSCs\n",
    "MSCs = orbit_cheby.MSC_Loader(FROM_ARRAY = True , \n",
    "                            unpacked_provisional_designations = names, \n",
    "                            times_TDB = times, \n",
    "                            statearray = states_3D).MSCs"
   ]
  },
  {
   "cell_type": "code",
   "execution_count": 76,
   "metadata": {},
   "outputs": [
    {
     "name": "stdout",
     "output_type": "stream",
     "text": [
      "(3, 1000000)\n",
      "(3, 1000000)\n",
      "(3, 1000000)\n",
      "(3, 1000000)\n",
      "CPU times: user 8.32 s, sys: 2.14 s, total: 10.5 s\n",
      "Wall time: 10.5 s\n"
     ]
    }
   ],
   "source": [
    "%%time \n",
    "\n",
    "# Loop over each MSC ... \n",
    "for i, M in enumerate(MSCs): \n",
    "    \n",
    "    UVs = M.generate_UnitVector( evaluation_times , \n",
    "                                    XYZobservatory_equatorial, \n",
    "                                    APPROX = False)\n",
    "    print(UVs.shape)"
   ]
  },
  {
   "cell_type": "markdown",
   "metadata": {},
   "source": [
    "### Observational HP Calculations\n",
    "###### SIFTER: This HP routine will be used intensively at the time a search is executed to find the APPROX HP location of an object over a series of many nights \n",
    "###### MPCHECKER: This HP routine will be used in the precalculation phase to find-and-store the HP location of an object across a series of nights \n",
    "\n",
    "\n",
    " - Because this is a wrapper around the unitvector call, the hp call again requires that the positions of the observatory are provided as inputs: I.e. I want to completely separate the obs-posn stuff from the cheby evaluation calculations\n",
    " - For the sake of these demonstrations, I am going to use the obs-posns generated above\n",
    " \n",
    "This brief experiment finds that the time to calcuate 1e6 healpix is essentially the same as the time to  generate the underlying 1e6 unitvectors"
   ]
  },
  {
   "cell_type": "markdown",
   "metadata": {},
   "source": [
    "#### HP : Single Particle "
   ]
  },
  {
   "cell_type": "code",
   "execution_count": 77,
   "metadata": {},
   "outputs": [
    {
     "name": "stdout",
     "output_type": "stream",
     "text": [
      "INIT MSC_Loader...\n"
     ]
    }
   ],
   "source": [
    "importlib.reload(orbit_cheby)\n",
    "\n",
    "# Repeat the above to generate an MSC populated from above array ... \n",
    "M = orbit_cheby.MSC_Loader(FROM_ARRAY = True , \n",
    "                            unpacked_provisional_designations = name, \n",
    "                            times_TDB = times, \n",
    "                            statearray = states).MSCs[0]"
   ]
  },
  {
   "cell_type": "code",
   "execution_count": 78,
   "metadata": {},
   "outputs": [
    {
     "name": "stdout",
     "output_type": "stream",
     "text": [
      "CPU times: user 1.07 s, sys: 213 ms, total: 1.28 s\n",
      "Wall time: 1.29 s\n"
     ]
    },
    {
     "data": {
      "text/plain": [
       "((1000000,), (1000000,))"
      ]
     },
     "execution_count": 78,
     "metadata": {},
     "output_type": "execute_result"
    }
   ],
   "source": [
    "%%time \n",
    "importlib.reload(orbit_cheby)\n",
    "# Now evaluate the HP vectors  \n",
    "# - With these kinds of input, all I am really doing is ascertaining that the functions work in the sense of producing numbers\n",
    "# - There is no real understanding of whether the numbers are accurate / correct \n",
    "HPs= M.generate_HP( evaluation_times , \n",
    "                XYZobservatory_equatorial, \n",
    "                APPROX = True )\n",
    "# N.B. final shape = (3,len(times_TDB))\n",
    "HPs.shape , evaluation_times.shape\n"
   ]
  },
  {
   "cell_type": "markdown",
   "metadata": {},
   "source": [
    "#### HP : Multi Particle "
   ]
  },
  {
   "cell_type": "code",
   "execution_count": 79,
   "metadata": {},
   "outputs": [
    {
     "name": "stdout",
     "output_type": "stream",
     "text": [
      "INIT MSC_Loader...\n",
      "CPU times: user 1.59 s, sys: 14.8 ms, total: 1.61 s\n",
      "Wall time: 1.63 s\n"
     ]
    }
   ],
   "source": [
    "%%time \n",
    "importlib.reload(orbit_cheby)\n",
    "\n",
    "# Repeat the proceedure a few cells above to generate a list of MSCs\n",
    "MSCs = orbit_cheby.MSC_Loader(FROM_ARRAY = True , \n",
    "                            unpacked_provisional_designations = names, \n",
    "                            times_TDB = times, \n",
    "                            statearray = states_3D).MSCs"
   ]
  },
  {
   "cell_type": "code",
   "execution_count": 80,
   "metadata": {},
   "outputs": [
    {
     "name": "stdout",
     "output_type": "stream",
     "text": [
      "(1000000,)\n",
      "(1000000,)\n",
      "(1000000,)\n",
      "(1000000,)\n",
      "CPU times: user 3.68 s, sys: 765 ms, total: 4.44 s\n",
      "Wall time: 4.44 s\n"
     ]
    }
   ],
   "source": [
    "%%time \n",
    "\n",
    "# Loop over each MSC ... \n",
    "for i, M in enumerate(MSCs): \n",
    "    \n",
    "    HPs = M.generate_HP( evaluation_times , \n",
    "                        XYZobservatory_equatorial, \n",
    "                        APPROX = True)\n",
    "    print(HPs.shape)"
   ]
  },
  {
   "cell_type": "markdown",
   "metadata": {},
   "source": [
    "# RA, Dec"
   ]
  },
  {
   "cell_type": "code",
   "execution_count": 340,
   "metadata": {},
   "outputs": [
    {
     "name": "stdout",
     "output_type": "stream",
     "text": [
      "INIT MSC_Loader...\n"
     ]
    }
   ],
   "source": [
    "importlib.reload(orbit_cheby)\n",
    "\n",
    "# Repeat the above to generate an MSC populated from above array ... \n",
    "M = orbit_cheby.MSC_Loader(FROM_ARRAY = True , \n",
    "                            unpacked_provisional_designations = name, \n",
    "                            times_TDB = times, \n",
    "                            statearray = states).MSCs[0]"
   ]
  },
  {
   "cell_type": "code",
   "execution_count": 341,
   "metadata": {},
   "outputs": [
    {
     "name": "stdout",
     "output_type": "stream",
     "text": [
      "INIT MSC_Loader...\n"
     ]
    }
   ],
   "source": [
    "importlib.reload(orbit_cheby)\n",
    "\n",
    "# Repeat the above to generate an MSC populated from above array ... \n",
    "M = orbit_cheby.MSC_Loader(FROM_ARRAY = True , \n",
    "                            unpacked_provisional_designations = name, \n",
    "                            times_TDB = times, \n",
    "                            statearray = states).MSCs[0]"
   ]
  },
  {
   "cell_type": "code",
   "execution_count": 342,
   "metadata": {},
   "outputs": [],
   "source": [
    "# Make some obs positions \n",
    "nSample = int(1e6) \n",
    "evaluation_times = np.sort(2440000. + 999.*np.random.rand(nSample) )\n",
    "r = 1.0 \n",
    "XYZobservatory_equatorial = np.array( [r*np.cos(evaluation_times), \n",
    "                                        r*np.sin(evaluation_times) , \n",
    "                                        0.0001*r*np.cos(evaluation_times)])\n"
   ]
  },
  {
   "cell_type": "code",
   "execution_count": 345,
   "metadata": {},
   "outputs": [
    {
     "name": "stdout",
     "output_type": "stream",
     "text": [
      "(2, 1000000)\n",
      "CPU times: user 804 ms, sys: 202 ms, total: 1.01 s\n",
      "Wall time: 1 s\n"
     ]
    }
   ],
   "source": [
    "%%time \n",
    "importlib.reload(orbit_cheby)\n",
    "# Now evaluate the HP vectors  \n",
    "# - With these kinds of input, all I am really doing is ascertaining that the functions work in the sense of producing numbers\n",
    "# - There is no real understanding of whether the numbers are accurate / correct \n",
    "RaDec = M.generate_RaDec( evaluation_times , \n",
    "                observatoryXYZ=XYZobservatory_equatorial, \n",
    "                APPROX = True )\n",
    "print(RaDec.shape)\n"
   ]
  },
  {
   "cell_type": "markdown",
   "metadata": {},
   "source": [
    "# Uncertanties and Covariances "
   ]
  },
  {
   "cell_type": "markdown",
   "metadata": {},
   "source": [
    " ## (1) We'll need the gradient of the XYZ as a function of time ... probably ..."
   ]
  },
  {
   "cell_type": "code",
   "execution_count": 293,
   "metadata": {},
   "outputs": [
    {
     "name": "stdout",
     "output_type": "stream",
     "text": [
      "INIT MSC_Loader...\n",
      "CPU times: user 483 ms, sys: 6.33 ms, total: 489 ms\n",
      "Wall time: 491 ms\n"
     ]
    }
   ],
   "source": [
    "%%time \n",
    "importlib.reload(orbit_cheby)\n",
    "\n",
    "# Create a sample of observatory-positions as inputs \n",
    "# - Note that the NBody code uses BARYCENTRIC EQUATORIAL coords\n",
    "# - So the Cheby's need to work-in/evaluate-to equatorial coords\n",
    "# - Hence the observatory-positions will need to be in equatorial coords\n",
    "nSample = int(1e0) \n",
    "evaluation_times = np.sort(2440000. + 999.*np.random.rand(nSample) )\n",
    "r = 1.0 \n",
    "XYZobservatory_equatorial = np.array( [r*np.cos(evaluation_times), \n",
    "                                        r*np.sin(evaluation_times) , \n",
    "                                        0.0001*r*np.cos(evaluation_times)])\n",
    "\n",
    "\n",
    "# Repeat the above to generate an MSC populated from above array ... \n",
    "M = orbit_cheby.MSC_Loader(FROM_ARRAY = True , \n",
    "                            unpacked_provisional_designations = name, \n",
    "                            times_TDB = times, \n",
    "                            statearray = states).MSCs[0]"
   ]
  },
  {
   "cell_type": "code",
   "execution_count": 294,
   "metadata": {},
   "outputs": [
    {
     "name": "stdout",
     "output_type": "stream",
     "text": [
      "[[-1.080648  ]\n",
      " [-2.49989095]\n",
      " [ 0.        ]]\n",
      "CPU times: user 584 µs, sys: 171 µs, total: 755 µs\n",
      "Wall time: 630 µs\n"
     ]
    }
   ],
   "source": [
    "%%time \n",
    "# ******************   Low-level call to get XYZ ******************\n",
    "XYZs = M.generate_XYZ( evaluation_times )\n",
    "\n",
    "# N.B. final shape = (3,len(times_TDB))\n",
    "#print('Final XYZs.shape = ', XYZs.shape)\n",
    "if np.all(np.array(XYZs.shape) < 20) : \n",
    "    print(XYZs)\n",
    "    "
   ]
  },
  {
   "cell_type": "code",
   "execution_count": 295,
   "metadata": {},
   "outputs": [
    {
     "name": "stdout",
     "output_type": "stream",
     "text": [
      "CPU times: user 452 µs, sys: 94 µs, total: 546 µs\n",
      "Wall time: 490 µs\n"
     ]
    },
    {
     "data": {
      "text/plain": [
       "array([[ 0.00956823],\n",
       "       [-0.00413614],\n",
       "       [ 0.        ]])"
      ]
     },
     "execution_count": 295,
     "metadata": {},
     "output_type": "execute_result"
    }
   ],
   "source": [
    "%%time \n",
    "# Evaluate the **** GRADIENT ****\n",
    "M.generate_gradientXYZ(evaluation_times)"
   ]
  },
  {
   "cell_type": "code",
   "execution_count": 296,
   "metadata": {},
   "outputs": [
    {
     "name": "stdout",
     "output_type": "stream",
     "text": [
      "CPU times: user 491 µs, sys: 104 µs, total: 595 µs\n",
      "Wall time: 528 µs\n"
     ]
    },
    {
     "data": {
      "text/plain": [
       "array([[ 0.00956823],\n",
       "       [-0.00413614],\n",
       "       [ 0.        ]])"
      ]
     },
     "execution_count": 296,
     "metadata": {},
     "output_type": "execute_result"
    }
   ],
   "source": [
    "%%time \n",
    "dt = 1e-5\n",
    "( M.generate_XYZ( evaluation_times + dt ) - M.generate_XYZ( evaluation_times - dt ) ) / (2*dt) "
   ]
  },
  {
   "cell_type": "markdown",
   "metadata": {},
   "source": [
    "## (2) Think about the variation in other parameters as XYZ are varied"
   ]
  },
  {
   "cell_type": "code",
   "execution_count": 297,
   "metadata": {},
   "outputs": [],
   "source": [
    "import numdifftools as nd\n",
    "importlib.reload(orbit_cheby)\n"
   ]
  },
  {
   "cell_type": "code",
   "execution_count": 361,
   "metadata": {},
   "outputs": [
    {
     "name": "stdout",
     "output_type": "stream",
     "text": [
      "INIT MSC_Loader...\n"
     ]
    },
    {
     "data": {
      "text/plain": [
       "array([[-9.99864775e-01, -9.49666459e-01, -9.61979436e-01,\n",
       "        -8.97920392e-01, -5.34269116e-01,  1.65357702e-01,\n",
       "         3.10927703e-01,  7.79855119e-01,  4.21583722e-01,\n",
       "         9.95837252e-01],\n",
       "       [-1.64448210e-02, -3.13262856e-01, -2.73121886e-01,\n",
       "        -4.40157891e-01, -8.45314445e-01, -9.86233659e-01,\n",
       "        -9.50433565e-01, -6.25960057e-01, -9.06789482e-01,\n",
       "        -9.11491494e-02],\n",
       "       [ 7.25256039e-06, -2.16286243e-05, -2.64778745e-05,\n",
       "        -2.67347528e-05, -2.69289329e-05,  1.14442972e-05,\n",
       "        -4.02437470e-05, -2.77185381e-05, -1.96935659e-05,\n",
       "        -7.27197276e-06]])"
      ]
     },
     "execution_count": 361,
     "metadata": {},
     "output_type": "execute_result"
    }
   ],
   "source": [
    "importlib.reload(orbit_cheby)\n",
    "# Create a sample of observatory-positions as inputs \n",
    "# - Note that the NBody code uses BARYCENTRIC EQUATORIAL coords\n",
    "# - So the Cheby's need to work-in/evaluate-to equatorial coords\n",
    "# - Hence the observatory-positions will need to be in equatorial coords\n",
    "nSample = int(1e1) \n",
    "evaluation_times = np.sort(2440000. + 999.*np.random.rand(nSample) )\n",
    "r = 1.0 \n",
    "XYZobservatory_equatorial = np.array( [r*np.cos(evaluation_times), \n",
    "                                        r*np.sin(evaluation_times) , \n",
    "                                        0.0001*r*np.cos(evaluation_times)])\n",
    "\n",
    "\n",
    "# Repeat the above to generate an MSC populated from above array ... \n",
    "M = orbit_cheby.MSC_Loader(FROM_ARRAY = True , \n",
    "                            unpacked_provisional_designations = name, \n",
    "                            times_TDB = times, \n",
    "                            statearray = states).MSCs[0]\n",
    "\n",
    "UVs = M.generate_UnitVector(  evaluation_times , \n",
    "                            XYZobservatory_equatorial, \n",
    "                            APPROX = True)\n",
    "\n",
    "# N.B. final shape = (3,len(times_TDB))\n",
    "UVs "
   ]
  },
  {
   "cell_type": "markdown",
   "metadata": {},
   "source": [
    "### Variation in UV as a func of variation in XYZ\n",
    "\n",
    "$ \\frac{d(UVx,UVy,UVz)({(X,Y,Z)},t)}{d{(X,Y,Z)}} $\n",
    "\n",
    "***THE FOLLOWING IS CLEARER WHEN LOOKING AT THE RADEC ONE BELOW ***\n",
    "N.B. each element is 3x3\n",
    "So visually we have \n",
    "\n",
    "dUVx/dX , dUVy/dX, , dUVz/dX\n",
    "\n",
    "dUVx/dY , dUVy/dY, , dUVz/dY\n",
    "\n",
    "dUVx/dZ , dUVy/dZ, , dUVz/dZ\n"
   ]
  },
  {
   "cell_type": "code",
   "execution_count": 368,
   "metadata": {},
   "outputs": [
    {
     "name": "stdout",
     "output_type": "stream",
     "text": [
      "(10, 3, 3)\n",
      "CPU times: user 7.49 ms, sys: 1.75 ms, total: 9.25 ms\n",
      "Wall time: 7.74 ms\n"
     ]
    }
   ],
   "source": [
    "%%time\n",
    "\n",
    "result = M.dUVdXYZ(evaluation_times, XYZobservatory_equatorial)\n",
    "print(result.shape) \n",
    " \n"
   ]
  },
  {
   "cell_type": "markdown",
   "metadata": {},
   "source": [
    "### Variation in RA,Dec as a func of variation in XYZ\n",
    "\n",
    "$ \\frac{d(RA,DEC)({(X,Y,Z)},t)}{d{(X,Y,Z)}} $\n",
    "\n",
    "N.B. each element is 3x2\n",
    "So visually we have \n",
    "\n",
    "dRA/dX , dDEC/dX\n",
    "\n",
    "dRA/dY , dDEC/dY\n",
    "\n",
    "dRA/dZ , dDEC/dZ\n"
   ]
  },
  {
   "cell_type": "code",
   "execution_count": 372,
   "metadata": {},
   "outputs": [
    {
     "name": "stdout",
     "output_type": "stream",
     "text": [
      "(10, 3, 2)\n",
      "CPU times: user 11.2 ms, sys: 1.66 ms, total: 12.9 ms\n",
      "Wall time: 11.4 ms\n"
     ]
    }
   ],
   "source": [
    "%%time\n",
    "\n",
    "dRD = M.dRaDecdXYZ(evaluation_times, XYZobservatory_equatorial)\n",
    "print(dRD.shape) \n",
    " \n"
   ]
  },
  {
   "cell_type": "markdown",
   "metadata": {},
   "source": [
    "### CoV Matrix for RA,Dec\n",
    "- https://iopscience.iop.org/article/10.1086/316868/pdf\n",
    "\n",
    "$\\Sigma_{\\bf\\theta} = \\left[\\frac{d\\theta({\\bf\\alpha},t)}{d{\\bf\\alpha}}\\right]^T  \\Sigma_{\\bf\\alpha}  \\left[\\frac{d\\theta({\\bf\\alpha},t)}{d{\\bf\\alpha}}\\right]$ \n",
    "\n",
    "$\\Sigma_{(R,D)} = \\left[\\frac{d(R,D)({(X,Y,Z)},t)}{d{(X,Y,Z)}}\\right]^T  \\Sigma_{(X,Y,Z)}  \\left[\\frac{d(R,D)({(X,Y,Z)},t)}{d{(X,Y,Z)}}\\right]$ \n"
   ]
  },
  {
   "cell_type": "code",
   "execution_count": 373,
   "metadata": {},
   "outputs": [
    {
     "name": "stdout",
     "output_type": "stream",
     "text": [
      "[[1.  0.1 0.1]\n",
      " [0.1 1.  0.1]\n",
      " [0.1 0.1 1. ]]\n"
     ]
    },
    {
     "data": {
      "text/plain": [
       "array([[1. , 0.1, 0.1],\n",
       "       [0.1, 1. , 0.1],\n",
       "       [0.1, 0.1, 1. ]])"
      ]
     },
     "execution_count": 373,
     "metadata": {},
     "output_type": "execute_result"
    }
   ],
   "source": [
    "od = 0.1 \n",
    "FakeCoVXYZ = np.array( [[1, od, od], [od,1,od], [od, od, 1]] ) ; print(FakeCoVXYZ)\n",
    "FakeCoVXYZ\n",
    "\n"
   ]
  },
  {
   "cell_type": "code",
   "execution_count": 379,
   "metadata": {},
   "outputs": [
    {
     "data": {
      "text/plain": [
       "array([[ 3.95631432e-01, -2.40548644e+01,  0.00000000e+00],\n",
       "       [ 1.74459357e-04,  2.86934091e-06,  1.20290588e+01]])"
      ]
     },
     "execution_count": 379,
     "metadata": {},
     "output_type": "execute_result"
    }
   ],
   "source": [
    "dRD[0].T"
   ]
  },
  {
   "cell_type": "code",
   "execution_count": 380,
   "metadata": {},
   "outputs": [
    {
     "data": {
      "text/plain": [
       "array([[576.889654  , -28.4602501 ],\n",
       "       [-28.4602501 , 144.69868318]])"
      ]
     },
     "execution_count": 380,
     "metadata": {},
     "output_type": "execute_result"
    }
   ],
   "source": [
    "np.linalg.multi_dot([dRD[0].T , FakeCoVXYZ, dRD[0]])"
   ]
  },
  {
   "cell_type": "code",
   "execution_count": null,
   "metadata": {},
   "outputs": [],
   "source": []
  }
 ],
 "metadata": {
  "kernelspec": {
   "display_name": "Python 3",
   "language": "python",
   "name": "python3"
  },
  "language_info": {
   "codemirror_mode": {
    "name": "ipython",
    "version": 3
   },
   "file_extension": ".py",
   "mimetype": "text/x-python",
   "name": "python",
   "nbconvert_exporter": "python",
   "pygments_lexer": "ipython3",
   "version": "3.7.6"
  }
 },
 "nbformat": 4,
 "nbformat_minor": 2
}
