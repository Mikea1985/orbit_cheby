{
 "cells": [
  {
   "cell_type": "markdown",
   "metadata": {},
   "source": [
    "# Demonstrations of Orbit_Cheby Functionality\n",
    "\n",
    " - This notebook contains a mixture of demos of finished code, as well as WIP experimentation with ways to speed-up the code "
   ]
  },
  {
   "cell_type": "code",
   "execution_count": 1,
   "metadata": {},
   "outputs": [
    {
     "data": {
      "text/plain": [
       "<module 'orbit_cheby.nbody_reader' from '/Users/matthewjohnpayne/opt/anaconda3/lib/python3.7/site-packages/orbit_cheby/nbody_reader.py'>"
      ]
     },
     "execution_count": 1,
     "metadata": {},
     "output_type": "execute_result"
    }
   ],
   "source": [
    "import time\n",
    "import numpy as np\n",
    "import scipy.stats as stats\n",
    "import math\n",
    "import random\n",
    "from collections import defaultdict\n",
    "import os\n",
    "import sys\n",
    "from collections import Counter\n",
    "import glob \n",
    "import warnings\n",
    "import warnings\n",
    "warnings.filterwarnings('ignore')\n",
    "import matplotlib.pyplot as plt\n",
    "import importlib\n",
    "from astropy.time import Time\n",
    "\n",
    "# -------------------------------------------------------------------------------------\n",
    "# Local imports\n",
    "# -------------------------------------------------------------------------------------\n",
    "\n",
    "# orbit_cheby & nbody_reader imports \n",
    "#sys.path.append( \"/Users/matthewjohnpayne/Envs/orbit_cheby/orbit_cheby/\" )\n",
    "from orbit_cheby import orbit_cheby\n",
    "from orbit_cheby import nbody_reader\n",
    "importlib.reload(orbit_cheby)\n",
    "importlib.reload(nbody_reader)\n"
   ]
  },
  {
   "cell_type": "code",
   "execution_count": 85,
   "metadata": {},
   "outputs": [],
   "source": [
    "HEAD_DIR = os.path.dirname(os.path.realpath('.'))\n",
    "DATA_DIR = os.path.join(HEAD_DIR, 'dev_data')\n",
    "payne_file = os.path.join(DATA_DIR, '2022AA_demo.txt')\n",
    "mike_file = os.path.join(DATA_DIR, 'simulation_states.dat')"
   ]
  },
  {
   "cell_type": "markdown",
   "metadata": {},
   "source": [
    "## Demonstrate some aspects of the main orbit_cheby routines \n",
    " - Here I am assuming that the \"nbody_reader\" routine (described in \"Demonstrate_NBody_Reader_Functionality.ipynb\") is available to read input data, and that we can now use the main, higher-level \"orbit_cheby\" routines to operate on that input nbody data, and use it to generate sets of chebyshev coefficients\n",
    " - The chebyshev coefficients are fit to \"sectors\" of data (e.g. 32-day chunks) and saved into suitable data structures \n",
    " - I experiment with dictionaries, but find that numpy arrays are better/faster (surprise surprise)"
   ]
  },
  {
   "cell_type": "markdown",
   "metadata": {},
   "source": [
    "##### Declare an MSC (multi sector cheby) class object"
   ]
  },
  {
   "cell_type": "code",
   "execution_count": 2,
   "metadata": {},
   "outputs": [
    {
     "name": "stdout",
     "output_type": "stream",
     "text": [
      "<class 'orbit_cheby.orbit_cheby.MSC'>\n",
      "HP_npix\n",
      "HP_nside\n",
      "HP_order\n",
      "HPix\n",
      "JDlist\n",
      "__class__\n",
      "__delattr__\n",
      "__dict__\n",
      "__dir__\n",
      "__doc__\n",
      "__eq__\n",
      "__format__\n",
      "__ge__\n",
      "__getattribute__\n",
      "__gt__\n",
      "__hash__\n",
      "__init__\n",
      "__init_subclass__\n",
      "__le__\n",
      "__lt__\n",
      "__module__\n",
      "__ne__\n",
      "__new__\n",
      "__reduce__\n",
      "__reduce_ex__\n",
      "__repr__\n",
      "__setattr__\n",
      "__sizeof__\n",
      "__str__\n",
      "__subclasshook__\n",
      "__weakref__\n",
      "_fetch_data_directory\n",
      "covRaDec\n",
      "covUV\n",
      "covXYZ\n",
      "dRaDecdXYZ\n",
      "dUVdXYZ\n",
      "dXYZdt\n",
      "db_dir\n",
      "db_filename\n",
      "evaluate_components\n",
      "from_coord_arrays\n",
      "generate_HP\n",
      "generate_RaDec\n",
      "generate_UnitVector\n",
      "generate_XYZ\n",
      "generate_cheb_for_sector\n",
      "get_required_sector_dict\n",
      "get_valid_range_of_dates\n",
      "map_JD_to_sector_number\n",
      "map_JD_to_sector_number_and_sector_start_JD\n",
      "map_sector_number_to_sector_start_JD\n",
      "maxerr\n",
      "maxorder\n",
      "minorder\n",
      "primary_unpacked_provisional_designation\n",
      "secsPerDay\n",
      "sector_coeffs\n",
      "sector_length_days\n",
      "standard_MJDmax\n",
      "standard_MJDmin\n"
     ]
    }
   ],
   "source": [
    "importlib.reload(orbit_cheby)\n",
    "M = orbit_cheby.MSC()\n",
    "\n",
    "print(type(M) )\n",
    "for item in dir(M) : print(item)\n",
    "del M "
   ]
  },
  {
   "cell_type": "markdown",
   "metadata": {},
   "source": [
    "##### Declare an MSC_Loader class object"
   ]
  },
  {
   "cell_type": "code",
   "execution_count": 3,
   "metadata": {},
   "outputs": [
    {
     "name": "stdout",
     "output_type": "stream",
     "text": [
      "INIT MSC_Loader...\n",
      "Defaulting to the production of a list of empty MSCs\n",
      "<class 'orbit_cheby.orbit_cheby.MSC_Loader'>\n",
      "FORCE_DATES\n",
      "FROM_ARRAY\n",
      "FROM_DATABASE\n",
      "FROM_FILE\n",
      "HP_npix\n",
      "HP_nside\n",
      "HP_order\n",
      "HPix\n",
      "JDlist\n",
      "MSCs\n",
      "TDB_final\n",
      "TDB_init\n",
      "__class__\n",
      "__delattr__\n",
      "__dict__\n",
      "__dir__\n",
      "__doc__\n",
      "__eq__\n",
      "__format__\n",
      "__ge__\n",
      "__getattribute__\n",
      "__gt__\n",
      "__hash__\n",
      "__init__\n",
      "__init_subclass__\n",
      "__le__\n",
      "__lt__\n",
      "__module__\n",
      "__ne__\n",
      "__new__\n",
      "__reduce__\n",
      "__reduce_ex__\n",
      "__repr__\n",
      "__setattr__\n",
      "__sizeof__\n",
      "__str__\n",
      "__subclasshook__\n",
      "__weakref__\n",
      "_fetch_data_directory\n",
      "_generate_empty\n",
      "_populate_from_database\n",
      "_populate_from_nbody_array\n",
      "_populate_from_nbody_text\n",
      "db_dir\n",
      "db_filename\n",
      "filepath\n",
      "get_required_sector_dict\n",
      "map_JD_to_sector_number\n",
      "map_JD_to_sector_number_and_sector_start_JD\n",
      "map_sector_number_to_sector_start_JD\n",
      "primary_unpacked_provisional_designations\n",
      "secsPerDay\n",
      "sector_length_days\n",
      "standard_MJDmax\n",
      "standard_MJDmin\n",
      "statearray\n",
      "times_TDB\n"
     ]
    }
   ],
   "source": [
    "importlib.reload(orbit_cheby)\n",
    "M = orbit_cheby.MSC_Loader()\n",
    "\n",
    "print(type(M) )\n",
    "for item in dir(M) : print(item)\n",
    "del M "
   ]
  },
  {
   "cell_type": "markdown",
   "metadata": {},
   "source": [
    "#### Read data directly from array \n",
    " - In practice, we will (hopefully) have the data in a numpy-array anyway, direct from the nbody sim\n",
    " - So here we prepopulate some arrays with data\n",
    " - This is *not* doing anything associated with chebyshev polynomials at this point, simply reading data into arrays"
   ]
  },
  {
   "cell_type": "code",
   "execution_count": 109,
   "metadata": {},
   "outputs": [
    {
     "name": "stdout",
     "output_type": "stream",
     "text": [
      "<class 'str'> <class 'numpy.ndarray'> <class 'numpy.ndarray'>\n",
      "(20000,) (20000, 27)\n",
      "CPU times: user 671 ms, sys: 20.9 ms, total: 692 ms\n",
      "Wall time: 692 ms\n"
     ]
    }
   ],
   "source": [
    "%%time \n",
    "\n",
    "# Pre-populate numpy array ...\n",
    "name, times, states  = nbody_reader.parse_nbody_txt( payne_file )\n",
    "print(type(name),type(times),type(states))\n",
    "print(times.shape, states.shape)"
   ]
  },
  {
   "cell_type": "markdown",
   "metadata": {},
   "source": [
    "####  Let's just plot some of the data from the arrays to show what it looks like ... "
   ]
  },
  {
   "cell_type": "code",
   "execution_count": 110,
   "metadata": {},
   "outputs": [
    {
     "name": "stdout",
     "output_type": "stream",
     "text": [
      "Data shape: (20000, 27)\n",
      "time shape: (20000,)\n",
      "Average timestep: 1.0 days\n"
     ]
    },
    {
     "data": {
      "image/png": "[encoded data removed]",
      "text/plain": [
       "<Figure size 432x288 with 3 Axes>"
      ]
     },
     "metadata": {
      "needs_background": "light"
     },
     "output_type": "display_data"
    }
   ],
   "source": [
    "print(f\"Data shape: {np.shape(states)}\\n\"\n",
    "      f\"time shape: {np.shape(times)}\\n\"\n",
    "      f\"Average timestep: {np.mean(times[1:]-times[:-1])} days\")\n",
    "fig, ax = plt.subplots(2, 2, sharex='col', sharey='row')\n",
    "ax[0, 0].plot(states[:, 0], states[:, 1])\n",
    "ax[0, 0].set_ylabel('y')\n",
    "ax[1, 0].plot(states[:, 0], states[:, 2])\n",
    "ax[1, 0].set_ylabel('z')\n",
    "ax[1, 0].set_xlabel('x')\n",
    "ax[1, 1].plot(states[:, 1], states[:, 2])\n",
    "ax[1, 1].set_ylabel('z')\n",
    "ax[1, 1].set_xlabel('y')\n",
    "fig.delaxes(ax[0, 1])\n",
    "#ax[0, 0].set_aspect('equal')\n",
    "#ax[1, 0].set_aspect('equal')\n",
    "#ax[1, 1].set_aspect('equal')"
   ]
  },
  {
   "cell_type": "markdown",
   "metadata": {},
   "source": [
    "## Now let's use the data arrays to initialize an \"MSC\" (multi-sector-cheby) using the MSC_Loader class"
   ]
  },
  {
   "cell_type": "code",
   "execution_count": 111,
   "metadata": {},
   "outputs": [
    {
     "name": "stdout",
     "output_type": "stream",
     "text": [
      "INIT MSC_Loader...\n",
      "Returned variable is of type <class 'list'> , and length 1  \n",
      "Entry in list is of type <class 'orbit_cheby.orbit_cheby.MSC'>\n",
      "Number of sectors =  624\n",
      "Min, Max Sector #s :  0 623\n",
      "Shape of sector[mn] =  (18, 27)\n",
      "Shape of sector[mx] =  (18, 27)\n",
      "Range of validity :  (2440000, 2459967.999999)\n",
      "primary_unpacked_provisional_designation :  2022 AA\n",
      "CPU times: user 446 ms, sys: 5.92 ms, total: 452 ms\n",
      "Wall time: 461 ms\n"
     ]
    }
   ],
   "source": [
    "%%time \n",
    "importlib.reload(orbit_cheby)\n",
    "\n",
    "# Use MSC_Loader to initialize & return MSC\n",
    "# N.B.(1) : Loads directly from array \n",
    "# N.B.(2) : Creates a list (of length 1 in this case of MSC objects\n",
    "# N.B.(3) : Use \".MSCs\" to access the list of .MSCs\n",
    "# N.B.(4) : Plural !! : unpacked_provisional_designations \n",
    "MSCs = orbit_cheby.MSC_Loader(FROM_ARRAY = True , \n",
    "                            primary_unpacked_provisional_designations = name, \n",
    "                            times_TDB = times, \n",
    "                            statearray = states).MSCs\n",
    "print( 'Returned variable is of type %r , and length %r  ' % (type(MSCs),len(MSCs) ) )\n",
    "M = MSCs[0]\n",
    "print( 'Entry in list is of type', type(M) )\n",
    "print ( 'Number of sectors = ' , len(M.sector_coeffs) )\n",
    "\n",
    "mn,mx = min(list(M.sector_coeffs.keys())),max(list(M.sector_coeffs.keys()))\n",
    "print ( 'Min, Max Sector #s : ', mn, mx) \n",
    "print ( 'Shape of sector[mn] = ' , M.sector_coeffs[mn].shape )\n",
    "print ( 'Shape of sector[mx] = ' , M.sector_coeffs[mx].shape )\n",
    "\n",
    "print ( 'Range of validity : ', M.get_valid_range_of_dates() ) \n",
    "print ( 'primary_unpacked_provisional_designation : ', M.primary_unpacked_provisional_designation ) \n",
    "\n"
   ]
  },
  {
   "cell_type": "code",
   "execution_count": 112,
   "metadata": {},
   "outputs": [
    {
     "name": "stdout",
     "output_type": "stream",
     "text": [
      "eval_times:  2440000.0 2459967.0 19968\n",
      "Final XYZs.shape =  (3, 19968)\n"
     ]
    },
    {
     "data": {
      "text/plain": [
       "[<matplotlib.lines.Line2D at 0x1a1a6248d0>]"
      ]
     },
     "execution_count": 112,
     "metadata": {},
     "output_type": "execute_result"
    },
    {
     "data": {
      "image/png": "[encoded data removed]",
      "text/plain": [
       "<Figure size 432x288 with 1 Axes>"
      ]
     },
     "metadata": {
      "needs_background": "light"
     },
     "output_type": "display_data"
    }
   ],
   "source": [
    "# ******************   Low-level call to get XYZ ******************\n",
    "\n",
    "# artificially creating an array of evaluation times that will be within the validrange\n",
    "evaluation_times = np.arange(*M.get_valid_range_of_dates())\n",
    "print('eval_times: ', evaluation_times[0], evaluation_times[-1], len(evaluation_times) )\n",
    "XYZs = M.generate_XYZ( evaluation_times )\n",
    "\n",
    "# N.B. final shape = (3,len(times_TDB))\n",
    "print('Final XYZs.shape = ', XYZs.shape)\n",
    "\n",
    "# Plot x == XYZs[0] against time ... \n",
    "every=1000\n",
    "plt.plot( evaluation_times , XYZs[0] , '.' )"
   ]
  },
  {
   "cell_type": "markdown",
   "metadata": {},
   "source": [
    "# More realistic data \n",
    " - Now we will start again, and load-up from data from Mike Alexandersen's nbody run ..."
   ]
  },
  {
   "cell_type": "code",
   "execution_count": 113,
   "metadata": {},
   "outputs": [
    {
     "name": "stdout",
     "output_type": "stream",
     "text": [
      "<class 'str'> <class 'numpy.ndarray'> <class 'numpy.ndarray'>\n",
      "(1760,) (1760, 6)\n",
      "CPU times: user 21.1 ms, sys: 2.17 ms, total: 23.3 ms\n",
      "Wall time: 21.6 ms\n"
     ]
    }
   ],
   "source": [
    "%%time \n",
    "\n",
    "# Pre-populate numpy array ...\n",
    "name, times, states  = nbody_reader.parse_nbody_txt( mike_file )\n",
    "print(type(name),type(times),type(states))\n",
    "print(times.shape, states.shape)"
   ]
  },
  {
   "cell_type": "markdown",
   "metadata": {},
   "source": [
    " - Again, plot the XYZ coords before doing anything with cheby's ..."
   ]
  },
  {
   "cell_type": "code",
   "execution_count": 114,
   "metadata": {},
   "outputs": [
    {
     "name": "stdout",
     "output_type": "stream",
     "text": [
      "Data shape: (1760, 6)\n",
      "time shape: (1760,)\n",
      "Average timestep: 0.3421301104222605 days\n"
     ]
    },
    {
     "data": {
      "image/png": "[encoded data removed]",
      "text/plain": [
       "<Figure size 432x288 with 3 Axes>"
      ]
     },
     "metadata": {
      "needs_background": "light"
     },
     "output_type": "display_data"
    }
   ],
   "source": [
    "print(f\"Data shape: {np.shape(states)}\\n\"\n",
    "      f\"time shape: {np.shape(times)}\\n\"\n",
    "      f\"Average timestep: {np.mean(times[1:]-times[:-1])} days\")\n",
    "fig, ax = plt.subplots(2, 2, sharex='col', sharey='row')\n",
    "ax[0, 0].plot(states[:, 0], states[:, 1])\n",
    "ax[0, 0].set_ylabel('y')\n",
    "ax[1, 0].plot(states[:, 0], states[:, 2])\n",
    "ax[1, 0].set_ylabel('z')\n",
    "ax[1, 0].set_xlabel('x')\n",
    "ax[1, 1].plot(states[:, 1], states[:, 2])\n",
    "ax[1, 1].set_ylabel('z')\n",
    "ax[1, 1].set_xlabel('y')\n",
    "fig.delaxes(ax[0, 1])\n",
    "#ax[0, 0].set_aspect('equal')\n",
    "#ax[1, 0].set_aspect('equal')\n",
    "#ax[1, 1].set_aspect('equal')"
   ]
  },
  {
   "cell_type": "markdown",
   "metadata": {},
   "source": [
    " - Now do the Multi-Sector-Cheby load "
   ]
  },
  {
   "cell_type": "code",
   "execution_count": 115,
   "metadata": {},
   "outputs": [
    {
     "name": "stdout",
     "output_type": "stream",
     "text": [
      "INIT MSC_Loader...\n",
      "Returned variable is of type <class 'list'> , and length 1  \n",
      "Entry in list is of type <class 'orbit_cheby.orbit_cheby.MSC'>\n",
      "Number of sectors =  18\n",
      "Min, Max Sector #s :  504 521\n",
      "Shape of sector[mn] =  (26, 6)\n",
      "Shape of sector[mx] =  (26, 6)\n",
      "Range of validity :  (2456128, 2456703.999999)\n",
      "primary_unpacked_provisional_designation :  nput vectors: [0.0 0.5 0.0 -0.024 0.0 0.0 \b]\n",
      "CPU times: user 247 ms, sys: 4.75 ms, total: 252 ms\n",
      "Wall time: 65.4 ms\n"
     ]
    }
   ],
   "source": [
    "%%time \n",
    "importlib.reload(orbit_cheby)\n",
    "\n",
    "# Use MSC_Loader to initialize & return MSC\n",
    "# N.B.(1) : Loads directly from array \n",
    "# N.B.(2) : Creates a list (of length 1 in this case of MSC objects\n",
    "# N.B.(3) : Use \".MSCs\" to access the list of .MSCs\n",
    "# N.B.(4) : Plural !! : unpacked_provisional_designations \n",
    "MSCs = orbit_cheby.MSC_Loader(FROM_ARRAY = True , \n",
    "                            primary_unpacked_provisional_designations = name, \n",
    "                            times_TDB = times, \n",
    "                            statearray = states).MSCs\n",
    "print( 'Returned variable is of type %r , and length %r  ' % (type(MSCs),len(MSCs) ) )\n",
    "M = MSCs[0]\n",
    "print( 'Entry in list is of type', type(M) )\n",
    "print ( 'Number of sectors = ' , len(M.sector_coeffs) )\n",
    "\n",
    "mn,mx = min(list(M.sector_coeffs.keys())),max(list(M.sector_coeffs.keys()))\n",
    "print ( 'Min, Max Sector #s : ', mn, mx) \n",
    "print ( 'Shape of sector[mn] = ' , M.sector_coeffs[mn].shape )\n",
    "print ( 'Shape of sector[mx] = ' , M.sector_coeffs[mx].shape )\n",
    "\n",
    "print ( 'Range of validity : ', M.get_valid_range_of_dates() ) \n",
    "print ( 'primary_unpacked_provisional_designation : ', M.primary_unpacked_provisional_designation ) \n",
    "\n"
   ]
  },
  {
   "cell_type": "code",
   "execution_count": 116,
   "metadata": {},
   "outputs": [
    {
     "name": "stdout",
     "output_type": "stream",
     "text": [
      "eval_times:  2456128.0 2456703.0 576\n",
      "Final XYZs.shape =  (3, 576)\n"
     ]
    },
    {
     "data": {
      "text/plain": [
       "[<matplotlib.lines.Line2D at 0x1a1a6479d0>]"
      ]
     },
     "execution_count": 116,
     "metadata": {},
     "output_type": "execute_result"
    },
    {
     "data": {
      "image/png": "[encoded data removed]",
      "text/plain": [
       "<Figure size 432x288 with 1 Axes>"
      ]
     },
     "metadata": {
      "needs_background": "light"
     },
     "output_type": "display_data"
    }
   ],
   "source": [
    "# ******************   Low-level call to get XYZ ******************\n",
    "\n",
    "# artificially creating an array of evaluation times that will be within the validrange\n",
    "evaluation_times = np.arange(*M.get_valid_range_of_dates())\n",
    "print('eval_times: ', evaluation_times[0], evaluation_times[-1], len(evaluation_times) )\n",
    "XYZs = M.generate_XYZ( evaluation_times )\n",
    "\n",
    "# N.B. final shape = (3,len(times_TDB))\n",
    "print('Final XYZs.shape = ', XYZs.shape)\n",
    "\n",
    "# Plot x == XYZs[0] against time ... \n",
    "every=1000\n",
    "plt.plot( evaluation_times , XYZs[0] , '.' )"
   ]
  },
  {
   "cell_type": "code",
   "execution_count": 117,
   "metadata": {},
   "outputs": [
    {
     "name": "stdout",
     "output_type": "stream",
     "text": [
      "Data shape: (3, 576)\n",
      "evaluation_times shape: (576,)\n",
      "\n"
     ]
    },
    {
     "data": {
      "image/png": "[encoded data removed]",
      "text/plain": [
       "<Figure size 432x288 with 3 Axes>"
      ]
     },
     "metadata": {
      "needs_background": "light"
     },
     "output_type": "display_data"
    }
   ],
   "source": [
    "print(f\"Data shape: {np.shape(XYZs)}\\n\"\n",
    "      f\"evaluation_times shape: {np.shape(evaluation_times)}\\n\")\n",
    "fig, ax = plt.subplots(2, 2, sharex='col', sharey='row')\n",
    "ax[0, 0].plot(XYZs[0], XYZs[1])\n",
    "ax[0, 0].set_ylabel('y')\n",
    "ax[1, 0].plot(XYZs[0], XYZs[2])\n",
    "ax[1, 0].set_ylabel('z')\n",
    "ax[1, 0].set_xlabel('x')\n",
    "ax[1, 1].plot(XYZs[1], XYZs[2])\n",
    "ax[1, 1].set_ylabel('z')\n",
    "ax[1, 1].set_xlabel('y')\n",
    "fig.delaxes(ax[0, 1])\n",
    "#ax[0, 0].set_aspect('equal')\n",
    "#ax[1, 0].set_aspect('equal')\n",
    "#ax[1, 1].set_aspect('equal')"
   ]
  },
  {
   "cell_type": "code",
   "execution_count": null,
   "metadata": {},
   "outputs": [],
   "source": []
  },
  {
   "cell_type": "markdown",
   "metadata": {},
   "source": [
    "#### Directly from array for **MULTIPLE PARTICLES**\n",
    " - Want 3D array \n",
    " - Will create this here by sticking together a few copies of the data for a single particle ...\n"
   ]
  },
  {
   "cell_type": "code",
   "execution_count": 118,
   "metadata": {},
   "outputs": [
    {
     "name": "stdout",
     "output_type": "stream",
     "text": [
      "CPU times: user 2.35 s, sys: 77.5 ms, total: 2.43 s\n",
      "Wall time: 2.43 s\n"
     ]
    },
    {
     "data": {
      "text/plain": [
       "(20000, 27, 4)"
      ]
     },
     "execution_count": 118,
     "metadata": {},
     "output_type": "execute_result"
    }
   ],
   "source": [
    "%%time \n",
    "importlib.reload(orbit_cheby)\n",
    "\n",
    "# Pre-populate numpy array ...\n",
    "# - Note that (i) we need to allow for MULTIPLE NAMES\n",
    "# - We are creating a 3D array of input coords\n",
    "arrays, names = [],[] \n",
    "for i in range(1,5):\n",
    "    name, times, states  = nbody_reader.parse_nbody_txt( text_filepath )\n",
    "    names.append(name+\"_\"+str(i))\n",
    "    arrays.append(states)\n",
    "states_3D = np.stack(arrays, axis=2)\n",
    "states_3D.shape\n"
   ]
  },
  {
   "cell_type": "code",
   "execution_count": 119,
   "metadata": {},
   "outputs": [
    {
     "name": "stdout",
     "output_type": "stream",
     "text": [
      "INIT MSC_Loader...\n",
      "Returned variable is of type <class 'list'> , and length 4  \n",
      "Entry [0] list is of type <class 'orbit_cheby.orbit_cheby.MSC'>\n",
      "Number of sectors =  624\n",
      "Shape of sector[0] =  (18, 27)\n",
      "CPU times: user 1.51 s, sys: 9.61 ms, total: 1.52 s\n",
      "Wall time: 1.52 s\n"
     ]
    }
   ],
   "source": [
    "%%time \n",
    "importlib.reload(orbit_cheby)\n",
    "\n",
    "# Use MSC_Loader to initialize & return MSC\n",
    "# N.B.(1) : Loads directly from array \n",
    "# N.B.(2) : Creates a list (of length 4 in this case of MSC objects\n",
    "# N.B.(3) : Use \".MSCs\" to access the list of .MSCs\n",
    "# N.B.(4) : Plural !! : unpacked_provisional_designations \n",
    "MSCs = orbit_cheby.MSC_Loader(FROM_ARRAY = True , \n",
    "                            primary_unpacked_provisional_designations = names, \n",
    "                            times_TDB = times, \n",
    "                            statearray = states_3D).MSCs\n",
    "print( 'Returned variable is of type %r , and length %r  ' % (type(MSCs),len(MSCs) ) )\n",
    "M = MSCs[0]\n",
    "print( 'Entry [0] list is of type', type(M) )\n",
    "print ( 'Number of sectors = ' , len(M.sector_coeffs) )\n",
    "print ( 'Shape of sector[0] = ' , M.sector_coeffs[0].shape )\n",
    "del M \n"
   ]
  },
  {
   "cell_type": "markdown",
   "metadata": {},
   "source": [
    "## Evaluate cheby's at some times ...\n",
    " - Evaluating the cheby's will be done to allow precise positional calculations, in both the sifter- and mpchecker-scenarios. \n",
    " - In the end this needs to be a rapid evaluation ..."
   ]
  },
  {
   "cell_type": "markdown",
   "metadata": {},
   "source": [
    "# XYZ positions \n",
    " - Here we are using a relatively low-level function (generate_XYZ) to find heliocentric XYZ positions using the stored data\n",
    " - It seems to be able to perform ~1e6 XYZ calculations per second (for a single object's chebyshev coeffs, where there are 27 sets of coefficients )\n",
    " - I assume that this will vary as the number of sectors changes "
   ]
  },
  {
   "cell_type": "markdown",
   "metadata": {},
   "source": [
    "#### XYZ positions : Single Particle \n"
   ]
  },
  {
   "cell_type": "code",
   "execution_count": 120,
   "metadata": {},
   "outputs": [
    {
     "name": "stdout",
     "output_type": "stream",
     "text": [
      "INIT MSC_Loader...\n"
     ]
    }
   ],
   "source": [
    "importlib.reload(orbit_cheby)\n",
    "\n",
    "# Repeat the above to generate an MSC populated from above array ... \n",
    "MSCs = orbit_cheby.MSC_Loader(FROM_ARRAY = True , \n",
    "                            primary_unpacked_provisional_designations = name, \n",
    "                            times_TDB = times, \n",
    "                            statearray = states).MSCs\n",
    "M = MSCs[0]\n"
   ]
  },
  {
   "cell_type": "code",
   "execution_count": 121,
   "metadata": {},
   "outputs": [
    {
     "name": "stdout",
     "output_type": "stream",
     "text": [
      "Final XYZs.shape =  (3, 1000000)\n",
      "CPU times: user 974 ms, sys: 254 ms, total: 1.23 s\n",
      "Wall time: 1.23 s\n"
     ]
    },
    {
     "data": {
      "text/plain": [
       "[<matplotlib.lines.Line2D at 0x1a1c19b250>]"
      ]
     },
     "execution_count": 121,
     "metadata": {},
     "output_type": "execute_result"
    },
    {
     "data": {
      "image/png": "[encoded data removed]",
      "text/plain": [
       "<Figure size 432x288 with 1 Axes>"
      ]
     },
     "metadata": {
      "needs_background": "light"
     },
     "output_type": "display_data"
    }
   ],
   "source": [
    "%%time \n",
    "importlib.reload(orbit_cheby)\n",
    "\n",
    "nSample = int(1e6) \n",
    "\n",
    "# Set up some evaluation times \n",
    "evaluation_times = np.sort(2440000. + 999.*np.random.rand(nSample) )\n",
    "\n",
    "# ******************   Low-level call to get XYZ ******************\n",
    "XYZs = M.generate_XYZ( evaluation_times )\n",
    "\n",
    "# N.B. final shape = (3,len(times_TDB))\n",
    "print('Final XYZs.shape = ', XYZs.shape)\n",
    "\n",
    "# Plot x == XYZs[0] against time ... \n",
    "every=1000\n",
    "plt.plot( evaluation_times[::every] , XYZs[0][::every] , '.' ) "
   ]
  },
  {
   "cell_type": "markdown",
   "metadata": {},
   "source": [
    "# Observational UnitVector Calculations\n",
    "\n",
    "###### SIFTER: This UV calc is used at the time of query to (a) get the approx HP (see below) and (b) to get refined positions for precise tracklet matching \n",
    "###### MPCHECKER: This UV calc is used at the time of query to get refined positions for any approx matches extracted from the precalculated data\n",
    "\n",
    " - These calculations require that the positions of the observatory are provided as inputs: I.e. I want to completely separate the obs-posn stuff from the cheby evaluation calculations\n",
    " - For the sake of these demonstrations, I am going to generate a set of standardized input observatory-positions (using a silly ~circular approximation) and then provide those as inputs. \n",
    "     "
   ]
  },
  {
   "cell_type": "code",
   "execution_count": 122,
   "metadata": {},
   "outputs": [
    {
     "name": "stdout",
     "output_type": "stream",
     "text": [
      "CPU times: user 322 ms, sys: 21.3 ms, total: 344 ms\n",
      "Wall time: 343 ms\n"
     ]
    },
    {
     "data": {
      "text/plain": [
       "(3, 1000000)"
      ]
     },
     "execution_count": 122,
     "metadata": {},
     "output_type": "execute_result"
    }
   ],
   "source": [
    "%%time \n",
    "importlib.reload(orbit_cheby)\n",
    "\n",
    "# Create a sample of observatory-positions as inputs \n",
    "# - Note that the NBody code uses BARYCENTRIC EQUATORIAL coords\n",
    "# - So the Cheby's need to work-in/evaluate-to equatorial coords\n",
    "# - Hence the observatory-positions will need to be in equatorial coords\n",
    "nSample = int(1e6) \n",
    "evaluation_times = np.sort(2440000. + 999.*np.random.rand(nSample) )\n",
    "r = 1.0 \n",
    "XYZobservatory_equatorial = np.array( [r*np.cos(evaluation_times), \n",
    "                                        r*np.sin(evaluation_times) , \n",
    "                                        0.0001*r*np.cos(evaluation_times)])\n",
    "XYZobservatory_equatorial.shape "
   ]
  },
  {
   "cell_type": "code",
   "execution_count": 123,
   "metadata": {},
   "outputs": [
    {
     "name": "stdout",
     "output_type": "stream",
     "text": [
      "INIT MSC_Loader...\n"
     ]
    }
   ],
   "source": [
    "importlib.reload(orbit_cheby)\n",
    "\n",
    "# Repeat the above to generate an MSC populated from above array ... \n",
    "M = orbit_cheby.MSC_Loader(FROM_ARRAY = True , \n",
    "                            primary_unpacked_provisional_designations = name, \n",
    "                            times_TDB = times, \n",
    "                            statearray = states).MSCs[0]"
   ]
  },
  {
   "cell_type": "markdown",
   "metadata": {},
   "source": [
    " - In this initial experiment *BELOW* I find that it takes: \n",
    "        ~1s to evaluate 1e6 unit vectors for a single object using an APPROX (non-iterated) approach\n",
    "        ~3s to evaluate 1e6 unit vectors for a single object using a NON-APPROX (iterated) approach \n",
    " "
   ]
  },
  {
   "cell_type": "code",
   "execution_count": 124,
   "metadata": {},
   "outputs": [
    {
     "name": "stdout",
     "output_type": "stream",
     "text": [
      "CPU times: user 871 ms, sys: 277 ms, total: 1.15 s\n",
      "Wall time: 1.15 s\n"
     ]
    },
    {
     "data": {
      "text/plain": [
       "(3, 1000000)"
      ]
     },
     "execution_count": 124,
     "metadata": {},
     "output_type": "execute_result"
    }
   ],
   "source": [
    "%%time \n",
    "\n",
    "# Now evaluate some unit vectors [[APPROXIMATE calculation]]\n",
    "# - With these kinds of input, all I am really doing is ascertaining that the functions work in the sense of producing numbers\n",
    "# - There is no real understanding of whether the numbers are accurate / correct \n",
    "UVs = M.generate_UnitVector(  evaluation_times , \n",
    "                            XYZobservatory_equatorial, \n",
    "                            APPROX = True)\n",
    "\n",
    "# N.B. final shape = (3,len(times_TDB))\n",
    "UVs.shape "
   ]
  },
  {
   "cell_type": "code",
   "execution_count": 125,
   "metadata": {},
   "outputs": [
    {
     "name": "stdout",
     "output_type": "stream",
     "text": [
      "(3, 1000000)\n",
      "CPU times: user 2.63 s, sys: 798 ms, total: 3.42 s\n",
      "Wall time: 3.44 s\n"
     ]
    }
   ],
   "source": [
    "%%time \n",
    "\n",
    "# Now evaluate some unit vectors [[EXACT Calculation]]\n",
    "# - With these kinds of input, all I am really doing is ascertaining that the functions work in the sense of producing numbers\n",
    "# - There is no real understanding of whether the numbers are accurate / correct \n",
    "UVs = M.generate_UnitVector( evaluation_times , \n",
    "                                    XYZobservatory_equatorial, \n",
    "                                    APPROX = False\n",
    "                                              )\n",
    "# N.B. final shape = (3,len(times_TDB))\n",
    "print(UVs.shape)\n"
   ]
  },
  {
   "cell_type": "markdown",
   "metadata": {},
   "source": [
    "### Observational HP Calculations\n",
    "###### SIFTER: This HP routine will be used intensively at the time a search is executed to find the APPROX HP location of an object over a series of many nights \n",
    "###### MPCHECKER: This HP routine will be used in the precalculation phase to find-and-store the HP location of an object across a series of nights \n",
    "\n",
    "\n",
    " - Because this is a wrapper around the unitvector call, the hp call again requires that the positions of the observatory are provided as inputs: I.e. I want to completely separate the obs-posn stuff from the cheby evaluation calculations\n",
    " - For the sake of these demonstrations, I am going to use the obs-posns generated above\n",
    " \n",
    "This brief experiment finds that the time to calcuate 1e6 healpix is essentially the same as the time to  generate the underlying 1e6 unitvectors"
   ]
  },
  {
   "cell_type": "code",
   "execution_count": 126,
   "metadata": {},
   "outputs": [
    {
     "name": "stdout",
     "output_type": "stream",
     "text": [
      "INIT MSC_Loader...\n"
     ]
    }
   ],
   "source": [
    "importlib.reload(orbit_cheby)\n",
    "\n",
    "# Repeat the above to generate an MSC populated from above array ... \n",
    "M = orbit_cheby.MSC_Loader(FROM_ARRAY = True , \n",
    "                            primary_unpacked_provisional_designations = name, \n",
    "                            times_TDB = times, \n",
    "                            statearray = states).MSCs[0]"
   ]
  },
  {
   "cell_type": "code",
   "execution_count": 127,
   "metadata": {},
   "outputs": [
    {
     "name": "stdout",
     "output_type": "stream",
     "text": [
      "CPU times: user 1.34 s, sys: 328 ms, total: 1.67 s\n",
      "Wall time: 1.67 s\n"
     ]
    },
    {
     "data": {
      "text/plain": [
       "((1000000,), (1000000,))"
      ]
     },
     "execution_count": 127,
     "metadata": {},
     "output_type": "execute_result"
    }
   ],
   "source": [
    "%%time \n",
    "importlib.reload(orbit_cheby)\n",
    "# Now evaluate the HP vectors  \n",
    "# - With these kinds of input, all I am really doing is ascertaining that the functions work in the sense of producing numbers\n",
    "# - There is no real understanding of whether the numbers are accurate / correct \n",
    "HPs= M.generate_HP( evaluation_times , \n",
    "                XYZobservatory_equatorial, \n",
    "                APPROX = True )\n",
    "# N.B. final shape = (3,len(times_TDB))\n",
    "HPs.shape , evaluation_times.shape\n"
   ]
  },
  {
   "cell_type": "markdown",
   "metadata": {},
   "source": [
    "# RA, Dec"
   ]
  },
  {
   "cell_type": "code",
   "execution_count": 128,
   "metadata": {},
   "outputs": [
    {
     "name": "stdout",
     "output_type": "stream",
     "text": [
      "INIT MSC_Loader...\n"
     ]
    }
   ],
   "source": [
    "importlib.reload(orbit_cheby)\n",
    "\n",
    "# Repeat the above to generate an MSC populated from above array ... \n",
    "M = orbit_cheby.MSC_Loader(FROM_ARRAY = True , \n",
    "                            primary_unpacked_provisional_designations = name, \n",
    "                            times_TDB = times, \n",
    "                            statearray = states).MSCs[0]"
   ]
  },
  {
   "cell_type": "code",
   "execution_count": 129,
   "metadata": {},
   "outputs": [],
   "source": [
    "# Make some obs positions \n",
    "nSample = int(1e6) \n",
    "evaluation_times = np.sort(2440000. + 999.*np.random.rand(nSample) )\n",
    "r = 1.0 \n",
    "XYZobservatory_equatorial = np.array( [r*np.cos(evaluation_times), \n",
    "                                        r*np.sin(evaluation_times) , \n",
    "                                        0.0001*r*np.cos(evaluation_times)])\n"
   ]
  },
  {
   "cell_type": "code",
   "execution_count": 130,
   "metadata": {},
   "outputs": [
    {
     "name": "stdout",
     "output_type": "stream",
     "text": [
      "(2, 1000000)\n",
      "CPU times: user 900 ms, sys: 271 ms, total: 1.17 s\n",
      "Wall time: 1.17 s\n"
     ]
    }
   ],
   "source": [
    "%%time \n",
    "importlib.reload(orbit_cheby)\n",
    "# Now evaluate the HP vectors  \n",
    "# - With these kinds of input, all I am really doing is ascertaining that the functions work in the sense of producing numbers\n",
    "# - There is no real understanding of whether the numbers are accurate / correct \n",
    "RaDec = M.generate_RaDec( evaluation_times , \n",
    "                observatoryXYZ=XYZobservatory_equatorial, \n",
    "                APPROX = True )\n",
    "print(RaDec.shape)\n"
   ]
  },
  {
   "cell_type": "markdown",
   "metadata": {},
   "source": [
    "# Uncertanties and Covariances "
   ]
  },
  {
   "cell_type": "markdown",
   "metadata": {},
   "source": [
    " ## (1) We might need the gradient of  XYZ as a function of time "
   ]
  },
  {
   "cell_type": "code",
   "execution_count": 131,
   "metadata": {},
   "outputs": [
    {
     "name": "stdout",
     "output_type": "stream",
     "text": [
      "INIT MSC_Loader...\n",
      "CPU times: user 417 ms, sys: 7.48 ms, total: 424 ms\n",
      "Wall time: 423 ms\n"
     ]
    }
   ],
   "source": [
    "%%time \n",
    "importlib.reload(orbit_cheby)\n",
    "\n",
    "# Create a sample of observatory-positions as inputs \n",
    "# - Note that the NBody code uses BARYCENTRIC EQUATORIAL coords\n",
    "# - So the Cheby's need to work-in/evaluate-to equatorial coords\n",
    "# - Hence the observatory-positions will need to be in equatorial coords\n",
    "nSample = int(1e0) \n",
    "evaluation_times = np.sort(2440000. + 999.*np.random.rand(nSample) )\n",
    "r = 1.0 \n",
    "XYZobservatory_equatorial = np.array( [r*np.cos(evaluation_times), \n",
    "                                        r*np.sin(evaluation_times) , \n",
    "                                        0.0001*r*np.cos(evaluation_times)])\n",
    "\n",
    "\n",
    "# Repeat the above to generate an MSC populated from above array ... \n",
    "M = orbit_cheby.MSC_Loader(FROM_ARRAY = True , \n",
    "                            primary_unpacked_provisional_designations = name, \n",
    "                            times_TDB = times, \n",
    "                            statearray = states).MSCs[0]"
   ]
  },
  {
   "cell_type": "code",
   "execution_count": 132,
   "metadata": {},
   "outputs": [
    {
     "name": "stdout",
     "output_type": "stream",
     "text": [
      "[[-1.8143096 ]\n",
      " [-2.03114144]\n",
      " [ 0.        ]]\n",
      "CPU times: user 458 µs, sys: 149 µs, total: 607 µs\n",
      "Wall time: 813 µs\n"
     ]
    }
   ],
   "source": [
    "%%time \n",
    "# ******************   Low-level call to get XYZ ******************\n",
    "XYZs = M.generate_XYZ( evaluation_times )\n",
    "\n",
    "# N.B. final shape = (3,len(times_TDB))\n",
    "#print('Final XYZs.shape = ', XYZs.shape)\n",
    "if np.all(np.array(XYZs.shape) < 20) : \n",
    "    print(XYZs)\n",
    "    "
   ]
  },
  {
   "cell_type": "code",
   "execution_count": 133,
   "metadata": {},
   "outputs": [
    {
     "name": "stdout",
     "output_type": "stream",
     "text": [
      "CPU times: user 310 µs, sys: 30 µs, total: 340 µs\n",
      "Wall time: 317 µs\n"
     ]
    },
    {
     "data": {
      "text/plain": [
       "array([[ 0.00777411],\n",
       "       [-0.0069442 ],\n",
       "       [ 0.        ]])"
      ]
     },
     "execution_count": 133,
     "metadata": {},
     "output_type": "execute_result"
    }
   ],
   "source": [
    "%%time \n",
    "# Evaluate the **** GRADIENT ****\n",
    "M.dXYZdt(evaluation_times)"
   ]
  },
  {
   "cell_type": "markdown",
   "metadata": {},
   "source": [
    "## (2) Think about the variation in other parameters as XYZ are varied"
   ]
  },
  {
   "cell_type": "code",
   "execution_count": 134,
   "metadata": {},
   "outputs": [
    {
     "data": {
      "text/plain": [
       "<module 'orbit_cheby.orbit_cheby' from '/Users/matthewjohnpayne/opt/anaconda3/lib/python3.7/site-packages/orbit_cheby/orbit_cheby.py'>"
      ]
     },
     "execution_count": 134,
     "metadata": {},
     "output_type": "execute_result"
    }
   ],
   "source": [
    "import numdifftools as nd\n",
    "importlib.reload(orbit_cheby)\n"
   ]
  },
  {
   "cell_type": "code",
   "execution_count": 135,
   "metadata": {},
   "outputs": [
    {
     "name": "stdout",
     "output_type": "stream",
     "text": [
      "INIT MSC_Loader...\n"
     ]
    },
    {
     "data": {
      "text/plain": [
       "array([[-5.47275445e-01, -9.96542252e-01, -9.68329181e-01,\n",
       "        -9.50243876e-01, -8.39715678e-01, -6.84809471e-01,\n",
       "         1.52561949e-01,  3.36972422e-01,  6.46213290e-01,\n",
       "         9.99255034e-01],\n",
       "       [ 8.36952558e-01, -8.30875484e-02, -2.49676986e-01,\n",
       "        -3.11506938e-01, -5.43026316e-01, -7.28722161e-01,\n",
       "        -9.88293909e-01, -9.41514517e-01, -7.63156853e-01,\n",
       "        -3.85924447e-02],\n",
       "       [ 4.93835667e-05, -4.77983850e-06, -5.24127369e-06,\n",
       "         5.58411056e-05,  1.14005314e-05, -2.54151197e-05,\n",
       "         3.60705942e-05, -4.16156982e-05, -3.42123372e-05,\n",
       "         2.60499218e-05]])"
      ]
     },
     "execution_count": 135,
     "metadata": {},
     "output_type": "execute_result"
    }
   ],
   "source": [
    "importlib.reload(orbit_cheby)\n",
    "# Create a sample of observatory-positions as inputs \n",
    "# - Note that the NBody code uses BARYCENTRIC EQUATORIAL coords\n",
    "# - So the Cheby's need to work-in/evaluate-to equatorial coords\n",
    "# - Hence the observatory-positions will need to be in equatorial coords\n",
    "nSample = int(1e1) \n",
    "evaluation_times = np.sort(2440000. + 999.*np.random.rand(nSample) )\n",
    "r = 1.0 \n",
    "XYZobservatory_equatorial = np.array( [r*np.cos(evaluation_times), \n",
    "                                        r*np.sin(evaluation_times) , \n",
    "                                        0.0001*r*np.cos(evaluation_times)])\n",
    "\n",
    "\n",
    "# Generate an MSC populated from above array ... \n",
    "M = orbit_cheby.MSC_Loader(FROM_ARRAY = True , \n",
    "                            primary_unpacked_provisional_designations = name, \n",
    "                            times_TDB = times, \n",
    "                            statearray = states).MSCs[0]\n",
    "\n",
    "UVs = M.generate_UnitVector(  evaluation_times , \n",
    "                            XYZobservatory_equatorial, \n",
    "                            APPROX = True)\n",
    "\n",
    "# N.B. final shape = (3,len(times_TDB))\n",
    "UVs "
   ]
  },
  {
   "cell_type": "markdown",
   "metadata": {},
   "source": [
    "### Variation in UV as a func of variation in XYZ\n",
    "\n",
    "$ \\frac{d(UVx,UVy,UVz)({(X,Y,Z)},t)}{d{(X,Y,Z)}} $\n",
    "\n",
    "***THE FOLLOWING IS CLEARER WHEN LOOKING AT THE RADEC ONE BELOW ***\n",
    "N.B. each element is 3x3\n",
    "So visually we have \n",
    "\n",
    "dUVx/dX , dUVy/dX, , dUVz/dX\n",
    "\n",
    "dUVx/dY , dUVy/dY, , dUVz/dY\n",
    "\n",
    "dUVx/dZ , dUVy/dZ, , dUVz/dZ\n"
   ]
  },
  {
   "cell_type": "code",
   "execution_count": 136,
   "metadata": {},
   "outputs": [
    {
     "name": "stdout",
     "output_type": "stream",
     "text": [
      "(10, 3, 3)\n",
      "CPU times: user 9.48 ms, sys: 3.01 ms, total: 12.5 ms\n",
      "Wall time: 9.67 ms\n"
     ]
    }
   ],
   "source": [
    "%%time\n",
    "\n",
    "result = M.dUVdXYZ(evaluation_times, XYZobservatory_equatorial)\n",
    "print(result.shape) \n",
    " \n"
   ]
  },
  {
   "cell_type": "markdown",
   "metadata": {},
   "source": [
    "### Variation in RA,Dec as a func of variation in XYZ\n",
    "\n",
    "$ \\frac{d(RA,DEC)({(X,Y,Z)},t)}{d{(X,Y,Z)}} $\n",
    "\n",
    "N.B. each element is 3x2\n",
    "So visually we have \n",
    "\n",
    "dRA/dX , dDEC/dX\n",
    "\n",
    "dRA/dY , dDEC/dY\n",
    "\n",
    "dRA/dZ , dDEC/dZ\n"
   ]
  },
  {
   "cell_type": "code",
   "execution_count": 90,
   "metadata": {},
   "outputs": [
    {
     "name": "stdout",
     "output_type": "stream",
     "text": [
      "(10, 3, 2)\n",
      "CPU times: user 12 ms, sys: 2.04 ms, total: 14 ms\n",
      "Wall time: 12.3 ms\n"
     ]
    }
   ],
   "source": [
    "%%time\n",
    "\n",
    "dRD = M.dRaDecdXYZ(evaluation_times, XYZobservatory_equatorial)\n",
    "print(dRD.shape) \n",
    " \n"
   ]
  },
  {
   "cell_type": "markdown",
   "metadata": {},
   "source": [
    "### CoV Matrix for XYZ\n",
    " - Get this direct from the coefficient evaluation"
   ]
  },
  {
   "cell_type": "code",
   "execution_count": 91,
   "metadata": {},
   "outputs": [
    {
     "data": {
      "text/plain": [
       "((10, 3, 3),\n",
       " array([[[ 0.00000000e+00, -2.67253843e-09, -5.34507687e-09],\n",
       "         [-2.67253843e-09, -1.60352306e-08, -1.87077690e-08],\n",
       "         [-5.34507687e-09, -1.87077690e-08, -2.93979228e-08]],\n",
       " \n",
       "        [[ 0.00000000e+00, -2.54790794e-09, -5.09581587e-09],\n",
       "         [-2.54790794e-09, -1.52874476e-08, -1.78353556e-08],\n",
       "         [-5.09581587e-09, -1.78353556e-08, -2.80269873e-08]],\n",
       " \n",
       "        [[ 0.00000000e+00, -2.10064542e-09, -4.20129083e-09],\n",
       "         [-2.10064542e-09, -1.26038725e-08, -1.47045179e-08],\n",
       "         [-4.20129083e-09, -1.47045179e-08, -2.31070996e-08]],\n",
       " \n",
       "        [[ 0.00000000e+00, -1.52113367e-09, -3.04226734e-09],\n",
       "         [-1.52113367e-09, -9.12680202e-09, -1.06479357e-08],\n",
       "         [-3.04226734e-09, -1.06479357e-08, -1.67324704e-08]],\n",
       " \n",
       "        [[ 0.00000000e+00,  1.37316995e-09,  2.74633990e-09],\n",
       "         [ 1.37316995e-09,  8.23901970e-09,  9.61218965e-09],\n",
       "         [ 2.74633990e-09,  9.61218965e-09,  1.51048694e-08]],\n",
       " \n",
       "        [[ 0.00000000e+00,  2.31558894e-09,  4.63117788e-09],\n",
       "         [ 2.31558894e-09,  1.38935336e-08,  1.62091226e-08],\n",
       "         [ 4.63117788e-09,  1.62091226e-08,  2.54714783e-08]],\n",
       " \n",
       "        [[ 0.00000000e+00,  2.47787498e-09,  4.95574997e-09],\n",
       "         [ 2.47787498e-09,  1.48672499e-08,  1.73451249e-08],\n",
       "         [ 4.95574997e-09,  1.73451249e-08,  2.72566248e-08]],\n",
       " \n",
       "        [[ 0.00000000e+00,  2.55374734e-09,  5.10749469e-09],\n",
       "         [ 2.55374734e-09,  1.53224841e-08,  1.78762314e-08],\n",
       "         [ 5.10749469e-09,  1.78762314e-08,  2.80912208e-08]],\n",
       " \n",
       "        [[ 0.00000000e+00,  2.61925216e-09,  5.23850433e-09],\n",
       "         [ 2.61925216e-09,  1.57155130e-08,  1.83347651e-08],\n",
       "         [ 5.23850433e-09,  1.83347651e-08,  2.88117738e-08]],\n",
       " \n",
       "        [[ 0.00000000e+00,  2.67623033e-09,  5.35246066e-09],\n",
       "         [ 2.67623033e-09,  1.60573820e-08,  1.87336123e-08],\n",
       "         [ 5.35246066e-09,  1.87336123e-08,  2.94385336e-08]]]))"
      ]
     },
     "execution_count": 91,
     "metadata": {},
     "output_type": "execute_result"
    }
   ],
   "source": [
    "cov_XYZ = M.covXYZ(evaluation_times)\n",
    "cov_XYZ.shape, cov_XYZ"
   ]
  },
  {
   "cell_type": "markdown",
   "metadata": {},
   "source": [
    "### CoV Matrix for RA,Dec\n",
    "- https://iopscience.iop.org/article/10.1086/316868/pdf\n",
    "\n",
    "$\\Sigma_{\\bf\\theta} = \\left[\\frac{d\\theta({\\bf\\alpha},t)}{d{\\bf\\alpha}}\\right]^T  \\Sigma_{\\bf\\alpha}  \\left[\\frac{d\\theta({\\bf\\alpha},t)}{d{\\bf\\alpha}}\\right]$ \n",
    "\n",
    "$\\Sigma_{(R,D)} = \\left[\\frac{d(R,D)({(X,Y,Z)},t)}{d{(X,Y,Z)}}\\right]^T  \\Sigma_{(X,Y,Z)}  \\left[\\frac{d(R,D)({(X,Y,Z)},t)}{d{(X,Y,Z)}}\\right]$ \n"
   ]
  },
  {
   "cell_type": "code",
   "execution_count": 92,
   "metadata": {},
   "outputs": [
    {
     "data": {
      "text/plain": [
       "(array([[-3.89651289e-06,  2.29448957e-06],\n",
       "        [ 2.29448957e-06, -1.74031132e-06]]),\n",
       " array([[1.53067798e-05, 8.94465387e-06],\n",
       "        [8.94465387e-06, 7.08768126e-06]]))"
      ]
     },
     "execution_count": 92,
     "metadata": {},
     "output_type": "execute_result"
    }
   ],
   "source": [
    "# Explicitly evaluate the first & last components we expect ...\n",
    "np.linalg.multi_dot([dRD[0].T , cov_XYZ[0], dRD[0]]) ,  np.linalg.multi_dot([dRD[-1].T , cov_XYZ[-1], dRD[-1]])"
   ]
  },
  {
   "cell_type": "code",
   "execution_count": 93,
   "metadata": {},
   "outputs": [
    {
     "name": "stdout",
     "output_type": "stream",
     "text": [
      "CPU times: user 13.1 ms, sys: 2.23 ms, total: 15.3 ms\n",
      "Wall time: 13.3 ms\n"
     ]
    },
    {
     "data": {
      "text/plain": [
       "(array([[-3.89651289e-06,  2.29448957e-06],\n",
       "        [ 2.29448957e-06, -1.74031132e-06]]),\n",
       " array([[1.53067798e-05, 8.94465387e-06],\n",
       "        [8.94465387e-06, 7.08768126e-06]]),\n",
       " (10, 2, 2))"
      ]
     },
     "execution_count": 93,
     "metadata": {},
     "output_type": "execute_result"
    }
   ],
   "source": [
    "%%time \n",
    "# Evaluate using the standard functionality\n",
    "cov_RD = M.covRaDec(evaluation_times, XYZobservatory_equatorial)\n",
    "cov_RD[0], cov_RD[-1] , cov_RD.shape"
   ]
  }
 ],
 "metadata": {
  "kernelspec": {
   "display_name": "Python 3",
   "language": "python",
   "name": "python3"
  },
  "language_info": {
   "codemirror_mode": {
    "name": "ipython",
    "version": 3
   },
   "file_extension": ".py",
   "mimetype": "text/x-python",
   "name": "python",
   "nbconvert_exporter": "python",
   "pygments_lexer": "ipython3",
   "version": "3.7.6"
  }
 },
 "nbformat": 4,
 "nbformat_minor": 2
}
